{
 "cells": [
  {
   "cell_type": "markdown",
   "metadata": {},
   "source": [
    "# <center>Cassava Leaf Disease Classification</center>\n",
    "# ![image](https://previews.123rf.com/images/bugning/bugning1307/bugning130700289/21226772-cassava.jpg)"
   ]
  },
  {
   "cell_type": "markdown",
   "metadata": {},
   "source": [
    "## Contents:\n",
    "\n",
    "- [About competition](#section-one)\n",
    "- [Exploratory Data Analysis](#section-two)\n",
    " - [Class Distribution](#subsection-one)\n",
    " - [Sample Images](#subsection-two)\n",
    " - [Height, Width and Aspect ratio for all diseases](#subsection-three)\n",
    " - [Outlier Detection using Mean and Variance](#subsection-four)\n",
    "   - [CBB](#outlier-ss-1)  \n",
    "   - [CMD](#outlier-ss-2)  \n",
    "   - [CMSD](#outlier-ss-3)\n",
    "   - [CGM](#outlier-ss-4)\n",
    "   - [Healthy](#outlier-ss-5)\n",
    "  \n",
    " - [Outlier detection using K-means Clustering](#subsection-five)\n",
    " - [Feature Extraction](#section-six)\n",
    "- [Next Steps](#section-three)"
   ]
  },
  {
   "cell_type": "markdown",
   "metadata": {},
   "source": [
    "<a id=\"section-one\"> </a>\n",
    "## About Competition\n",
    "\n",
    "Cassava, or Manihot esculenta, belongs to the family Euphorbiaceae and is cultivated in tropical and subtropical regions for its edible starchy tuberous root, which is commonly dried into a powder and named tapioca.\n",
    "\n",
    "As the second-largest provider of carbohydrates in Africa, cassava is a key food security crop grown by smallholder farmers because it can withstand harsh conditions. At least 80% of household farms in Sub-Saharan Africa grow this starchy root, but viral diseases are major sources of poor yields. With the help of data science, it may be possible to identify common diseases so they can be treated.\n",
    "\n",
    "Existing methods of disease detection require farmers to solicit the help of government-funded agricultural experts to visually inspect and diagnose the plants. This suffers from being labor-intensive, low-supply and costly. As an added challenge, effective solutions for farmers must perform well under significant constraints, since African farmers may only have access to mobile-quality cameras with low-bandwidth.\n",
    "\n",
    "In this competition, we introduce a dataset of 21,367 labeled images collected during a regular survey in Uganda. Most images were crowdsourced from farmers taking photos of their gardens, and annotated by experts at the National Crops Resources Research Institute (NaCRRI) in collaboration with the AI lab at Makerere University, Kampala. This is in a format that most realistically represents what farmers would need to diagnose in real life.\n",
    "\n",
    "### HEALTH BENEFITS\n",
    "\n",
    "Tapioca has been associated with some health benefits, such as **healthy weight gain, increased red blood cell count, improved digestion, preventing diabetes, protecting bone mineral density, preventing Alzheimer’s disease and maintaining fluid balance within the body.**\n",
    "\n",
    "### EVALUATION\n",
    "**$$Accuracy=\\frac{TP + TN}{TP + FP + TN + FN}$$**\n",
    "\n",
    "where,  \n",
    " - TP: True Positive\n",
    " - FP: False Positive\n",
    " - TN: True Negative\n",
    " - FN: False Negative"
   ]
  },
  {
   "cell_type": "markdown",
   "metadata": {},
   "source": [
    "<a id=\"section-two\"></a>\n",
    "## Exploratory Data Analysis"
   ]
  },
  {
   "cell_type": "code",
   "execution_count": 1,
   "metadata": {},
   "outputs": [],
   "source": [
    "!pip install -q imutils"
   ]
  },
  {
   "cell_type": "code",
   "execution_count": 2,
   "metadata": {
    "_cell_guid": "b1076dfc-b9ad-4769-8c92-a6c4dae69d19",
    "_uuid": "8f2839f25d086af736a60e9eeb907d3b93b6e0e5"
   },
   "outputs": [],
   "source": [
    "import pandas as pd\n",
    "import numpy as np\n",
    "import os,json\n",
    "from tqdm.notebook import tqdm\n",
    "import time\n",
    "\n",
    "#for graphs and images\n",
    "import plotly.graph_objects as go\n",
    "from plotly.subplots import make_subplots\n",
    "import plotly.figure_factory as ff\n",
    "import seaborn as sns\n",
    "import matplotlib.pyplot as plt\n",
    "import cv2,imutils\n",
    "\n",
    "#k-means\n",
    "from scipy.cluster.vq import kmeans,whiten\n",
    "from scipy.stats import zscore\n",
    "\n",
    "#pytorch(feature-extraction)\n",
    "from torchvision import models\n",
    "import torch\n",
    "\n",
    "from albumentations import *\n",
    "from albumentations.pytorch import ToTensor\n",
    "\n",
    "#train_valid split\n",
    "from sklearn.model_selection import train_test_split\n",
    "from sklearn.decomposition import PCA\n",
    "from sklearn.manifold import TSNE"
   ]
  },
  {
   "cell_type": "code",
   "execution_count": 3,
   "metadata": {},
   "outputs": [],
   "source": [
    "input_path = './input/cassava-leaf-disease-classification/'"
   ]
  },
  {
   "cell_type": "code",
   "execution_count": 4,
   "metadata": {},
   "outputs": [
    {
     "ename": "FileNotFoundError",
     "evalue": "[Errno 2] No such file or directory: '../input/cassava-leaf-disease-classification/train.csv'",
     "output_type": "error",
     "traceback": [
      "\u001b[0;31m---------------------------------------------------------------------------\u001b[0m",
      "\u001b[0;31mFileNotFoundError\u001b[0m                         Traceback (most recent call last)",
      "\u001b[0;32m<ipython-input-4-e82e78d57602>\u001b[0m in \u001b[0;36m<module>\u001b[0;34m\u001b[0m\n\u001b[1;32m      1\u001b[0m \u001b[0;31m#reading the train.csv file\u001b[0m\u001b[0;34m\u001b[0m\u001b[0;34m\u001b[0m\u001b[0;34m\u001b[0m\u001b[0m\n\u001b[0;32m----> 2\u001b[0;31m \u001b[0mtrain_df\u001b[0m \u001b[0;34m=\u001b[0m \u001b[0mpd\u001b[0m\u001b[0;34m.\u001b[0m\u001b[0mread_csv\u001b[0m\u001b[0;34m(\u001b[0m\u001b[0minput_path\u001b[0m\u001b[0;34m+\u001b[0m\u001b[0;34m'train.csv'\u001b[0m\u001b[0;34m)\u001b[0m\u001b[0;34m\u001b[0m\u001b[0;34m\u001b[0m\u001b[0m\n\u001b[0m\u001b[1;32m      3\u001b[0m \u001b[0mprint\u001b[0m\u001b[0;34m(\u001b[0m\u001b[0mtrain_df\u001b[0m\u001b[0;34m.\u001b[0m\u001b[0mshape\u001b[0m\u001b[0;34m)\u001b[0m\u001b[0;34m\u001b[0m\u001b[0;34m\u001b[0m\u001b[0m\n",
      "\u001b[0;32m~/anaconda3/envs/kaggle/lib/python3.8/site-packages/pandas/io/parsers.py\u001b[0m in \u001b[0;36mread_csv\u001b[0;34m(filepath_or_buffer, sep, delimiter, header, names, index_col, usecols, squeeze, prefix, mangle_dupe_cols, dtype, engine, converters, true_values, false_values, skipinitialspace, skiprows, skipfooter, nrows, na_values, keep_default_na, na_filter, verbose, skip_blank_lines, parse_dates, infer_datetime_format, keep_date_col, date_parser, dayfirst, cache_dates, iterator, chunksize, compression, thousands, decimal, lineterminator, quotechar, quoting, doublequote, escapechar, comment, encoding, dialect, error_bad_lines, warn_bad_lines, delim_whitespace, low_memory, memory_map, float_precision, storage_options)\u001b[0m\n\u001b[1;32m    603\u001b[0m     \u001b[0mkwds\u001b[0m\u001b[0;34m.\u001b[0m\u001b[0mupdate\u001b[0m\u001b[0;34m(\u001b[0m\u001b[0mkwds_defaults\u001b[0m\u001b[0;34m)\u001b[0m\u001b[0;34m\u001b[0m\u001b[0;34m\u001b[0m\u001b[0m\n\u001b[1;32m    604\u001b[0m \u001b[0;34m\u001b[0m\u001b[0m\n\u001b[0;32m--> 605\u001b[0;31m     \u001b[0;32mreturn\u001b[0m \u001b[0m_read\u001b[0m\u001b[0;34m(\u001b[0m\u001b[0mfilepath_or_buffer\u001b[0m\u001b[0;34m,\u001b[0m \u001b[0mkwds\u001b[0m\u001b[0;34m)\u001b[0m\u001b[0;34m\u001b[0m\u001b[0;34m\u001b[0m\u001b[0m\n\u001b[0m\u001b[1;32m    606\u001b[0m \u001b[0;34m\u001b[0m\u001b[0m\n\u001b[1;32m    607\u001b[0m \u001b[0;34m\u001b[0m\u001b[0m\n",
      "\u001b[0;32m~/anaconda3/envs/kaggle/lib/python3.8/site-packages/pandas/io/parsers.py\u001b[0m in \u001b[0;36m_read\u001b[0;34m(filepath_or_buffer, kwds)\u001b[0m\n\u001b[1;32m    455\u001b[0m \u001b[0;34m\u001b[0m\u001b[0m\n\u001b[1;32m    456\u001b[0m     \u001b[0;31m# Create the parser.\u001b[0m\u001b[0;34m\u001b[0m\u001b[0;34m\u001b[0m\u001b[0;34m\u001b[0m\u001b[0m\n\u001b[0;32m--> 457\u001b[0;31m     \u001b[0mparser\u001b[0m \u001b[0;34m=\u001b[0m \u001b[0mTextFileReader\u001b[0m\u001b[0;34m(\u001b[0m\u001b[0mfilepath_or_buffer\u001b[0m\u001b[0;34m,\u001b[0m \u001b[0;34m**\u001b[0m\u001b[0mkwds\u001b[0m\u001b[0;34m)\u001b[0m\u001b[0;34m\u001b[0m\u001b[0;34m\u001b[0m\u001b[0m\n\u001b[0m\u001b[1;32m    458\u001b[0m \u001b[0;34m\u001b[0m\u001b[0m\n\u001b[1;32m    459\u001b[0m     \u001b[0;32mif\u001b[0m \u001b[0mchunksize\u001b[0m \u001b[0;32mor\u001b[0m \u001b[0miterator\u001b[0m\u001b[0;34m:\u001b[0m\u001b[0;34m\u001b[0m\u001b[0;34m\u001b[0m\u001b[0m\n",
      "\u001b[0;32m~/anaconda3/envs/kaggle/lib/python3.8/site-packages/pandas/io/parsers.py\u001b[0m in \u001b[0;36m__init__\u001b[0;34m(self, f, engine, **kwds)\u001b[0m\n\u001b[1;32m    812\u001b[0m             \u001b[0mself\u001b[0m\u001b[0;34m.\u001b[0m\u001b[0moptions\u001b[0m\u001b[0;34m[\u001b[0m\u001b[0;34m\"has_index_names\"\u001b[0m\u001b[0;34m]\u001b[0m \u001b[0;34m=\u001b[0m \u001b[0mkwds\u001b[0m\u001b[0;34m[\u001b[0m\u001b[0;34m\"has_index_names\"\u001b[0m\u001b[0;34m]\u001b[0m\u001b[0;34m\u001b[0m\u001b[0;34m\u001b[0m\u001b[0m\n\u001b[1;32m    813\u001b[0m \u001b[0;34m\u001b[0m\u001b[0m\n\u001b[0;32m--> 814\u001b[0;31m         \u001b[0mself\u001b[0m\u001b[0;34m.\u001b[0m\u001b[0m_engine\u001b[0m \u001b[0;34m=\u001b[0m \u001b[0mself\u001b[0m\u001b[0;34m.\u001b[0m\u001b[0m_make_engine\u001b[0m\u001b[0;34m(\u001b[0m\u001b[0mself\u001b[0m\u001b[0;34m.\u001b[0m\u001b[0mengine\u001b[0m\u001b[0;34m)\u001b[0m\u001b[0;34m\u001b[0m\u001b[0;34m\u001b[0m\u001b[0m\n\u001b[0m\u001b[1;32m    815\u001b[0m \u001b[0;34m\u001b[0m\u001b[0m\n\u001b[1;32m    816\u001b[0m     \u001b[0;32mdef\u001b[0m \u001b[0mclose\u001b[0m\u001b[0;34m(\u001b[0m\u001b[0mself\u001b[0m\u001b[0;34m)\u001b[0m\u001b[0;34m:\u001b[0m\u001b[0;34m\u001b[0m\u001b[0;34m\u001b[0m\u001b[0m\n",
      "\u001b[0;32m~/anaconda3/envs/kaggle/lib/python3.8/site-packages/pandas/io/parsers.py\u001b[0m in \u001b[0;36m_make_engine\u001b[0;34m(self, engine)\u001b[0m\n\u001b[1;32m   1043\u001b[0m             )\n\u001b[1;32m   1044\u001b[0m         \u001b[0;31m# error: Too many arguments for \"ParserBase\"\u001b[0m\u001b[0;34m\u001b[0m\u001b[0;34m\u001b[0m\u001b[0;34m\u001b[0m\u001b[0m\n\u001b[0;32m-> 1045\u001b[0;31m         \u001b[0;32mreturn\u001b[0m \u001b[0mmapping\u001b[0m\u001b[0;34m[\u001b[0m\u001b[0mengine\u001b[0m\u001b[0;34m]\u001b[0m\u001b[0;34m(\u001b[0m\u001b[0mself\u001b[0m\u001b[0;34m.\u001b[0m\u001b[0mf\u001b[0m\u001b[0;34m,\u001b[0m \u001b[0;34m**\u001b[0m\u001b[0mself\u001b[0m\u001b[0;34m.\u001b[0m\u001b[0moptions\u001b[0m\u001b[0;34m)\u001b[0m  \u001b[0;31m# type: ignore[call-arg]\u001b[0m\u001b[0;34m\u001b[0m\u001b[0;34m\u001b[0m\u001b[0m\n\u001b[0m\u001b[1;32m   1046\u001b[0m \u001b[0;34m\u001b[0m\u001b[0m\n\u001b[1;32m   1047\u001b[0m     \u001b[0;32mdef\u001b[0m \u001b[0m_failover_to_python\u001b[0m\u001b[0;34m(\u001b[0m\u001b[0mself\u001b[0m\u001b[0;34m)\u001b[0m\u001b[0;34m:\u001b[0m\u001b[0;34m\u001b[0m\u001b[0;34m\u001b[0m\u001b[0m\n",
      "\u001b[0;32m~/anaconda3/envs/kaggle/lib/python3.8/site-packages/pandas/io/parsers.py\u001b[0m in \u001b[0;36m__init__\u001b[0;34m(self, src, **kwds)\u001b[0m\n\u001b[1;32m   1860\u001b[0m \u001b[0;34m\u001b[0m\u001b[0m\n\u001b[1;32m   1861\u001b[0m         \u001b[0;31m# open handles\u001b[0m\u001b[0;34m\u001b[0m\u001b[0;34m\u001b[0m\u001b[0;34m\u001b[0m\u001b[0m\n\u001b[0;32m-> 1862\u001b[0;31m         \u001b[0mself\u001b[0m\u001b[0;34m.\u001b[0m\u001b[0m_open_handles\u001b[0m\u001b[0;34m(\u001b[0m\u001b[0msrc\u001b[0m\u001b[0;34m,\u001b[0m \u001b[0mkwds\u001b[0m\u001b[0;34m)\u001b[0m\u001b[0;34m\u001b[0m\u001b[0;34m\u001b[0m\u001b[0m\n\u001b[0m\u001b[1;32m   1863\u001b[0m         \u001b[0;32massert\u001b[0m \u001b[0mself\u001b[0m\u001b[0;34m.\u001b[0m\u001b[0mhandles\u001b[0m \u001b[0;32mis\u001b[0m \u001b[0;32mnot\u001b[0m \u001b[0;32mNone\u001b[0m\u001b[0;34m\u001b[0m\u001b[0;34m\u001b[0m\u001b[0m\n\u001b[1;32m   1864\u001b[0m         \u001b[0;32mfor\u001b[0m \u001b[0mkey\u001b[0m \u001b[0;32min\u001b[0m \u001b[0;34m(\u001b[0m\u001b[0;34m\"storage_options\"\u001b[0m\u001b[0;34m,\u001b[0m \u001b[0;34m\"encoding\"\u001b[0m\u001b[0;34m,\u001b[0m \u001b[0;34m\"memory_map\"\u001b[0m\u001b[0;34m,\u001b[0m \u001b[0;34m\"compression\"\u001b[0m\u001b[0;34m)\u001b[0m\u001b[0;34m:\u001b[0m\u001b[0;34m\u001b[0m\u001b[0;34m\u001b[0m\u001b[0m\n",
      "\u001b[0;32m~/anaconda3/envs/kaggle/lib/python3.8/site-packages/pandas/io/parsers.py\u001b[0m in \u001b[0;36m_open_handles\u001b[0;34m(self, src, kwds)\u001b[0m\n\u001b[1;32m   1355\u001b[0m         \u001b[0mLet\u001b[0m \u001b[0mthe\u001b[0m \u001b[0mreaders\u001b[0m \u001b[0mopen\u001b[0m \u001b[0mIOHanldes\u001b[0m \u001b[0mafter\u001b[0m \u001b[0mthey\u001b[0m \u001b[0mare\u001b[0m \u001b[0mdone\u001b[0m \u001b[0;32mwith\u001b[0m \u001b[0mtheir\u001b[0m \u001b[0mpotential\u001b[0m \u001b[0mraises\u001b[0m\u001b[0;34m.\u001b[0m\u001b[0;34m\u001b[0m\u001b[0;34m\u001b[0m\u001b[0m\n\u001b[1;32m   1356\u001b[0m         \"\"\"\n\u001b[0;32m-> 1357\u001b[0;31m         self.handles = get_handle(\n\u001b[0m\u001b[1;32m   1358\u001b[0m             \u001b[0msrc\u001b[0m\u001b[0;34m,\u001b[0m\u001b[0;34m\u001b[0m\u001b[0;34m\u001b[0m\u001b[0m\n\u001b[1;32m   1359\u001b[0m             \u001b[0;34m\"r\"\u001b[0m\u001b[0;34m,\u001b[0m\u001b[0;34m\u001b[0m\u001b[0;34m\u001b[0m\u001b[0m\n",
      "\u001b[0;32m~/anaconda3/envs/kaggle/lib/python3.8/site-packages/pandas/io/common.py\u001b[0m in \u001b[0;36mget_handle\u001b[0;34m(path_or_buf, mode, encoding, compression, memory_map, is_text, errors, storage_options)\u001b[0m\n\u001b[1;32m    640\u001b[0m                 \u001b[0merrors\u001b[0m \u001b[0;34m=\u001b[0m \u001b[0;34m\"replace\"\u001b[0m\u001b[0;34m\u001b[0m\u001b[0;34m\u001b[0m\u001b[0m\n\u001b[1;32m    641\u001b[0m             \u001b[0;31m# Encoding\u001b[0m\u001b[0;34m\u001b[0m\u001b[0;34m\u001b[0m\u001b[0;34m\u001b[0m\u001b[0m\n\u001b[0;32m--> 642\u001b[0;31m             handle = open(\n\u001b[0m\u001b[1;32m    643\u001b[0m                 \u001b[0mhandle\u001b[0m\u001b[0;34m,\u001b[0m\u001b[0;34m\u001b[0m\u001b[0;34m\u001b[0m\u001b[0m\n\u001b[1;32m    644\u001b[0m                 \u001b[0mioargs\u001b[0m\u001b[0;34m.\u001b[0m\u001b[0mmode\u001b[0m\u001b[0;34m,\u001b[0m\u001b[0;34m\u001b[0m\u001b[0;34m\u001b[0m\u001b[0m\n",
      "\u001b[0;31mFileNotFoundError\u001b[0m: [Errno 2] No such file or directory: '../input/cassava-leaf-disease-classification/train.csv'"
     ]
    }
   ],
   "source": [
    "#reading the train.csv file\n",
    "train_df = pd.read_csv(input_path+'train.csv')\n",
    "print(train_df.shape)"
   ]
  },
  {
   "cell_type": "code",
   "execution_count": null,
   "metadata": {},
   "outputs": [],
   "source": [
    "#maping the class labels mentioned in json file wiht its respective disease name\n",
    "disease_names = open(input_path+'label_num_to_disease_map.json')\n",
    "disease_names = json.load(disease_names)\n",
    "train_df['disease_name'] = train_df['label'].apply(lambda x: disease_names[str(x)])\n",
    "#visualize the top five rows from table\n",
    "train_df.head()"
   ]
  },
  {
   "cell_type": "markdown",
   "metadata": {},
   "source": [
    "<a id='subsection-one'></a>\n",
    "### Class Labels Distribution"
   ]
  },
  {
   "cell_type": "code",
   "execution_count": null,
   "metadata": {
    "_kg_hide-input": true
   },
   "outputs": [],
   "source": [
    "fig = make_subplots(rows=1, cols=2,\n",
    "            specs=[[{\"type\": \"xy\"}, {\"type\": \"domain\"}]],)\n",
    "# value_counts: to count number of images in each class with respect to disease_name column\n",
    "# Bar plot \n",
    "t1 = go.Bar(x=train_df['disease_name'].value_counts().index, \n",
    "            y=train_df['disease_name'].value_counts().values,\n",
    "            text=train_df['disease_name'].value_counts().values,\n",
    "            textposition='auto',name='Count',\n",
    "           marker_color='indianred')\n",
    "#Pie chart with labels and counts\n",
    "t2 = go.Pie(labels=train_df['disease_name'].value_counts().index,\n",
    "           values=train_df['disease_name'].value_counts().values,\n",
    "           hole=0.3)\n",
    "fig.add_trace(t1,row=1, col=1)\n",
    "fig.add_trace(t2,row=1, col=2)\n",
    "fig.update_layout(title='Distribution of Class Labels')\n",
    "fig.show()"
   ]
  },
  {
   "cell_type": "markdown",
   "metadata": {},
   "source": [
    "<a id=\"subsection-two\"></a>\n",
    "### Sample Images from each class"
   ]
  },
  {
   "cell_type": "code",
   "execution_count": null,
   "metadata": {
    "_kg_hide-input": true
   },
   "outputs": [],
   "source": [
    "#random seed is used to replicate the same images in every run\n",
    "np.random.seed(2020)\n",
    "#plotting 5 random samples for each class with image name and disease name as title\n",
    "for class_name in train_df['disease_name'].unique():\n",
    "    plt.figure(figsize=(20,50))\n",
    "    for idx,img_name in enumerate(np.random.choice(train_df[train_df['disease_name'] == class_name]['image_id'].values,\n",
    "                                                   size=5,replace=False)):\n",
    "        plt.subplot(1,5,idx+1)\n",
    "        #reading the image and converting BGR color space to RGB\n",
    "        img = cv2.cvtColor(cv2.imread(input_path+'train_images/'+img_name), cv2.COLOR_BGR2RGB)\n",
    "        plt.imshow(img)\n",
    "        plt.axis('off')\n",
    "        plt.title(r\"$\\bf{\"+class_name + \"}$\"+'\\n'+img_name )\n",
    "    plt.show()"
   ]
  },
  {
   "cell_type": "markdown",
   "metadata": {},
   "source": [
    "<a id=\"subsection-three\"></a>\n",
    "### Height, Width and Aspect ratio for all diseases"
   ]
  },
  {
   "cell_type": "markdown",
   "metadata": {},
   "source": [
    "Check for the distribution of image size. which inturn will be helpful for defining the model Input shape.\n",
    "\n",
    " - In this dataset the image size (600 x 800) is same for all the images"
   ]
  },
  {
   "cell_type": "code",
   "execution_count": null,
   "metadata": {},
   "outputs": [],
   "source": [
    "for idx in tqdm(train_df.index):\n",
    "    img_name = train_df.loc[idx,'image_id']\n",
    "    #reading the image and converting BGR color space to RGB\n",
    "    img = cv2.cvtColor(cv2.imread(input_path+'train_images/'+img_name), cv2.COLOR_BGR2RGB)\n",
    "    \n",
    "    #normalize the image in the range [0,1]\n",
    "    norm_image = cv2.normalize(img, None, alpha=0, beta=1, norm_type=cv2.NORM_MINMAX, dtype=cv2.CV_32F)\n",
    "    \n",
    "    width,height,depth = img.shape\n",
    "    \n",
    "    #adding new column to the tabel with width height and aspect ratio for every image\n",
    "    train_df.loc[idx,'Width'] = width\n",
    "    train_df.loc[idx,'Height'] = height\n",
    "    train_df.loc[idx,'Aspect Ratio'] = width/height\n",
    "    \n",
    "    #calculate mean and standart deviation for each image\n",
    "    train_df.loc[idx,'Mean'] = img.mean()\n",
    "    train_df.loc[idx,'SD'] = img.std()\n",
    "    \n",
    "    #calculate mean and standart deviation for each normalized image\n",
    "    train_df.loc[idx,'Normalized_Mean'] = norm_image.mean()\n",
    "    train_df.loc[idx,'Normalized_SD'] = norm_image.std()"
   ]
  },
  {
   "cell_type": "markdown",
   "metadata": {},
   "source": [
    "<a id=\"subsection-four\"></a>\n",
    "### Outlier Detection using Mean and Standard Deviation"
   ]
  },
  {
   "cell_type": "code",
   "execution_count": null,
   "metadata": {
    "_kg_hide-input": true
   },
   "outputs": [],
   "source": [
    "fig =  make_subplots(rows=2,cols=1,subplot_titles=['Original Image', 'Normalized Image'])\n",
    "colors = ['rgb(13, 200, 58)','rgb(13, 160, 200)','rgb(190, 81, 249)','rgb(248, 104, 73)','rgb(243, 247, 15)']\n",
    "for idx,class_name in enumerate(train_df['disease_name'].unique()):\n",
    "    #scatter plot between mean and variance of the images for every disease\n",
    "    fig.add_trace(go.Scatter(x=train_df[train_df['disease_name'] == class_name]['Mean'],\n",
    "                             y=train_df[train_df['disease_name'] == class_name]['SD'],\n",
    "                            mode = 'markers',name=class_name,\n",
    "                            marker_color=colors[idx]),1,1)\n",
    "    \n",
    "    #scatter plot between mean and variance of the normalized images for every disease\n",
    "    fig.add_trace(go.Scatter(x=train_df[train_df['disease_name'] == class_name]['Normalized_Mean'],\n",
    "                             y=train_df[train_df['disease_name'] == class_name]['Normalized_SD'],\n",
    "                            mode = 'markers',name=class_name,\n",
    "                            marker_color=colors[idx], showlegend=False),2,1)\n",
    "#x-axis and y axis title\n",
    "fig.update_xaxes(title_text=\"Mean\", row=1, col=1)\n",
    "fig.update_yaxes(title_text=\"Standard Deviation\", row=1, col=1)\n",
    "\n",
    "fig.update_xaxes(title_text=\"Mean\", row=2, col=1)\n",
    "fig.update_yaxes(title_text=\"Standard Deviation\", row=2, col=1)\n",
    "fig.show()\n",
    "    "
   ]
  },
  {
   "cell_type": "markdown",
   "metadata": {},
   "source": [
    "**From the Scatter Plot,** \n",
    "\n",
    "- it is very clear that there are **outliers in dataset** with mean greater than 0.7 and less than 0.15. But to have a clear picture of outliers for each class will use **Box Plot**"
   ]
  },
  {
   "cell_type": "code",
   "execution_count": null,
   "metadata": {
    "_kg_hide-input": true
   },
   "outputs": [],
   "source": [
    "fig = make_subplots(rows=2,cols=2,\n",
    "                    subplot_titles=['Mean','Standard Deviation','Normalized Mean','Normalized Standard Deviation'],\n",
    "                    shared_xaxes=True)\n",
    "colors = ['rgb(13, 200, 58)','rgb(13, 160, 200)','rgb(190, 81, 249)','rgb(248, 104, 73)','rgb(243, 247, 15)']\n",
    "for idx,class_name in enumerate(train_df['disease_name'].unique()):\n",
    "    fig.add_trace(go.Box(y=train_df[train_df['disease_name'] == class_name]['Mean'],\n",
    "                        name=class_name,showlegend=False,\n",
    "                        marker_color=colors[idx]),1,1)\n",
    "    fig.add_trace(go.Box(y=train_df[train_df['disease_name'] == class_name]['Normalized_Mean'],\n",
    "                        name=class_name,showlegend=False,\n",
    "                        marker_color=colors[idx]),2,1)\n",
    "    fig.add_trace(go.Box(y=train_df[train_df['disease_name'] == class_name]['SD'],\n",
    "                        name=class_name,showlegend=False,\n",
    "                        marker_color=colors[idx]),1,2)\n",
    "    fig.add_trace(go.Box(y=train_df[train_df['disease_name'] == class_name]['Normalized_SD'],\n",
    "                        name=class_name,showlegend=False,\n",
    "                        marker_color=colors[idx]),2,2)\n",
    "fig.update_layout(title='Outlier Detection - Box Plot')\n",
    "fig.show()"
   ]
  },
  {
   "cell_type": "markdown",
   "metadata": {},
   "source": [
    "<a id=\"outlier-ss-1\"></a>\n",
    "#### Outliers in Cassava Bacterial Blight (CBB)"
   ]
  },
  {
   "cell_type": "code",
   "execution_count": null,
   "metadata": {},
   "outputs": [],
   "source": [
    "#filtering only Cassava Bacterial Blight (CBB) class from original data\n",
    "CBB  = train_df[train_df['disease_name'] ==  'Cassava Bacterial Blight (CBB)']\n",
    "print('Number of Images in Cassava Bacterial Blight (CBB) Class: '+str(len(CBB)))\n",
    "\n",
    "#filtering the CBB data for which mean is between -0.85e-6 and 0.820e-6(observation from box plot)\n",
    "outliers_CBB = CBB[CBB['Normalized_Mean'].between(0.17,0.58,inclusive=True)]\n",
    "# filter only the rows which are not in above list of images\n",
    "outliers_CBB = CBB[~CBB['image_id'].isin(outliers_CBB['image_id'])]\n",
    "print('Number of Outlier Images in Cassava Bacterial Blight (CBB) Class: '+str(len(outliers_CBB))+'\\n')\n",
    "print(input_path+'train_images/'+outliers_CBB['image_id'].astype(str).values)"
   ]
  },
  {
   "cell_type": "code",
   "execution_count": null,
   "metadata": {},
   "outputs": [],
   "source": [
    "c = 0\n",
    "#plot all the outlier images based on Mean value\n",
    "for i,idx in enumerate(outliers_CBB.index):\n",
    "    # a condition a change the row number in subplot\n",
    "    if int(i/3) == c:\n",
    "        c+=1\n",
    "        plt.figure(figsize=(25,30))\n",
    "    plt.subplot(c,3,i%3+1)\n",
    "    img_name = outliers_CBB.loc[idx,'image_id']\n",
    "    img = cv2.cvtColor(cv2.imread(os.path.join(input_path,'train_images',img_name)),cv2.COLOR_BGR2RGB)\n",
    "    plt.imshow(img)\n",
    "    plt.title(img_name+'\\n'+'Mean: '+ str(outliers_CBB.loc[idx,'Normalized_Mean'].round(2)) + '\\n'+\\\n",
    "              'Standard Deviation: '+str(outliers_CBB.loc[idx,'Normalized_SD'].round(2)))\n",
    "    plt.axis('off')\n",
    "plt.show()"
   ]
  },
  {
   "cell_type": "markdown",
   "metadata": {},
   "source": [
    "<a id=\"outlier-ss-2\"></a>\n",
    "#### Outliers in 'Cassava Mosaic Disease (CMD)'"
   ]
  },
  {
   "cell_type": "code",
   "execution_count": null,
   "metadata": {},
   "outputs": [],
   "source": [
    "#filtering only Cassava Mosaic Disease (CMD) class from original data\n",
    "CMD  = train_df[train_df['disease_name'] ==  'Cassava Mosaic Disease (CMD)']\n",
    "print('Number of Images in Cassava Mosaic Disease (CMD) Class: '+str(len(CMD)))\n",
    "\n",
    "#filtering the CMD data for which Mean is between 0.19 and 0.64(observation from box plot)\n",
    "outliers_CMD = CMD[CMD['Normalized_Mean'].between(0.19,0.64,inclusive=True)]\n",
    "# filter only the rows which are not in above list of images\n",
    "outliers_CMD = CMD[~CMD['image_id'].isin(outliers_CMD['image_id'])]\n",
    "print('Number of Outlier Images in Cassava Mosaic Disease (CMD) Class: '+str(len(outliers_CMD))+'\\n')\n",
    "print(input_path+'train_images/'+outliers_CMD['image_id'].values)"
   ]
  },
  {
   "cell_type": "code",
   "execution_count": null,
   "metadata": {},
   "outputs": [],
   "source": [
    "c = 0\n",
    "#plot all the outlier images based on Mean value\n",
    "for i,idx in enumerate(outliers_CMD.index):\n",
    "    # a condition a change the row number in subplot\n",
    "    if int(i/3) == c:\n",
    "        c+=1\n",
    "        plt.figure(figsize=(25,30))\n",
    "    plt.subplot(c,3,i%6+1)\n",
    "    img_name = outliers_CMD.loc[idx,'image_id']\n",
    "    img = cv2.cvtColor(cv2.imread(os.path.join(input_path,'train_images',img_name)),cv2.COLOR_BGR2RGB)\n",
    "    plt.imshow(img)\n",
    "    plt.title(img_name+'\\n'+'Mean: '+ str(outliers_CMD.loc[idx,'Normalized_Mean'].round(2)) + '\\n'+\\\n",
    "              'Standard Deviation: '+str(outliers_CMD.loc[idx,'Normalized_SD'].round(2))+ '\\n')\n",
    "    plt.axis('off')\n",
    "plt.show()"
   ]
  },
  {
   "cell_type": "markdown",
   "metadata": {},
   "source": [
    "<a id=\"outlier-ss-3\"></a>\n",
    "#### Outliers in 'Cassava Brown Streak Disease (CBSD)'"
   ]
  },
  {
   "cell_type": "code",
   "execution_count": null,
   "metadata": {},
   "outputs": [],
   "source": [
    "#filtering only  'Cassava Brown Streak Disease (CBSD)' class from original data\n",
    "CBSD  = train_df[train_df['disease_name'] ==   'Cassava Brown Streak Disease (CBSD)']\n",
    "print('Number of Images in  Cassava Brown Streak Disease (CBSD) Class: '+str(len(CBSD)))\n",
    "\n",
    "#filtering the CBSD data for which Normalized Mean is between 0.158 and 0.64(observation from box plot)\n",
    "outliers_CBSD = CBSD[CBSD['Normalized_Mean'].between(0.158,0.64,inclusive=True)]\n",
    "# filter only the rows which are not in above list of images\n",
    "outliers_CBSD = CBSD[~CBSD['image_id'].isin(outliers_CBSD['image_id'])]\n",
    "print('Number of Outlier Images in  Cassava Brown Streak Disease (CBSD) Class: '+str(len(outliers_CBSD))+'\\n')\n",
    "print(input_path+'train_images/'+outliers_CBSD['image_id'].values)"
   ]
  },
  {
   "cell_type": "code",
   "execution_count": null,
   "metadata": {},
   "outputs": [],
   "source": [
    "#plot all the outlier images based on Mean value\n",
    "plt.figure(figsize=(20,30))\n",
    "for i,idx in enumerate(outliers_CBSD.index):\n",
    "    plt.subplot(1,3,i%3+1)\n",
    "    img_name = outliers_CBSD.loc[idx,'image_id']\n",
    "    img = cv2.cvtColor(cv2.imread(os.path.join(input_path,'train_images',img_name)),cv2.COLOR_BGR2RGB)\n",
    "    plt.imshow(img)\n",
    "    plt.title(img_name+'\\n'+'Mean: '+ str(outliers_CBSD.loc[idx,'Normalized_Mean'].round(2)) + '\\n'+\\\n",
    "              'Standard Deviation: '+str(outliers_CBSD.loc[idx,'Normalized_SD'].round(2))+ '\\n')\n",
    "    plt.axis('off')\n",
    "plt.show()"
   ]
  },
  {
   "cell_type": "markdown",
   "metadata": {},
   "source": [
    "<a id=\"outlier-ss-4\"></a>\n",
    "#### Outliers in 'Cassava Green Mottle (CGM)'"
   ]
  },
  {
   "cell_type": "code",
   "execution_count": null,
   "metadata": {},
   "outputs": [],
   "source": [
    "#filtering only   'Cassava Green Mottle (CGM)' class from original data\n",
    "CGM  = train_df[train_df['disease_name'] ==    'Cassava Green Mottle (CGM)']\n",
    "print('Number of Images in Cassava Green Mottle (CGM) Class: '+str(len(CGM)))\n",
    "\n",
    "#filtering the CMD data for which Mean is between 0.2 and 0.64(observation from box plot)\n",
    "outliers_CGM = CGM[CGM['Normalized_Mean'].between(0.2,0.64,inclusive=True)]\n",
    "# filter only the rows which are not in above list of images\n",
    "outliers_CGM = CGM[~CGM['image_id'].isin(outliers_CGM['image_id'])]\n",
    "print('Number of Outlier Images in Cassava Green Mottle (CGM) Class: '+str(len(outliers_CGM))+'\\n')\n",
    "print(input_path+'train_images/'+outliers_CGM['image_id'].values)"
   ]
  },
  {
   "cell_type": "code",
   "execution_count": null,
   "metadata": {},
   "outputs": [],
   "source": [
    "plt.figure(figsize=(20,30))\n",
    "#plot all the outlier images based on Mean value\n",
    "for i,idx in enumerate(outliers_CGM.index):\n",
    "    plt.subplot(1,3,i%3+1)\n",
    "    img_name = outliers_CGM.loc[idx,'image_id']\n",
    "    img = cv2.cvtColor(cv2.imread(os.path.join(input_path,'train_images',img_name)),cv2.COLOR_BGR2RGB)\n",
    "    plt.imshow(img)\n",
    "    plt.title(img_name+'\\n'+'Mean: '+ str(outliers_CGM.loc[idx,'Normalized_Mean'].round(2)) + '\\n'+\\\n",
    "              'Standard Deviation: '+str(outliers_CGM.loc[idx,'Normalized_SD'].round(2)))\n",
    "    plt.axis('off')\n",
    "plt.show()"
   ]
  },
  {
   "cell_type": "markdown",
   "metadata": {},
   "source": [
    "<a id=\"outlier-ss-5\"></a>\n",
    "#### Outliers in 'Healthy'"
   ]
  },
  {
   "cell_type": "code",
   "execution_count": null,
   "metadata": {},
   "outputs": [],
   "source": [
    "#filtering only   'Healthy' class from original data\n",
    "Healthy  = train_df[train_df['disease_name'] ==    'Healthy']\n",
    "print('Number of Images in Healthy Class: '+str(len(Healthy)))\n",
    "\n",
    "#filtering the CMD data for which Mean is between 0.175 and 0.64 (observation from box plot)\n",
    "outliers_Healthy = Healthy[Healthy['Normalized_Mean'].between(0.175,0.64,inclusive=True)]\n",
    "# filter only the rows which are not in above list of images\n",
    "outliers_Healthy = Healthy[~Healthy['image_id'].isin(outliers_Healthy['image_id'])]\n",
    "print('Number of Outlier Images in Healthy Class: '+str(len(outliers_Healthy))+'\\n')\n",
    "print(input_path+'train_images/'+outliers_Healthy['image_id'].values)"
   ]
  },
  {
   "cell_type": "code",
   "execution_count": null,
   "metadata": {},
   "outputs": [],
   "source": [
    "c = 0\n",
    "#plot all the outlier images based on Mean value\n",
    "for i,idx in enumerate(outliers_Healthy.index):\n",
    "    # a condition a change the row number in subplot\n",
    "    if int(i/4) == c:\n",
    "        c+=1\n",
    "        plt.figure(figsize=(25,30))\n",
    "    plt.subplot(c,4,i%4+1)\n",
    "    img_name = outliers_Healthy.loc[idx,'image_id']\n",
    "    img = cv2.cvtColor(cv2.imread(os.path.join(input_path,'train_images',img_name)),cv2.COLOR_BGR2RGB)\n",
    "    plt.imshow(img)\n",
    "    plt.title(img_name+'\\n'+'Mean: '+ str(outliers_Healthy.loc[idx,'Normalized_Mean'].round(2)) + '\\n'+\\\n",
    "              'Standard Deviation: '+str(outliers_Healthy.loc[idx,'Normalized_SD'].round(2)))\n",
    "    plt.axis('off')\n",
    "plt.show()"
   ]
  },
  {
   "cell_type": "markdown",
   "metadata": {},
   "source": [
    "<a id=\"subsection-five\"></a>\n",
    "### Outliers Detection using K-Means Clustering"
   ]
  },
  {
   "cell_type": "code",
   "execution_count": null,
   "metadata": {},
   "outputs": [],
   "source": [
    "# create an dict to store all k_means_colr values for all the images with flatten structure\n",
    "k_means_cluster_colors = {'Cassava Bacterial Blight (CBB)':[],\n",
    "                          'Cassava Mosaic Disease (CMD)':[],\n",
    "                          'Cassava Brown Streak Disease (CBSD)':[],\n",
    "                          'Cassava Green Mottle (CGM)':[],\n",
    "                          'Healthy' : []}\n",
    "images = {'Cassava Bacterial Blight (CBB)':[],\n",
    "                          'Cassava Mosaic Disease (CMD)':[],\n",
    "                          'Cassava Brown Streak Disease (CBSD)':[],\n",
    "                          'Cassava Green Mottle (CGM)':[],\n",
    "                          'Healthy' : []}\n",
    "\n",
    "for class_name in tqdm(train_df['disease_name'].unique()):\n",
    "    \n",
    "    #filter different classes\n",
    "    df = train_df[train_df['disease_name'] == class_name]\n",
    "    \n",
    "    for idx in tqdm(df.index,desc=class_name):\n",
    "        #read image\n",
    "        img_name = train_df.loc[idx,'image_id']\n",
    "        img = cv2.cvtColor(cv2.imread(input_path+'train_images/'+img_name), cv2.COLOR_BGR2RGB)\n",
    "        img = imutils.resize(img,height=150)\n",
    "        #normalize the given image\n",
    "        norm_img = cv2.normalize(img, None, alpha=0, beta=1, norm_type=cv2.NORM_MINMAX, dtype=cv2.CV_32F)\n",
    "        images[class_name].append(img_name) \n",
    "  \n",
    "        #k-means chstering with cluster size of 5\n",
    "        cluster_centers, distortion = kmeans(norm_img.reshape((-1,3)),5)\n",
    "\n",
    "        #standard deviation for each color band\n",
    "        std = np.expand_dims(img.reshape((-1,3)).std(axis=0),1) \n",
    "\n",
    "        k_means_cluster_colors[class_name].append((np.matmul(cluster_centers,std).T).astype(int)[0])\n",
    "    "
   ]
  },
  {
   "cell_type": "markdown",
   "metadata": {},
   "source": [
    "<a id=\"ss-k-1\"></a>\n",
    "#### Z-Score\n",
    "\n",
    "Z score is an important concept in statistics. Z score is also called standard score. This score helps to understand if a data value is greater or smaller than mean and how far away it is from the mean. More specifically, Z score tells how many standard deviations away a data point is from the mean.If the z score of a data point is more than 3, it indicates that the data point is quite different from the other data points. Such a data point can be an outlier.\n",
    "\n",
    "**$$Zscore=\\frac{x-Mean}{Standart Deviation}$$**\n"
   ]
  },
  {
   "cell_type": "code",
   "execution_count": null,
   "metadata": {
    "_kg_hide-input": true
   },
   "outputs": [],
   "source": [
    "colors = ['rgb(13, 200, 58)','rgb(13, 160, 200)','rgb(190, 81, 249)','rgb(248, 104, 73)','rgb(243, 247, 15)']\n",
    "for idx,class_name in enumerate(k_means_cluster_colors):\n",
    "    x = np.sum(k_means_cluster_colors[class_name],axis=1)\n",
    "    z_score = zscore(x)\n",
    "    fig=go.Figure()\n",
    "    fig.add_trace(go.Histogram(x=z_score,\n",
    "                              marker_color=colors[idx]))\n",
    "    fig.update_layout(title=class_name)\n",
    "    fig.show()"
   ]
  },
  {
   "cell_type": "code",
   "execution_count": null,
   "metadata": {},
   "outputs": [],
   "source": [
    "k_means_outliers = {'Cassava Bacterial Blight (CBB)':[],\n",
    "                          'Cassava Mosaic Disease (CMD)':[],\n",
    "                          'Cassava Brown Streak Disease (CBSD)':[],\n",
    "                          'Cassava Green Mottle (CGM)':[],\n",
    "                          'Healthy' : []}\n",
    "print('Outliers based on K-Means result')\n",
    "for idx,class_name in enumerate(k_means_cluster_colors):\n",
    "    x = np.sum(k_means_cluster_colors[class_name],axis=1)\n",
    "    z_score = zscore(x)\n",
    "    k_means_outliers[class_name].append(list(np.where((z_score>3))[0]) + list(np.where((z_score<-3))[0]))\n",
    "    print('Number of Outliers from '+class_name+': '+str(len(k_means_outliers[class_name][0])))"
   ]
  },
  {
   "cell_type": "markdown",
   "metadata": {},
   "source": [
    "##### Visulaizing 5 random images from K-Means Method"
   ]
  },
  {
   "cell_type": "code",
   "execution_count": null,
   "metadata": {},
   "outputs": [],
   "source": [
    "for class_name in k_means_outliers:\n",
    "    print('Outliers: '+ class_name)\n",
    "    plt.figure(figsize=(20,5))\n",
    "    imgs = []\n",
    "    for idx,img_name in enumerate(np.random.choice(k_means_outliers[class_name][0],5,replace=False)):\n",
    "        img_name=  images[class_name][img_name]\n",
    "        img = cv2.cvtColor(cv2.imread(input_path+'train_images/'+img_name),cv2.COLOR_BGR2RGB)\n",
    "        plt.subplot(1,5,idx%5+1)\n",
    "        plt.imshow(img)\n",
    "        plt.axis('off')\n",
    "        plt.title(class_name+'\\n'+img_name)\n",
    "    plt.show()\n",
    "    print('Image Names: '+'\\n')\n",
    "    for idx in k_means_outliers[class_name][0]:\n",
    "        imgs.append(images[class_name][idx])\n",
    "    print(', '.join(imgs)+'\\n\\n')\n",
    "        "
   ]
  },
  {
   "cell_type": "markdown",
   "metadata": {},
   "source": [
    "<a id=\"section-six\"></a>\n",
    "## Feature Extraction"
   ]
  },
  {
   "cell_type": "markdown",
   "metadata": {},
   "source": [
    "In this part, we will be extracting features from pretrained networks and find the important fetures using PCA and t-sne (Dimensionality reduction methods)"
   ]
  },
  {
   "cell_type": "markdown",
   "metadata": {},
   "source": [
    "<a id=\"ss-fe-1\"></a>\n",
    "#### VGG"
   ]
  },
  {
   "cell_type": "code",
   "execution_count": null,
   "metadata": {
    "_kg_hide-input": true
   },
   "outputs": [],
   "source": [
    "class Load_Dataset(torch.utils.data.Dataset):\n",
    "    def __init__(self,df):\n",
    "        self.image_paths = df['image_id']\n",
    "        self.labels = df['label']\n",
    "        self.default_transform = Compose([\n",
    "            Normalize((0.485, 0.456, 0.406),\n",
    "                                 (0.229, 0.224, 0.225),always_apply=True),\n",
    "            Resize(224,224),\n",
    "            ToTensor()\n",
    "        ])\n",
    "        \n",
    "    def __len__(self):\n",
    "        return self.image_paths.shape[0]\n",
    "    \n",
    "    def __getitem__(self,i):\n",
    "        image_name = self.image_paths[i]\n",
    "        img_path = os.path.join('../input/cassava-leaf-disease-classification/train_images',image_name)\n",
    "        image = cv2.cvtColor(cv2.imread(img_path),cv2.COLOR_BGR2RGB)\n",
    "        image = self.default_transform(image=image)['image']\n",
    "        label = torch.tensor(self.labels[i])\n",
    "\n",
    "        return image,label"
   ]
  },
  {
   "cell_type": "code",
   "execution_count": null,
   "metadata": {},
   "outputs": [],
   "source": [
    "#Load dataset\n",
    "train_data = Load_Dataset(train_df)\n",
    "train_loader = torch.utils.data.DataLoader(train_data,batch_size=128)\n",
    "\n",
    "#loading pretrained model for vgg19\n",
    "vgg_m = models.vgg19(pretrained=True)\n",
    "#taking only the first layer from classifier (4096)\n",
    "vgg_m.classifier = torch.nn.Sequential(vgg_m.classifier[0])\n",
    "output_descriptor = np.zeros((1,4096))\n",
    "output_label = np.zeros((1))\n",
    "device = 'cuda'\n",
    "vgg_m.to(device)\n",
    "with torch.no_grad():\n",
    "    for _, (images,labels) in tqdm(enumerate(train_loader)):\n",
    "        \n",
    "        images,labels = images.to(device),labels.to(device)\n",
    "        #evaluating the image with pretrained model\n",
    "        vgg_m.eval()\n",
    "        pred = vgg_m(images)\n",
    "        #concatenating all the outputs and labels as a batch of 128 and store in a variable\n",
    "        output_descriptor =np.concatenate((output_descriptor,pred.cpu().numpy().squeeze()),0)\n",
    "        output_label = np.concatenate((output_label,labels.cpu().numpy()))\n",
    "output_descriptor = output_descriptor[1:]\n",
    "output_label = output_label[1:]"
   ]
  },
  {
   "cell_type": "markdown",
   "metadata": {},
   "source": [
    "#### PCA"
   ]
  },
  {
   "cell_type": "code",
   "execution_count": null,
   "metadata": {},
   "outputs": [],
   "source": [
    "st_time = time.time()\n",
    "#extracting top 5 principal component features\n",
    "pca = PCA(n_components=5)\n",
    "pca_result_train = pca.fit_transform(output_descriptor)\n",
    "\n",
    "print('PCA done; Time take {} seconds'.format(time.time()-st_time))\n",
    "print('Variance: {}'.format(pca.explained_variance_ratio_))\n",
    "print('Sum of variance in data by first top ten components: {:.2f}%'.format(100*(pca.explained_variance_ratio_.sum())))\n",
    "\n",
    "##PCA df\n",
    "pca_tr = pd.DataFrame()\n",
    "for idx in range(pca_result_train.shape[1]):\n",
    "    pca_tr['pca'+str(idx+1)] = pca_result_train[:,idx]\n",
    "\n",
    "pca_tr['label'] = output_label.astype(int)\n",
    "pca_tr['disease_name'] = pca_tr['label'].apply(lambda x: disease_names[str(x)])\n",
    "pca_tr.head()"
   ]
  },
  {
   "cell_type": "code",
   "execution_count": null,
   "metadata": {
    "_kg_hide-input": true
   },
   "outputs": [],
   "source": [
    "fig = go.Figure()\n",
    "colors = ['rgb(13, 200, 58)','rgb(13, 160, 200)','rgb(190, 81, 249)','rgb(248, 104, 73)','rgb(243, 247, 15)']\n",
    "for idx,dn in enumerate(pca_tr['disease_name'].unique()):\n",
    "    df = pca_tr[pca_tr['disease_name'] == dn]\n",
    "    fig.add_trace(go.Scatter3d(x=df['pca1'],y=df['pca2'],z=df['pca3'],mode='markers',marker_color = colors[idx],name=dn))\n",
    "fig.update_layout(title='PCA 1 Vs PCA 2 Vs PCA 3')\n",
    "fig.show()"
   ]
  },
  {
   "cell_type": "markdown",
   "metadata": {},
   "source": [
    "#### T-SNE"
   ]
  },
  {
   "cell_type": "code",
   "execution_count": null,
   "metadata": {},
   "outputs": [],
   "source": [
    "st_time = time.time()\n",
    "t_sne = TSNE(random_state=2020)\n",
    "t_sne_tr = t_sne.fit_transform(output_descriptor)\n",
    "print('TNSE done; Time take {} seconds'.format(time.time()-st_time))\n",
    "\n",
    "##T-SNE df\n",
    "tsne_tr = pd.DataFrame()\n",
    "for idx in range(t_sne_tr.shape[1]):\n",
    "    tsne_tr['t_sne'+str(idx+1)] = t_sne_tr[:,idx]\n",
    "tsne_tr['label'] = output_label.astype(int)\n",
    "tsne_tr['disease_name'] = tsne_tr['label'].apply(lambda x: disease_names[str(x)])\n",
    "tsne_tr.head()"
   ]
  },
  {
   "cell_type": "code",
   "execution_count": null,
   "metadata": {},
   "outputs": [],
   "source": [
    "fig = go.Figure()\n",
    "colors = ['rgb(13, 200, 58)','rgb(13, 160, 200)','rgb(190, 81, 249)','rgb(248, 104, 73)','rgb(243, 247, 15)']\n",
    "for idx,dn in enumerate(tsne_tr['disease_name'].unique()):\n",
    "    df = tsne_tr[tsne_tr['disease_name'] == dn]\n",
    "    fig.add_trace(go.Scatter(x=df['t_sne1'],y=df['t_sne2'],mode='markers',marker_color = colors[idx],name=dn))\n",
    "fig.update_layout(title='TSNE 1 Vs TSNE 2')\n",
    "fig.update_xaxes(title_text=\"TSNE_1\")\n",
    "fig.update_yaxes(title_text=\"TSNE_2\")\n",
    "fig.show()"
   ]
  },
  {
   "cell_type": "markdown",
   "metadata": {},
   "source": [
    "## Please give your feedbacks and comments and Do **\"Upvote\"** !!!"
   ]
  },
  {
   "cell_type": "code",
   "execution_count": null,
   "metadata": {},
   "outputs": [],
   "source": []
  }
 ],
 "metadata": {
  "kernelspec": {
   "display_name": "kaggle",
   "language": "python",
   "name": "kaggle"
  },
  "language_info": {
   "codemirror_mode": {
    "name": "ipython",
    "version": 3
   },
   "file_extension": ".py",
   "mimetype": "text/x-python",
   "name": "python",
   "nbconvert_exporter": "python",
   "pygments_lexer": "ipython3",
   "version": "3.8.5"
  }
 },
 "nbformat": 4,
 "nbformat_minor": 4
}
