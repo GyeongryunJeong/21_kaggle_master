{
 "cells": [
  {
   "cell_type": "markdown",
   "metadata": {
    "ExecuteTime": {
     "end_time": "2021-01-21T15:58:46.223672Z",
     "start_time": "2021-01-21T15:58:46.220545Z"
    }
   },
   "source": [
    "# Introduction"
   ]
  },
  {
   "cell_type": "markdown",
   "metadata": {
    "ExecuteTime": {
     "end_time": "2021-01-21T15:58:40.064903Z",
     "start_time": "2021-01-21T15:58:40.060179Z"
    }
   },
   "source": [
    "We'll start with an overview of how machine learning models work and how they are used. \n",
    "\n",
    "먼저 머신러닝의 작동 방식 및 사용방법에 대한 개요부터 시작함."
   ]
  },
  {
   "cell_type": "markdown",
   "metadata": {},
   "source": [
    "This may feel basic if you've done statistical modeling or machine learning before. \n",
    "\n",
    "이전에 통계 모델링이나 머신러닝 경험이 있는 경우 기본처럼 느낄 수 있음."
   ]
  },
  {
   "cell_type": "markdown",
   "metadata": {},
   "source": [
    "Don't worry, we will progress to building powerful models soon.\n",
    "\n",
    "걱정 ㄴㄴ, 곧 파워풀한 모델 만들 거임."
   ]
  },
  {
   "cell_type": "markdown",
   "metadata": {},
   "source": [
    "This micro-course will have you build models as you go through following scenario:\n",
    "\n",
    "이 마이크로 시나리오 과정에서는 다음 시나리오를 진행하면서 모델을 구축하게 됨."
   ]
  },
  {
   "cell_type": "markdown",
   "metadata": {},
   "source": [
    "Your cousin has made millions of dollars speculating on real estate. \n",
    "\n",
    "당신의 사촌은 부동산을 통해 수백만 달러를 벎."
   ]
  },
  {
   "cell_type": "markdown",
   "metadata": {},
   "source": [
    "He's offered to become business partners with you because of your interest in data science. \n",
    "\n",
    "너가 데이터과학에 관심이 있어서 사촌은 너한테 비즈니스 파트너를 제안함."
   ]
  },
  {
   "cell_type": "markdown",
   "metadata": {},
   "source": [
    "He'll supply the money, and you'll supply models that predict how much various houses are worth.\n",
    "\n",
    "그는 돈을 공급할 것이고, 당신은 다양한 집들의 가치를 예측하는 모델을 제공할 것이다."
   ]
  },
  {
   "cell_type": "markdown",
   "metadata": {},
   "source": [
    "You ask your cousin how he's predicted real estate values in the past, and he says it is just intuition. \n",
    "\n",
    "너는 사촌에게 사촌이 예측한 과거 부동산의 가치를 물어보면, 사촌은 단지 직감이라고 말한다."
   ]
  },
  {
   "cell_type": "markdown",
   "metadata": {},
   "source": [
    "But more questioning reveals that he's identified price patterns from houses he has seen in the past, and he uses those patterns to make predictions for new houses he is considering.\n",
    "\n",
    "하지만 더 많은 의문점을 들춰보면 그는 과거에 보았던 주택에서 가격 패턴을 알아냈고, 그가 고려하고 있는 새로운 주택에 대한 예측을 하기 위해 그 패턴을 사용한다는 점이다."
   ]
  },
  {
   "cell_type": "markdown",
   "metadata": {},
   "source": [
    "Machine learning works the same way.  \n",
    "\n",
    "머신러닝은 똑같은 일을 한다."
   ]
  },
  {
   "cell_type": "markdown",
   "metadata": {},
   "source": [
    "We'll start with a model called the Decision Tree. \n",
    "\n",
    "우리는 디시전 트리라고 불리는 모델로 시작한다."
   ]
  },
  {
   "cell_type": "markdown",
   "metadata": {},
   "source": [
    "There are fancier models that give more accurate predictions. \n",
    "\n",
    "더 정확한 예측을 해주는 멋진 모델들이 있다."
   ]
  },
  {
   "cell_type": "markdown",
   "metadata": {},
   "source": [
    "But decision trees are easy to understand, and they are the basic building block for some of \n",
    "the best models in data science.\n",
    "\n",
    "그러나 디시전 트리는 이해하기 쉽고, 데이터과학의 최고의 모델 중 일부인 기본 기본 구성요소이다."
   ]
  },
  {
   "cell_type": "markdown",
   "metadata": {},
   "source": [
    "For simplicity, we'll start with the simplest possible decision tree. \n",
    "\n",
    "간단하게 하기 위해 가능한 가장 간단한 디시전 트리부터 시작함."
   ]
  },
  {
   "cell_type": "markdown",
   "metadata": {},
   "source": [
    "![First Decision Trees](http://i.imgur.com/7tsb5b1.png)"
   ]
  },
  {
   "cell_type": "markdown",
   "metadata": {},
   "source": [
    "It divides houses into only two categories. \n",
    "\n",
    "그것은 집을 두 가지 카테고리로 나눔."
   ]
  },
  {
   "cell_type": "markdown",
   "metadata": {},
   "source": [
    "The predicted price for any house under consideration is the historical average price of houses in the same category.\n",
    "\n",
    "고려 중인 모든 주택의 예상 가격은 동일한 범주에 있는 주택의 과거 평균 가격임."
   ]
  },
  {
   "cell_type": "markdown",
   "metadata": {},
   "source": [
    "We use data to decide how to break the houses into two groups, and then again to determine the predicted price in each group. \n",
    "\n",
    "우리는 데이터를 사용하여 집을 두 그룹으로 나누는 방법을 결정하고, 다시 각 그룹의 예상 가격을 결정함."
   ]
  },
  {
   "cell_type": "markdown",
   "metadata": {},
   "source": [
    "This step of capturing patterns from data is called **fitting** or **training** the model. \n",
    "\n",
    "데이터에서 패턴을 캡처하는 이 단계를 모델 피팅 또는 모델 트레이닝이라고 한다."
   ]
  },
  {
   "cell_type": "markdown",
   "metadata": {},
   "source": [
    "The data used to **fit** the model is called the **training data**.  \n",
    "\n",
    "모델을 피트하는 데 사용되는 데이터를 트레이닝 데이터라고 함."
   ]
  },
  {
   "cell_type": "markdown",
   "metadata": {},
   "source": [
    "The details of how the model is fit (e.g. how to split up the data) is complex enough that we will save it for later. \n",
    "\n",
    "모델이 어떻게 적합한지에 대한 세부 사항(데이터를 분할하는 방법)은 충분히 복잡하므로 나중에 저장할 수 있음."
   ]
  },
  {
   "cell_type": "markdown",
   "metadata": {},
   "source": [
    "After the model has been fit, you can apply it to new data to **predict** prices of additional homes.\n",
    "\n",
    "모델이 핏된 후에, 새 데이터에 적용하여 추가 주택 가격을 예측할 수 있음."
   ]
  },
  {
   "cell_type": "markdown",
   "metadata": {},
   "source": [
    "---\n",
    "# Improving the Decision Tree"
   ]
  },
  {
   "cell_type": "markdown",
   "metadata": {},
   "source": [
    "Which of the following two decisions trees is more likely to result from fitting the real estate training data?\n",
    "\n",
    "다음 두 가지 결정 중 부동산 트레이닝 데이터를 적합하게 하여 트리가 더 많은 결과를 얻을 수 있는 것은?"
   ]
  },
  {
   "cell_type": "markdown",
   "metadata": {},
   "source": [
    "![First Decision Trees](http://i.imgur.com/prAjgku.png)"
   ]
  },
  {
   "cell_type": "markdown",
   "metadata": {},
   "source": [
    "1이겠지"
   ]
  },
  {
   "cell_type": "markdown",
   "metadata": {},
   "source": [
    "The decision tree on the left (Decision Tree 1) probably makes more sense, because it captures the reality that houses with more bedrooms tend to sell at higher prices than houses with fewer bedrooms.\n",
    "\n",
    "왼쪽에 있는 디시전 트리가 아마 더 맞을 거 같은 게, 왜냐하면 그것은 침실이 더 많은 집이 더 적은 집보다 높은 가격에 팔리는 경향이 있는 현실을 포착하기 때문."
   ]
  },
  {
   "cell_type": "markdown",
   "metadata": {},
   "source": [
    "The biggest shortcoming of this model is that it doesn't capture most factors affecting home price, like number of bathrooms, lot size, location, etc. \n",
    "\n",
    "이 모델의 가장 큰 단점은 집값에 영향을 주는 대부분을 잡아내지 못하기 때문임.(예를 들면 욕실, 로트 크기, 지역, 기타 등등)"
   ]
  },
  {
   "cell_type": "markdown",
   "metadata": {},
   "source": [
    "You can capture more factors using a tree that has more \"splits.\"\n",
    "\n",
    "더 많은 스플릿이 있는 트리를 이용하여 더 많은 요인을 잡아낼 수 있음."
   ]
  },
  {
   "cell_type": "markdown",
   "metadata": {},
   "source": [
    "These are called \"deeper\" trees. \n",
    "\n",
    "이것들은 더 깊은 나무라고 불림.\n",
    "\n",
    "A decision tree that also considers the total size of each house's lot might look like this: \n",
    "\n",
    "각 집 부지들의 총 크기를 고려하는 의사 결정 트리는 다음과 같을 수 있음."
   ]
  },
  {
   "cell_type": "markdown",
   "metadata": {},
   "source": [
    "![Depth 2 Tree](http://i.imgur.com/R3ywQsR.png)"
   ]
  },
  {
   "cell_type": "markdown",
   "metadata": {},
   "source": [
    "You predict the price of any house by tracing through the decision tree, always picking the path corresponding to that house's characteristics. \n",
    "\n",
    "네가 의사결정 트리를 통해 추적하여 주택의 가격을 예측하고, 항상 해당 주택의 특성에 맞는 경로를 선택함."
   ]
  },
  {
   "cell_type": "markdown",
   "metadata": {},
   "source": [
    "The predicted price for the house is at the bottom of the tree. \n",
    "\n",
    "그 집의 예상 가격은 나무 밑바닥에 있음."
   ]
  },
  {
   "cell_type": "markdown",
   "metadata": {},
   "source": [
    "The point at the bottom where we make a prediction is called a **leaf.**   \n",
    "\n",
    "우리가 예측을 하는 아래 쪽 지점을 리프라고 함."
   ]
  },
  {
   "cell_type": "markdown",
   "metadata": {},
   "source": [
    "The splits and values at the leaves will be determined by the data, so it's time for you to check out the data you will be working with.\n",
    "\n",
    "잎의 분할과 값은 데이터에 의해 결정되므로 작업할 데이터를 확인해야 함."
   ]
  },
  {
   "cell_type": "markdown",
   "metadata": {},
   "source": [
    "# Continue\n",
    "Let's get more specific. It's time to **[Examine Your Data](https://www.kaggle.com/dansbecker/basic-data-exploration)**."
   ]
  },
  {
   "cell_type": "markdown",
   "metadata": {},
   "source": [
    "---\n",
    "\n",
    "*Interested in taking a deeper dive in the Intro to ML course content? Join Kaggle Data Scientist Jesse Mostipak in a series of 8 short and engaging supplemental videos, where each video corresponds to a lesson on Kaggle. To start watching, [click here](https://www.youtube.com/playlist?list=PLqFaTIg4myu9-T-fat2zjC5HmTpSybNfa).*\n",
    "\n",
    "\n",
    "*Have questions or comments? Visit the [Learn Discussion forum](https://www.kaggle.com/learn-forum/161285) to chat with other Learners.*"
   ]
  }
 ],
 "metadata": {
  "kernelspec": {
   "display_name": "Python 3",
   "language": "python",
   "name": "python3"
  },
  "language_info": {
   "codemirror_mode": {
    "name": "ipython",
    "version": 3
   },
   "file_extension": ".py",
   "mimetype": "text/x-python",
   "name": "python",
   "nbconvert_exporter": "python",
   "pygments_lexer": "ipython3",
   "version": "3.8.5"
  },
  "toc": {
   "base_numbering": 1,
   "nav_menu": {},
   "number_sections": true,
   "sideBar": true,
   "skip_h1_title": false,
   "title_cell": "Table of Contents",
   "title_sidebar": "Contents",
   "toc_cell": false,
   "toc_position": {},
   "toc_section_display": true,
   "toc_window_display": false
  },
  "varInspector": {
   "cols": {
    "lenName": 16,
    "lenType": 16,
    "lenVar": 40
   },
   "kernels_config": {
    "python": {
     "delete_cmd_postfix": "",
     "delete_cmd_prefix": "del ",
     "library": "var_list.py",
     "varRefreshCmd": "print(var_dic_list())"
    },
    "r": {
     "delete_cmd_postfix": ") ",
     "delete_cmd_prefix": "rm(",
     "library": "var_list.r",
     "varRefreshCmd": "cat(var_dic_list()) "
    }
   },
   "types_to_exclude": [
    "module",
    "function",
    "builtin_function_or_method",
    "instance",
    "_Feature"
   ],
   "window_display": false
  }
 },
 "nbformat": 4,
 "nbformat_minor": 4
}
