{
 "cells": [
  {
   "cell_type": "markdown",
   "metadata": {
    "papermill": {
     "duration": 0.006599,
     "end_time": "2020-10-01T00:08:42.248880",
     "exception": false,
     "start_time": "2020-10-01T00:08:42.242281",
     "status": "completed"
    },
    "tags": []
   },
   "source": [
    "# Using Pandas to Get Familiar With Your Data\n",
    "\n",
    "The first step in any machine learning project is familiarize yourself with the data. \n",
    "\n",
    "모든 머신러닝 프로젝트의 첫 번째 스텝은 네가 데이터와 친숙해지는 거임."
   ]
  },
  {
   "cell_type": "markdown",
   "metadata": {
    "papermill": {
     "duration": 0.006599,
     "end_time": "2020-10-01T00:08:42.248880",
     "exception": false,
     "start_time": "2020-10-01T00:08:42.242281",
     "status": "completed"
    },
    "tags": []
   },
   "source": [
    "You'll use the Pandas library for this. \n",
    "\n",
    "너는 이것을 위해 판다스 라이브러리를 사용할 거임."
   ]
  },
  {
   "cell_type": "markdown",
   "metadata": {
    "papermill": {
     "duration": 0.006599,
     "end_time": "2020-10-01T00:08:42.248880",
     "exception": false,
     "start_time": "2020-10-01T00:08:42.242281",
     "status": "completed"
    },
    "tags": []
   },
   "source": [
    "Pandas is the primary tool data scientists use for exploring and manipulating data.  \n",
    "\n",
    "판다스는 데이터 사이언티스트들이 데이터를 탐구하고 조작하기 위해 사용하는 주요 도구 데이터임."
   ]
  },
  {
   "cell_type": "markdown",
   "metadata": {
    "papermill": {
     "duration": 0.006599,
     "end_time": "2020-10-01T00:08:42.248880",
     "exception": false,
     "start_time": "2020-10-01T00:08:42.242281",
     "status": "completed"
    },
    "tags": []
   },
   "source": [
    "Most people abbreviate pandas in their code as `pd`.  We do this with the command\n",
    "\n",
    "많은 사람들은 판다스를 pd로 줄여서 사용하고 우리도 이 명령어를 사용할 거임."
   ]
  },
  {
   "cell_type": "code",
   "execution_count": 1,
   "metadata": {
    "ExecuteTime": {
     "end_time": "2021-01-23T06:12:39.104580Z",
     "start_time": "2021-01-23T06:12:38.959349Z"
    },
    "execution": {
     "iopub.execute_input": "2020-10-01T00:08:42.266836Z",
     "iopub.status.busy": "2020-10-01T00:08:42.265584Z",
     "iopub.status.idle": "2020-10-01T00:08:42.269123Z",
     "shell.execute_reply": "2020-10-01T00:08:42.268312Z"
    },
    "papermill": {
     "duration": 0.014626,
     "end_time": "2020-10-01T00:08:42.269250",
     "exception": false,
     "start_time": "2020-10-01T00:08:42.254624",
     "status": "completed"
    },
    "tags": []
   },
   "outputs": [],
   "source": [
    "import pandas as pd"
   ]
  },
  {
   "cell_type": "markdown",
   "metadata": {
    "papermill": {
     "duration": 0.005071,
     "end_time": "2020-10-01T00:08:42.280177",
     "exception": false,
     "start_time": "2020-10-01T00:08:42.275106",
     "status": "completed"
    },
    "tags": []
   },
   "source": [
    "The most important part of the Pandas library is the DataFrame. \n",
    "\n",
    "판다스 라이브러리의 가장 중요한 부분은 DataFrame임."
   ]
  },
  {
   "cell_type": "markdown",
   "metadata": {
    "papermill": {
     "duration": 0.005071,
     "end_time": "2020-10-01T00:08:42.280177",
     "exception": false,
     "start_time": "2020-10-01T00:08:42.275106",
     "status": "completed"
    },
    "tags": []
   },
   "source": [
    "A DataFrame holds the type of data you might think of as a table. \n",
    "\n",
    "DataFrame은 테이블로 생각할 수 있는 데이터 유형임."
   ]
  },
  {
   "cell_type": "markdown",
   "metadata": {
    "papermill": {
     "duration": 0.005071,
     "end_time": "2020-10-01T00:08:42.280177",
     "exception": false,
     "start_time": "2020-10-01T00:08:42.275106",
     "status": "completed"
    },
    "tags": []
   },
   "source": [
    "This is similar to a sheet in Excel, or a table in a SQL database. \n",
    "\n",
    "이거는 엑셀의 시트나 SQL DB의 테이블이랑 유사함."
   ]
  },
  {
   "cell_type": "markdown",
   "metadata": {
    "papermill": {
     "duration": 0.005071,
     "end_time": "2020-10-01T00:08:42.280177",
     "exception": false,
     "start_time": "2020-10-01T00:08:42.275106",
     "status": "completed"
    },
    "tags": []
   },
   "source": [
    "Pandas has powerful methods for most things you'll want to do with this type of data.  \n",
    "\n",
    "판다스는 이런 종류의 데이터들로 여러분들이 하고 싶어하는 대부분의 것들에 대한 강력한 방법을 가지고 있음."
   ]
  },
  {
   "cell_type": "markdown",
   "metadata": {
    "ExecuteTime": {
     "end_time": "2021-01-23T06:16:41.313491Z",
     "start_time": "2021-01-23T06:16:41.308635Z"
    },
    "papermill": {
     "duration": 0.005071,
     "end_time": "2020-10-01T00:08:42.280177",
     "exception": false,
     "start_time": "2020-10-01T00:08:42.275106",
     "status": "completed"
    },
    "tags": []
   },
   "source": [
    "As an example, we'll look at [data about home prices](https://www.kaggle.com/dansbecker/melbourne-housing-snapshot) in Melbourne, Australia.\n",
    "\n",
    "예를 들면 우리는 호주 멜버른 집값에 대한 데이터를 살펴볼 거임."
   ]
  },
  {
   "cell_type": "markdown",
   "metadata": {
    "papermill": {
     "duration": 0.005071,
     "end_time": "2020-10-01T00:08:42.280177",
     "exception": false,
     "start_time": "2020-10-01T00:08:42.275106",
     "status": "completed"
    },
    "tags": []
   },
   "source": [
    "In the hands-on exercises, you will apply the same processes to a new dataset, which has home prices in Iowa.\n",
    " \n",
    "실습에서는 동일한 프로세스를 아이오와에 있는 집값이 포함된 새 데이터 세트에 적용함."
   ]
  },
  {
   "cell_type": "markdown",
   "metadata": {
    "papermill": {
     "duration": 0.005071,
     "end_time": "2020-10-01T00:08:42.280177",
     "exception": false,
     "start_time": "2020-10-01T00:08:42.275106",
     "status": "completed"
    },
    "tags": []
   },
   "source": [
    "The example (Melbourne) data is at the file path **`../input/melbourne-housing-snapshot/melb_data.csv`**.\n",
    "\n",
    "예시 (멜버른) 데이터의 파일 경로는 다음과 같음.(나는 다름)"
   ]
  },
  {
   "cell_type": "markdown",
   "metadata": {
    "papermill": {
     "duration": 0.005071,
     "end_time": "2020-10-01T00:08:42.280177",
     "exception": false,
     "start_time": "2020-10-01T00:08:42.275106",
     "status": "completed"
    },
    "tags": []
   },
   "source": [
    "We load and explore the data with the following commands:\n",
    "\n",
    "우리는 다음 명령어를 따라 데이터를 로드하고 탐색함."
   ]
  },
  {
   "cell_type": "code",
   "execution_count": 4,
   "metadata": {
    "ExecuteTime": {
     "end_time": "2021-01-23T06:20:24.318068Z",
     "start_time": "2021-01-23T06:20:24.216698Z"
    },
    "execution": {
     "iopub.execute_input": "2020-10-01T00:08:42.300182Z",
     "iopub.status.busy": "2020-10-01T00:08:42.298956Z",
     "iopub.status.idle": "2020-10-01T00:08:42.462116Z",
     "shell.execute_reply": "2020-10-01T00:08:42.462941Z"
    },
    "papermill": {
     "duration": 0.17753,
     "end_time": "2020-10-01T00:08:42.463152",
     "exception": false,
     "start_time": "2020-10-01T00:08:42.285622",
     "status": "completed"
    },
    "tags": []
   },
   "outputs": [
    {
     "data": {
      "text/html": [
       "<div>\n",
       "<style scoped>\n",
       "    .dataframe tbody tr th:only-of-type {\n",
       "        vertical-align: middle;\n",
       "    }\n",
       "\n",
       "    .dataframe tbody tr th {\n",
       "        vertical-align: top;\n",
       "    }\n",
       "\n",
       "    .dataframe thead th {\n",
       "        text-align: right;\n",
       "    }\n",
       "</style>\n",
       "<table border=\"1\" class=\"dataframe\">\n",
       "  <thead>\n",
       "    <tr style=\"text-align: right;\">\n",
       "      <th></th>\n",
       "      <th>Rooms</th>\n",
       "      <th>Price</th>\n",
       "      <th>Distance</th>\n",
       "      <th>Postcode</th>\n",
       "      <th>Bedroom2</th>\n",
       "      <th>Bathroom</th>\n",
       "      <th>Car</th>\n",
       "      <th>Landsize</th>\n",
       "      <th>BuildingArea</th>\n",
       "      <th>YearBuilt</th>\n",
       "      <th>Lattitude</th>\n",
       "      <th>Longtitude</th>\n",
       "      <th>Propertycount</th>\n",
       "    </tr>\n",
       "  </thead>\n",
       "  <tbody>\n",
       "    <tr>\n",
       "      <th>count</th>\n",
       "      <td>13580.000000</td>\n",
       "      <td>1.358000e+04</td>\n",
       "      <td>13580.000000</td>\n",
       "      <td>13580.000000</td>\n",
       "      <td>13580.000000</td>\n",
       "      <td>13580.000000</td>\n",
       "      <td>13518.000000</td>\n",
       "      <td>13580.000000</td>\n",
       "      <td>7130.000000</td>\n",
       "      <td>8205.000000</td>\n",
       "      <td>13580.000000</td>\n",
       "      <td>13580.000000</td>\n",
       "      <td>13580.000000</td>\n",
       "    </tr>\n",
       "    <tr>\n",
       "      <th>mean</th>\n",
       "      <td>2.937997</td>\n",
       "      <td>1.075684e+06</td>\n",
       "      <td>10.137776</td>\n",
       "      <td>3105.301915</td>\n",
       "      <td>2.914728</td>\n",
       "      <td>1.534242</td>\n",
       "      <td>1.610075</td>\n",
       "      <td>558.416127</td>\n",
       "      <td>151.967650</td>\n",
       "      <td>1964.684217</td>\n",
       "      <td>-37.809203</td>\n",
       "      <td>144.995216</td>\n",
       "      <td>7454.417378</td>\n",
       "    </tr>\n",
       "    <tr>\n",
       "      <th>std</th>\n",
       "      <td>0.955748</td>\n",
       "      <td>6.393107e+05</td>\n",
       "      <td>5.868725</td>\n",
       "      <td>90.676964</td>\n",
       "      <td>0.965921</td>\n",
       "      <td>0.691712</td>\n",
       "      <td>0.962634</td>\n",
       "      <td>3990.669241</td>\n",
       "      <td>541.014538</td>\n",
       "      <td>37.273762</td>\n",
       "      <td>0.079260</td>\n",
       "      <td>0.103916</td>\n",
       "      <td>4378.581772</td>\n",
       "    </tr>\n",
       "    <tr>\n",
       "      <th>min</th>\n",
       "      <td>1.000000</td>\n",
       "      <td>8.500000e+04</td>\n",
       "      <td>0.000000</td>\n",
       "      <td>3000.000000</td>\n",
       "      <td>0.000000</td>\n",
       "      <td>0.000000</td>\n",
       "      <td>0.000000</td>\n",
       "      <td>0.000000</td>\n",
       "      <td>0.000000</td>\n",
       "      <td>1196.000000</td>\n",
       "      <td>-38.182550</td>\n",
       "      <td>144.431810</td>\n",
       "      <td>249.000000</td>\n",
       "    </tr>\n",
       "    <tr>\n",
       "      <th>25%</th>\n",
       "      <td>2.000000</td>\n",
       "      <td>6.500000e+05</td>\n",
       "      <td>6.100000</td>\n",
       "      <td>3044.000000</td>\n",
       "      <td>2.000000</td>\n",
       "      <td>1.000000</td>\n",
       "      <td>1.000000</td>\n",
       "      <td>177.000000</td>\n",
       "      <td>93.000000</td>\n",
       "      <td>1940.000000</td>\n",
       "      <td>-37.856822</td>\n",
       "      <td>144.929600</td>\n",
       "      <td>4380.000000</td>\n",
       "    </tr>\n",
       "    <tr>\n",
       "      <th>50%</th>\n",
       "      <td>3.000000</td>\n",
       "      <td>9.030000e+05</td>\n",
       "      <td>9.200000</td>\n",
       "      <td>3084.000000</td>\n",
       "      <td>3.000000</td>\n",
       "      <td>1.000000</td>\n",
       "      <td>2.000000</td>\n",
       "      <td>440.000000</td>\n",
       "      <td>126.000000</td>\n",
       "      <td>1970.000000</td>\n",
       "      <td>-37.802355</td>\n",
       "      <td>145.000100</td>\n",
       "      <td>6555.000000</td>\n",
       "    </tr>\n",
       "    <tr>\n",
       "      <th>75%</th>\n",
       "      <td>3.000000</td>\n",
       "      <td>1.330000e+06</td>\n",
       "      <td>13.000000</td>\n",
       "      <td>3148.000000</td>\n",
       "      <td>3.000000</td>\n",
       "      <td>2.000000</td>\n",
       "      <td>2.000000</td>\n",
       "      <td>651.000000</td>\n",
       "      <td>174.000000</td>\n",
       "      <td>1999.000000</td>\n",
       "      <td>-37.756400</td>\n",
       "      <td>145.058305</td>\n",
       "      <td>10331.000000</td>\n",
       "    </tr>\n",
       "    <tr>\n",
       "      <th>max</th>\n",
       "      <td>10.000000</td>\n",
       "      <td>9.000000e+06</td>\n",
       "      <td>48.100000</td>\n",
       "      <td>3977.000000</td>\n",
       "      <td>20.000000</td>\n",
       "      <td>8.000000</td>\n",
       "      <td>10.000000</td>\n",
       "      <td>433014.000000</td>\n",
       "      <td>44515.000000</td>\n",
       "      <td>2018.000000</td>\n",
       "      <td>-37.408530</td>\n",
       "      <td>145.526350</td>\n",
       "      <td>21650.000000</td>\n",
       "    </tr>\n",
       "  </tbody>\n",
       "</table>\n",
       "</div>"
      ],
      "text/plain": [
       "              Rooms         Price      Distance      Postcode      Bedroom2  \\\n",
       "count  13580.000000  1.358000e+04  13580.000000  13580.000000  13580.000000   \n",
       "mean       2.937997  1.075684e+06     10.137776   3105.301915      2.914728   \n",
       "std        0.955748  6.393107e+05      5.868725     90.676964      0.965921   \n",
       "min        1.000000  8.500000e+04      0.000000   3000.000000      0.000000   \n",
       "25%        2.000000  6.500000e+05      6.100000   3044.000000      2.000000   \n",
       "50%        3.000000  9.030000e+05      9.200000   3084.000000      3.000000   \n",
       "75%        3.000000  1.330000e+06     13.000000   3148.000000      3.000000   \n",
       "max       10.000000  9.000000e+06     48.100000   3977.000000     20.000000   \n",
       "\n",
       "           Bathroom           Car       Landsize  BuildingArea    YearBuilt  \\\n",
       "count  13580.000000  13518.000000   13580.000000   7130.000000  8205.000000   \n",
       "mean       1.534242      1.610075     558.416127    151.967650  1964.684217   \n",
       "std        0.691712      0.962634    3990.669241    541.014538    37.273762   \n",
       "min        0.000000      0.000000       0.000000      0.000000  1196.000000   \n",
       "25%        1.000000      1.000000     177.000000     93.000000  1940.000000   \n",
       "50%        1.000000      2.000000     440.000000    126.000000  1970.000000   \n",
       "75%        2.000000      2.000000     651.000000    174.000000  1999.000000   \n",
       "max        8.000000     10.000000  433014.000000  44515.000000  2018.000000   \n",
       "\n",
       "          Lattitude    Longtitude  Propertycount  \n",
       "count  13580.000000  13580.000000   13580.000000  \n",
       "mean     -37.809203    144.995216    7454.417378  \n",
       "std        0.079260      0.103916    4378.581772  \n",
       "min      -38.182550    144.431810     249.000000  \n",
       "25%      -37.856822    144.929600    4380.000000  \n",
       "50%      -37.802355    145.000100    6555.000000  \n",
       "75%      -37.756400    145.058305   10331.000000  \n",
       "max      -37.408530    145.526350   21650.000000  "
      ]
     },
     "execution_count": 4,
     "metadata": {},
     "output_type": "execute_result"
    }
   ],
   "source": [
    "# save filepath to variable for easier access\n",
    "melbourne_file_path = './input/melbourne-housing-snapshot/melb_data.csv'\n",
    "# read the data and store data in DataFrame titled melbourne_data\n",
    "melbourne_data = pd.read_csv(melbourne_file_path) \n",
    "# print a summary of the data in Melbourne data\n",
    "melbourne_data.describe()"
   ]
  },
  {
   "cell_type": "code",
   "execution_count": 5,
   "metadata": {
    "ExecuteTime": {
     "end_time": "2021-01-23T06:20:53.465171Z",
     "start_time": "2021-01-23T06:20:53.432971Z"
    }
   },
   "outputs": [
    {
     "data": {
      "text/html": [
       "<div>\n",
       "<style scoped>\n",
       "    .dataframe tbody tr th:only-of-type {\n",
       "        vertical-align: middle;\n",
       "    }\n",
       "\n",
       "    .dataframe tbody tr th {\n",
       "        vertical-align: top;\n",
       "    }\n",
       "\n",
       "    .dataframe thead th {\n",
       "        text-align: right;\n",
       "    }\n",
       "</style>\n",
       "<table border=\"1\" class=\"dataframe\">\n",
       "  <thead>\n",
       "    <tr style=\"text-align: right;\">\n",
       "      <th></th>\n",
       "      <th>Suburb</th>\n",
       "      <th>Address</th>\n",
       "      <th>Rooms</th>\n",
       "      <th>Type</th>\n",
       "      <th>Price</th>\n",
       "      <th>Method</th>\n",
       "      <th>SellerG</th>\n",
       "      <th>Date</th>\n",
       "      <th>Distance</th>\n",
       "      <th>Postcode</th>\n",
       "      <th>...</th>\n",
       "      <th>Bathroom</th>\n",
       "      <th>Car</th>\n",
       "      <th>Landsize</th>\n",
       "      <th>BuildingArea</th>\n",
       "      <th>YearBuilt</th>\n",
       "      <th>CouncilArea</th>\n",
       "      <th>Lattitude</th>\n",
       "      <th>Longtitude</th>\n",
       "      <th>Regionname</th>\n",
       "      <th>Propertycount</th>\n",
       "    </tr>\n",
       "  </thead>\n",
       "  <tbody>\n",
       "    <tr>\n",
       "      <th>0</th>\n",
       "      <td>Abbotsford</td>\n",
       "      <td>85 Turner St</td>\n",
       "      <td>2</td>\n",
       "      <td>h</td>\n",
       "      <td>1480000.0</td>\n",
       "      <td>S</td>\n",
       "      <td>Biggin</td>\n",
       "      <td>3/12/2016</td>\n",
       "      <td>2.5</td>\n",
       "      <td>3067.0</td>\n",
       "      <td>...</td>\n",
       "      <td>1.0</td>\n",
       "      <td>1.0</td>\n",
       "      <td>202.0</td>\n",
       "      <td>NaN</td>\n",
       "      <td>NaN</td>\n",
       "      <td>Yarra</td>\n",
       "      <td>-37.7996</td>\n",
       "      <td>144.9984</td>\n",
       "      <td>Northern Metropolitan</td>\n",
       "      <td>4019.0</td>\n",
       "    </tr>\n",
       "    <tr>\n",
       "      <th>1</th>\n",
       "      <td>Abbotsford</td>\n",
       "      <td>25 Bloomburg St</td>\n",
       "      <td>2</td>\n",
       "      <td>h</td>\n",
       "      <td>1035000.0</td>\n",
       "      <td>S</td>\n",
       "      <td>Biggin</td>\n",
       "      <td>4/02/2016</td>\n",
       "      <td>2.5</td>\n",
       "      <td>3067.0</td>\n",
       "      <td>...</td>\n",
       "      <td>1.0</td>\n",
       "      <td>0.0</td>\n",
       "      <td>156.0</td>\n",
       "      <td>79.0</td>\n",
       "      <td>1900.0</td>\n",
       "      <td>Yarra</td>\n",
       "      <td>-37.8079</td>\n",
       "      <td>144.9934</td>\n",
       "      <td>Northern Metropolitan</td>\n",
       "      <td>4019.0</td>\n",
       "    </tr>\n",
       "    <tr>\n",
       "      <th>2</th>\n",
       "      <td>Abbotsford</td>\n",
       "      <td>5 Charles St</td>\n",
       "      <td>3</td>\n",
       "      <td>h</td>\n",
       "      <td>1465000.0</td>\n",
       "      <td>SP</td>\n",
       "      <td>Biggin</td>\n",
       "      <td>4/03/2017</td>\n",
       "      <td>2.5</td>\n",
       "      <td>3067.0</td>\n",
       "      <td>...</td>\n",
       "      <td>2.0</td>\n",
       "      <td>0.0</td>\n",
       "      <td>134.0</td>\n",
       "      <td>150.0</td>\n",
       "      <td>1900.0</td>\n",
       "      <td>Yarra</td>\n",
       "      <td>-37.8093</td>\n",
       "      <td>144.9944</td>\n",
       "      <td>Northern Metropolitan</td>\n",
       "      <td>4019.0</td>\n",
       "    </tr>\n",
       "    <tr>\n",
       "      <th>3</th>\n",
       "      <td>Abbotsford</td>\n",
       "      <td>40 Federation La</td>\n",
       "      <td>3</td>\n",
       "      <td>h</td>\n",
       "      <td>850000.0</td>\n",
       "      <td>PI</td>\n",
       "      <td>Biggin</td>\n",
       "      <td>4/03/2017</td>\n",
       "      <td>2.5</td>\n",
       "      <td>3067.0</td>\n",
       "      <td>...</td>\n",
       "      <td>2.0</td>\n",
       "      <td>1.0</td>\n",
       "      <td>94.0</td>\n",
       "      <td>NaN</td>\n",
       "      <td>NaN</td>\n",
       "      <td>Yarra</td>\n",
       "      <td>-37.7969</td>\n",
       "      <td>144.9969</td>\n",
       "      <td>Northern Metropolitan</td>\n",
       "      <td>4019.0</td>\n",
       "    </tr>\n",
       "    <tr>\n",
       "      <th>4</th>\n",
       "      <td>Abbotsford</td>\n",
       "      <td>55a Park St</td>\n",
       "      <td>4</td>\n",
       "      <td>h</td>\n",
       "      <td>1600000.0</td>\n",
       "      <td>VB</td>\n",
       "      <td>Nelson</td>\n",
       "      <td>4/06/2016</td>\n",
       "      <td>2.5</td>\n",
       "      <td>3067.0</td>\n",
       "      <td>...</td>\n",
       "      <td>1.0</td>\n",
       "      <td>2.0</td>\n",
       "      <td>120.0</td>\n",
       "      <td>142.0</td>\n",
       "      <td>2014.0</td>\n",
       "      <td>Yarra</td>\n",
       "      <td>-37.8072</td>\n",
       "      <td>144.9941</td>\n",
       "      <td>Northern Metropolitan</td>\n",
       "      <td>4019.0</td>\n",
       "    </tr>\n",
       "  </tbody>\n",
       "</table>\n",
       "<p>5 rows × 21 columns</p>\n",
       "</div>"
      ],
      "text/plain": [
       "       Suburb           Address  Rooms Type      Price Method SellerG  \\\n",
       "0  Abbotsford      85 Turner St      2    h  1480000.0      S  Biggin   \n",
       "1  Abbotsford   25 Bloomburg St      2    h  1035000.0      S  Biggin   \n",
       "2  Abbotsford      5 Charles St      3    h  1465000.0     SP  Biggin   \n",
       "3  Abbotsford  40 Federation La      3    h   850000.0     PI  Biggin   \n",
       "4  Abbotsford       55a Park St      4    h  1600000.0     VB  Nelson   \n",
       "\n",
       "        Date  Distance  Postcode  ...  Bathroom  Car  Landsize  BuildingArea  \\\n",
       "0  3/12/2016       2.5    3067.0  ...       1.0  1.0     202.0           NaN   \n",
       "1  4/02/2016       2.5    3067.0  ...       1.0  0.0     156.0          79.0   \n",
       "2  4/03/2017       2.5    3067.0  ...       2.0  0.0     134.0         150.0   \n",
       "3  4/03/2017       2.5    3067.0  ...       2.0  1.0      94.0           NaN   \n",
       "4  4/06/2016       2.5    3067.0  ...       1.0  2.0     120.0         142.0   \n",
       "\n",
       "   YearBuilt  CouncilArea Lattitude  Longtitude             Regionname  \\\n",
       "0        NaN        Yarra  -37.7996    144.9984  Northern Metropolitan   \n",
       "1     1900.0        Yarra  -37.8079    144.9934  Northern Metropolitan   \n",
       "2     1900.0        Yarra  -37.8093    144.9944  Northern Metropolitan   \n",
       "3        NaN        Yarra  -37.7969    144.9969  Northern Metropolitan   \n",
       "4     2014.0        Yarra  -37.8072    144.9941  Northern Metropolitan   \n",
       "\n",
       "  Propertycount  \n",
       "0        4019.0  \n",
       "1        4019.0  \n",
       "2        4019.0  \n",
       "3        4019.0  \n",
       "4        4019.0  \n",
       "\n",
       "[5 rows x 21 columns]"
      ]
     },
     "execution_count": 5,
     "metadata": {},
     "output_type": "execute_result"
    }
   ],
   "source": [
    "melbourne_data.head()"
   ]
  },
  {
   "cell_type": "markdown",
   "metadata": {
    "papermill": {
     "duration": 0.006161,
     "end_time": "2020-10-01T00:08:42.476511",
     "exception": false,
     "start_time": "2020-10-01T00:08:42.470350",
     "status": "completed"
    },
    "tags": []
   },
   "source": [
    "# Interpreting Data Description\n",
    "\n",
    "데이터 설명 해석"
   ]
  },
  {
   "cell_type": "markdown",
   "metadata": {
    "papermill": {
     "duration": 0.006161,
     "end_time": "2020-10-01T00:08:42.476511",
     "exception": false,
     "start_time": "2020-10-01T00:08:42.470350",
     "status": "completed"
    },
    "tags": []
   },
   "source": [
    "The results show 8 numbers for each column in your original dataset. \n",
    "\n",
    "결과는 오리지널 데이터셋에서 8개의 각 컬럼은 보여준다."
   ]
  },
  {
   "cell_type": "markdown",
   "metadata": {
    "papermill": {
     "duration": 0.006161,
     "end_time": "2020-10-01T00:08:42.476511",
     "exception": false,
     "start_time": "2020-10-01T00:08:42.470350",
     "status": "completed"
    },
    "tags": []
   },
   "source": [
    "The first number, the **count**,  shows how many rows have non-missing values.  \n",
    "\n",
    "첫 번째로 카운트는 결측값이 없는 행 수를 표시함."
   ]
  },
  {
   "cell_type": "markdown",
   "metadata": {
    "papermill": {
     "duration": 0.006161,
     "end_time": "2020-10-01T00:08:42.476511",
     "exception": false,
     "start_time": "2020-10-01T00:08:42.470350",
     "status": "completed"
    },
    "tags": []
   },
   "source": [
    "Missing values arise for many reasons. \n",
    "\n",
    "미싱 밸류는 여러가지 이유로 발생함."
   ]
  },
  {
   "cell_type": "markdown",
   "metadata": {
    "papermill": {
     "duration": 0.006161,
     "end_time": "2020-10-01T00:08:42.476511",
     "exception": false,
     "start_time": "2020-10-01T00:08:42.470350",
     "status": "completed"
    },
    "tags": []
   },
   "source": [
    "For example, the size of the 2nd bedroom wouldn't be collected when surveying a 1 bedroom house. \n",
    "\n",
    "예를 들어서 첫 번째 침실을 조사할 때 침실 2의 크기는 수집되지 않음."
   ]
  },
  {
   "cell_type": "markdown",
   "metadata": {
    "papermill": {
     "duration": 0.006161,
     "end_time": "2020-10-01T00:08:42.476511",
     "exception": false,
     "start_time": "2020-10-01T00:08:42.470350",
     "status": "completed"
    },
    "tags": []
   },
   "source": [
    "We'll come back to the topic of missing data.\n",
    "\n",
    "데이터 누락에 대한 주제로 돌아가겠음."
   ]
  },
  {
   "cell_type": "markdown",
   "metadata": {
    "papermill": {
     "duration": 0.006161,
     "end_time": "2020-10-01T00:08:42.476511",
     "exception": false,
     "start_time": "2020-10-01T00:08:42.470350",
     "status": "completed"
    },
    "tags": []
   },
   "source": [
    "The second value is the **mean**, which is the average.\n",
    "\n",
    "두 번째 값은 mean, 평균임."
   ]
  },
  {
   "cell_type": "markdown",
   "metadata": {
    "papermill": {
     "duration": 0.006161,
     "end_time": "2020-10-01T00:08:42.476511",
     "exception": false,
     "start_time": "2020-10-01T00:08:42.470350",
     "status": "completed"
    },
    "tags": []
   },
   "source": [
    "Under that, **std** is the standard deviation, which measures how numerically spread out the values are.\n",
    "  \n",
    "그 밑에 std는 표준편차이고, 값이 얼마나 숫자적으로 분포되어 있는지 측정함."
   ]
  },
  {
   "cell_type": "markdown",
   "metadata": {
    "papermill": {
     "duration": 0.006161,
     "end_time": "2020-10-01T00:08:42.476511",
     "exception": false,
     "start_time": "2020-10-01T00:08:42.470350",
     "status": "completed"
    },
    "tags": []
   },
   "source": [
    "To interpret the **min**, **25%**, **50%**, **75%** and **max** values, imagine sorting each column from lowest to highest value.\n",
    "\n",
    "min, 25%, 50%, 75%, max값을 해석하려면 가장 낮은 값에서 가장 높은 값으로 정렬해야 한다고 상상해보자."
   ]
  },
  {
   "cell_type": "markdown",
   "metadata": {
    "papermill": {
     "duration": 0.006161,
     "end_time": "2020-10-01T00:08:42.476511",
     "exception": false,
     "start_time": "2020-10-01T00:08:42.470350",
     "status": "completed"
    },
    "tags": []
   },
   "source": [
    "The first (smallest) value is the min.  \n",
    "첫 번째(가장 낮은) 값은 min임. "
   ]
  },
  {
   "cell_type": "markdown",
   "metadata": {
    "papermill": {
     "duration": 0.006161,
     "end_time": "2020-10-01T00:08:42.476511",
     "exception": false,
     "start_time": "2020-10-01T00:08:42.470350",
     "status": "completed"
    },
    "tags": []
   },
   "source": [
    "If you go a quarter way through the list, you'll find a number that is bigger than 25% of the values and smaller than 75% of the values.\n",
    "\n",
    "목록을 1/4로 살펴보면, 값의 25%보다 크고 값의 75%보다 작은 숫자를 찾을 수 있음."
   ]
  },
  {
   "cell_type": "markdown",
   "metadata": {
    "papermill": {
     "duration": 0.006161,
     "end_time": "2020-10-01T00:08:42.476511",
     "exception": false,
     "start_time": "2020-10-01T00:08:42.470350",
     "status": "completed"
    },
    "tags": []
   },
   "source": [
    "That is the **25%** value (pronounced \"25th percentile\").\n",
    "\n",
    "이것이 바로 25% 값임(25th percentile이라고 발음함)."
   ]
  },
  {
   "cell_type": "markdown",
   "metadata": {
    "papermill": {
     "duration": 0.006161,
     "end_time": "2020-10-01T00:08:42.476511",
     "exception": false,
     "start_time": "2020-10-01T00:08:42.470350",
     "status": "completed"
    },
    "tags": []
   },
   "source": [
    "The 50th and 75th percentiles are defined analogously, and the **max** is the largest number.\n",
    "\n",
    "50번째 백분위 수와 75번째 백분위수가 유사하게 정의되었고, max가 가장 큰 숫자임."
   ]
  },
  {
   "cell_type": "markdown",
   "metadata": {
    "papermill": {
     "duration": 0.006161,
     "end_time": "2020-10-01T00:08:42.476511",
     "exception": false,
     "start_time": "2020-10-01T00:08:42.470350",
     "status": "completed"
    },
    "tags": []
   },
   "source": [
    "# Your Turn\n",
    "Get started with your **[first coding exercise](https://www.kaggle.com/kernels/fork/1258954)**"
   ]
  },
  {
   "cell_type": "markdown",
   "metadata": {
    "papermill": {
     "duration": 0.005924,
     "end_time": "2020-10-01T00:08:42.488680",
     "exception": false,
     "start_time": "2020-10-01T00:08:42.482756",
     "status": "completed"
    },
    "tags": []
   },
   "source": [
    "---\n",
    "\n",
    "\n",
    "\n",
    "\n",
    "*Have questions or comments? Visit the [Learn Discussion forum](https://www.kaggle.com/learn-forum/161285) to chat with other Learners.*"
   ]
  }
 ],
 "metadata": {
  "kernelspec": {
   "display_name": "Python 3",
   "language": "python",
   "name": "python3"
  },
  "language_info": {
   "codemirror_mode": {
    "name": "ipython",
    "version": 3
   },
   "file_extension": ".py",
   "mimetype": "text/x-python",
   "name": "python",
   "nbconvert_exporter": "python",
   "pygments_lexer": "ipython3",
   "version": "3.8.5"
  },
  "papermill": {
   "duration": 5.894936,
   "end_time": "2020-10-01T00:08:42.604735",
   "environment_variables": {},
   "exception": null,
   "input_path": "__notebook__.ipynb",
   "output_path": "__notebook__.ipynb",
   "parameters": {},
   "start_time": "2020-10-01T00:08:36.709799",
   "version": "2.1.0"
  },
  "toc": {
   "base_numbering": 1,
   "nav_menu": {},
   "number_sections": true,
   "sideBar": true,
   "skip_h1_title": false,
   "title_cell": "Table of Contents",
   "title_sidebar": "Contents",
   "toc_cell": false,
   "toc_position": {},
   "toc_section_display": true,
   "toc_window_display": false
  },
  "varInspector": {
   "cols": {
    "lenName": 16,
    "lenType": 16,
    "lenVar": 40
   },
   "kernels_config": {
    "python": {
     "delete_cmd_postfix": "",
     "delete_cmd_prefix": "del ",
     "library": "var_list.py",
     "varRefreshCmd": "print(var_dic_list())"
    },
    "r": {
     "delete_cmd_postfix": ") ",
     "delete_cmd_prefix": "rm(",
     "library": "var_list.r",
     "varRefreshCmd": "cat(var_dic_list()) "
    }
   },
   "types_to_exclude": [
    "module",
    "function",
    "builtin_function_or_method",
    "instance",
    "_Feature"
   ],
   "window_display": false
  }
 },
 "nbformat": 4,
 "nbformat_minor": 2
}
