{
 "cells": [
  {
   "cell_type": "markdown",
   "metadata": {
    "papermill": {
     "duration": 0.008974,
     "end_time": "2020-10-01T00:08:48.307649",
     "exception": false,
     "start_time": "2020-10-01T00:08:48.298675",
     "status": "completed"
    },
    "tags": []
   },
   "source": [
    "# Selecting Data for Modeling\n",
    "\n",
    "Your dataset had too many variables to wrap your head around, or even to print out nicely.  How can you pare down this overwhelming amount of data to something you can understand?\n",
    "\n",
    "데이터셋에 변수가 너무 많아서 프린트를 잘할 수 없음, 이 엄청난 양의 데이터를 이해할 수 있는 것으로 어떻게 줄일 수 있음?"
   ]
  },
  {
   "cell_type": "markdown",
   "metadata": {
    "papermill": {
     "duration": 0.008974,
     "end_time": "2020-10-01T00:08:48.307649",
     "exception": false,
     "start_time": "2020-10-01T00:08:48.298675",
     "status": "completed"
    },
    "tags": []
   },
   "source": [
    "We'll start by picking a few variables using our intuition. \n",
    "\n",
    "우리는 직관을 사용해서 몇 가지 변수를 고르는 것으로 시작할 거임."
   ]
  },
  {
   "cell_type": "markdown",
   "metadata": {
    "papermill": {
     "duration": 0.008974,
     "end_time": "2020-10-01T00:08:48.307649",
     "exception": false,
     "start_time": "2020-10-01T00:08:48.298675",
     "status": "completed"
    },
    "tags": []
   },
   "source": [
    "Later courses will show you statistical techniques to automatically prioritize variables.\n",
    "\n",
    "이후의 과정은 자동으로 변수의 우선순위를 정하는 통계적 기술을 보여줄 거임."
   ]
  },
  {
   "cell_type": "markdown",
   "metadata": {
    "papermill": {
     "duration": 0.008974,
     "end_time": "2020-10-01T00:08:48.307649",
     "exception": false,
     "start_time": "2020-10-01T00:08:48.298675",
     "status": "completed"
    },
    "tags": []
   },
   "source": [
    "To choose variables/columns, we'll need to see a list of all columns in the dataset.\n",
    "\n",
    "변수나 컬럼을 선택하려면 데이터 집합의 모든 열 목록을 봐야 함.\n",
    "\n",
    "That is done with the **columns** property of the DataFrame (the bottom line of code below).\n",
    "\n",
    "그것은 DF의 컬럼 속성(아래 코드의 마지막)으로 이루어짐."
   ]
  },
  {
   "cell_type": "code",
   "execution_count": 1,
   "metadata": {
    "ExecuteTime": {
     "end_time": "2021-01-23T07:55:59.635945Z",
     "start_time": "2021-01-23T07:55:59.448051Z"
    },
    "execution": {
     "iopub.execute_input": "2020-10-01T00:08:48.331131Z",
     "iopub.status.busy": "2020-10-01T00:08:48.330471Z",
     "iopub.status.idle": "2020-10-01T00:08:48.406182Z",
     "shell.execute_reply": "2020-10-01T00:08:48.406651Z"
    },
    "papermill": {
     "duration": 0.0912,
     "end_time": "2020-10-01T00:08:48.406806",
     "exception": false,
     "start_time": "2020-10-01T00:08:48.315606",
     "status": "completed"
    },
    "tags": []
   },
   "outputs": [
    {
     "data": {
      "text/plain": [
       "Index(['Suburb', 'Address', 'Rooms', 'Type', 'Price', 'Method', 'SellerG',\n",
       "       'Date', 'Distance', 'Postcode', 'Bedroom2', 'Bathroom', 'Car',\n",
       "       'Landsize', 'BuildingArea', 'YearBuilt', 'CouncilArea', 'Lattitude',\n",
       "       'Longtitude', 'Regionname', 'Propertycount'],\n",
       "      dtype='object')"
      ]
     },
     "execution_count": 1,
     "metadata": {},
     "output_type": "execute_result"
    }
   ],
   "source": [
    "import pandas as pd\n",
    "\n",
    "melbourne_file_path = './input/melbourne-housing-snapshot/melb_data.csv'\n",
    "melbourne_data = pd.read_csv(melbourne_file_path) \n",
    "melbourne_data.columns"
   ]
  },
  {
   "cell_type": "code",
   "execution_count": 4,
   "metadata": {
    "ExecuteTime": {
     "end_time": "2021-01-23T08:08:28.384804Z",
     "start_time": "2021-01-23T08:08:28.371337Z"
    },
    "execution": {
     "iopub.execute_input": "2020-10-01T00:08:48.427998Z",
     "iopub.status.busy": "2020-10-01T00:08:48.427391Z",
     "iopub.status.idle": "2020-10-01T00:08:48.464741Z",
     "shell.execute_reply": "2020-10-01T00:08:48.465289Z"
    },
    "papermill": {
     "duration": 0.049956,
     "end_time": "2020-10-01T00:08:48.465445",
     "exception": false,
     "start_time": "2020-10-01T00:08:48.415489",
     "status": "completed"
    },
    "tags": []
   },
   "outputs": [],
   "source": [
    "# The Melbourne data has some missing values (some houses for which some variables weren't recorded.)\n",
    "# 멜버른 데이터에는 일부 누락된 값(일부 변수가 기록되지 않은 일부 주택)이 있음.\n",
    "\n",
    "# We'll learn to handle missing values in a later tutorial.  \n",
    "# 우리는 다음 듀토리얼에서 미싱 밸류를 다루는 방법을 배운다.\n",
    "\n",
    "# Your Iowa data doesn't have missing values in the columns you use. \n",
    "# 아이오아 데이터에는 사용하는 열에 결측값이 없음.\n",
    "\n",
    "\n",
    "# So we will take the simplest option for now, and drop houses from our data. \n",
    "# 그래서 지금 우리는 가장 간단한 선택을 할 거임, 그리고 우리 데이터에서 집을 뺄 거임.\n",
    "\n",
    "# Don't worry about this much for now, though the code is:\n",
    "# 지금은 이 정도에서 걱정 ㄴㄴ, 코드는 다음과 같음.\n",
    "\n",
    "\n",
    "# dropna drops missing values (think of na as \"not available\")\n",
    "melbourne_data = melbourne_data.dropna(axis=0)"
   ]
  },
  {
   "cell_type": "markdown",
   "metadata": {
    "papermill": {
     "duration": 0.008426,
     "end_time": "2020-10-01T00:08:48.482466",
     "exception": false,
     "start_time": "2020-10-01T00:08:48.474040",
     "status": "completed"
    },
    "tags": []
   },
   "source": [
    "There are many ways to select a subset of your data.\n",
    "데이터에서 하위집합을 선택하는 많은 방법이 있음.\n",
    "\n",
    "The [Pandas Micro-Course](https://www.kaggle.com/learn/pandas) covers these in more depth, but we will focus on two approaches for now.\n",
    "판다스 마이크로코스에서는 이것을 보다 심층적으로 다룰 거지만 지금은 2개의 접근방법에 초점을 둠.\n",
    "\n",
    "\n",
    "1. Dot notation, which we use to select the \"prediction target\"\n",
    "1. 도트 표기법, 예측 대상을 선택하는 데 사용함.\n",
    "\n",
    "2. Selecting with a column list, which we use to select the \"features\" \n",
    "2. 컬럼들을 선택, 피처 선택에 사용함.\n",
    "\n",
    "\n",
    "## Selecting The Prediction Target \n",
    "You can pull out a variable with **dot-notation**. \n",
    "dot notation을 이용해서 변수를 끌어낼 수 있음.\n",
    "\n",
    "\n",
    "This single column is stored in a **Series**, which is broadly like a DataFrame with only a single column of data.  \n",
    "이 단일 열은 Series에 저장되고, 이는 데이터열이 하나만 있는 데이터 프레임과 같음.\n",
    "\n",
    "\n",
    "We'll use the dot notation to select the column we want to predict, which is called the **prediction target**. By convention, the prediction target is called **y**. \n",
    "\n",
    "도트 표기법을 사용해서 프레딕트 타겟이라고 부르는  우리가 예측을 원하는 컬럼을 선택함.\n",
    "관례상 예측 타겟은 y라고 부름.\n",
    "\n",
    "So the code we need to save the house prices in the Melbourne data is\n",
    "\n",
    "그래서 멜버른 데이터에서 주택 가격을 저장하는 데 필요한 코드는"
   ]
  },
  {
   "cell_type": "code",
   "execution_count": 5,
   "metadata": {
    "ExecuteTime": {
     "end_time": "2021-01-23T08:08:36.313162Z",
     "start_time": "2021-01-23T08:08:36.309516Z"
    },
    "execution": {
     "iopub.execute_input": "2020-10-01T00:08:48.510008Z",
     "iopub.status.busy": "2020-10-01T00:08:48.509073Z",
     "iopub.status.idle": "2020-10-01T00:08:48.511473Z",
     "shell.execute_reply": "2020-10-01T00:08:48.511833Z"
    },
    "papermill": {
     "duration": 0.018822,
     "end_time": "2020-10-01T00:08:48.511989",
     "exception": false,
     "start_time": "2020-10-01T00:08:48.493167",
     "status": "completed"
    },
    "tags": []
   },
   "outputs": [],
   "source": [
    "y = melbourne_data.Price"
   ]
  },
  {
   "cell_type": "markdown",
   "metadata": {
    "papermill": {
     "duration": 0.008054,
     "end_time": "2020-10-01T00:08:48.528450",
     "exception": false,
     "start_time": "2020-10-01T00:08:48.520396",
     "status": "completed"
    },
    "tags": []
   },
   "source": [
    "# Choosing \"Features\"\n",
    "\n",
    "The columns that are inputted into our model (and later used to make predictions) are called \"features.\"\n",
    "\n",
    "우리 모델에 입력되는 열(나중에 예측을 하는 데 사용됨)을 \"피처\"라고 함.\n",
    "\n",
    "In our case, those would be the columns used to determine the home price. \n",
    "\n",
    "우리 케이스에서, 그것들은 집값을 결정하는 데 사용되는 컬럼일 것.\n",
    "\n",
    "Sometimes, you will use all columns except the target as features. \n",
    "\n",
    "가끔 우리는 피처에서 타겟을 제외한 모든 컬럼을 사용함.\n",
    "\n",
    "Other times you'll be better off with fewer features. \n",
    "\n",
    "더 적은 기능으로 더 나아질 때도 있음.\n",
    "\n",
    "For now, we'll build a model with only a few features. \n",
    "\n",
    "지금은 우리가 모델을 몇 개의 피처만 포함된 모델을 작성함.\n",
    "\n",
    "Later on you'll see how to iterate and compare models built with different features.\n",
    "\n",
    "나중에 네가 다른 피처들로 만들어진 모델들을 반복하고 비교하는 방법을 볼 수 있음.\n",
    "\n",
    "\n",
    "We select multiple features by providing a list of column names inside brackets. \n",
    "\n",
    "대괄호 안에 컬럼 이름 목록을 제공해서 여러 기능을 선택함.\n",
    "\n",
    "Each item in that list should be a string (with quotes).\n",
    "\n",
    "각 목록의 항목은 열(따옴표 포함)이어야 함.\n",
    "\n",
    "Here is an example:"
   ]
  },
  {
   "cell_type": "code",
   "execution_count": 7,
   "metadata": {
    "ExecuteTime": {
     "end_time": "2021-01-23T08:17:41.699684Z",
     "start_time": "2021-01-23T08:17:41.695849Z"
    },
    "execution": {
     "iopub.execute_input": "2020-10-01T00:08:48.547972Z",
     "iopub.status.busy": "2020-10-01T00:08:48.547401Z",
     "iopub.status.idle": "2020-10-01T00:08:48.550852Z",
     "shell.execute_reply": "2020-10-01T00:08:48.551313Z"
    },
    "papermill": {
     "duration": 0.014703,
     "end_time": "2020-10-01T00:08:48.551451",
     "exception": false,
     "start_time": "2020-10-01T00:08:48.536748",
     "status": "completed"
    },
    "tags": []
   },
   "outputs": [],
   "source": [
    "melbourne_features = ['Rooms', 'Bathroom', 'Landsize', 'Lattitude', 'Longtitude']"
   ]
  },
  {
   "cell_type": "markdown",
   "metadata": {
    "papermill": {
     "duration": 0.008499,
     "end_time": "2020-10-01T00:08:48.570837",
     "exception": false,
     "start_time": "2020-10-01T00:08:48.562338",
     "status": "completed"
    },
    "tags": []
   },
   "source": [
    "By convention, this data is called **X**.\n",
    "\n",
    "관례상 이 데이터들은 X라고 부름."
   ]
  },
  {
   "cell_type": "code",
   "execution_count": 8,
   "metadata": {
    "ExecuteTime": {
     "end_time": "2021-01-23T08:17:58.945210Z",
     "start_time": "2021-01-23T08:17:58.939741Z"
    },
    "execution": {
     "iopub.execute_input": "2020-10-01T00:08:48.590619Z",
     "iopub.status.busy": "2020-10-01T00:08:48.590077Z",
     "iopub.status.idle": "2020-10-01T00:08:48.599001Z",
     "shell.execute_reply": "2020-10-01T00:08:48.598502Z"
    },
    "papermill": {
     "duration": 0.019998,
     "end_time": "2020-10-01T00:08:48.599125",
     "exception": false,
     "start_time": "2020-10-01T00:08:48.579127",
     "status": "completed"
    },
    "tags": []
   },
   "outputs": [],
   "source": [
    "X = melbourne_data[melbourne_features]"
   ]
  },
  {
   "cell_type": "markdown",
   "metadata": {
    "papermill": {
     "duration": 0.008328,
     "end_time": "2020-10-01T00:08:48.616308",
     "exception": false,
     "start_time": "2020-10-01T00:08:48.607980",
     "status": "completed"
    },
    "tags": []
   },
   "source": [
    "Let's quickly review the data we'll be using to predict house prices using the `describe` method and the `head` method, which shows the top few rows.\n",
    "\n",
    "앞으로 집갑 예측에 사용될 자료를 몇 줄로 표시하는 describe와 head를 통해 빨리 검토해보자."
   ]
  },
  {
   "cell_type": "code",
   "execution_count": 9,
   "metadata": {
    "ExecuteTime": {
     "end_time": "2021-01-23T08:18:54.453188Z",
     "start_time": "2021-01-23T08:18:54.419287Z"
    },
    "execution": {
     "iopub.execute_input": "2020-10-01T00:08:48.644065Z",
     "iopub.status.busy": "2020-10-01T00:08:48.643436Z",
     "iopub.status.idle": "2020-10-01T00:08:48.668375Z",
     "shell.execute_reply": "2020-10-01T00:08:48.667734Z"
    },
    "papermill": {
     "duration": 0.043447,
     "end_time": "2020-10-01T00:08:48.668484",
     "exception": false,
     "start_time": "2020-10-01T00:08:48.625037",
     "status": "completed"
    },
    "tags": []
   },
   "outputs": [
    {
     "data": {
      "text/html": [
       "<div>\n",
       "<style scoped>\n",
       "    .dataframe tbody tr th:only-of-type {\n",
       "        vertical-align: middle;\n",
       "    }\n",
       "\n",
       "    .dataframe tbody tr th {\n",
       "        vertical-align: top;\n",
       "    }\n",
       "\n",
       "    .dataframe thead th {\n",
       "        text-align: right;\n",
       "    }\n",
       "</style>\n",
       "<table border=\"1\" class=\"dataframe\">\n",
       "  <thead>\n",
       "    <tr style=\"text-align: right;\">\n",
       "      <th></th>\n",
       "      <th>Rooms</th>\n",
       "      <th>Bathroom</th>\n",
       "      <th>Landsize</th>\n",
       "      <th>Lattitude</th>\n",
       "      <th>Longtitude</th>\n",
       "    </tr>\n",
       "  </thead>\n",
       "  <tbody>\n",
       "    <tr>\n",
       "      <th>count</th>\n",
       "      <td>6196.000000</td>\n",
       "      <td>6196.000000</td>\n",
       "      <td>6196.000000</td>\n",
       "      <td>6196.000000</td>\n",
       "      <td>6196.000000</td>\n",
       "    </tr>\n",
       "    <tr>\n",
       "      <th>mean</th>\n",
       "      <td>2.931407</td>\n",
       "      <td>1.576340</td>\n",
       "      <td>471.006940</td>\n",
       "      <td>-37.807904</td>\n",
       "      <td>144.990201</td>\n",
       "    </tr>\n",
       "    <tr>\n",
       "      <th>std</th>\n",
       "      <td>0.971079</td>\n",
       "      <td>0.711362</td>\n",
       "      <td>897.449881</td>\n",
       "      <td>0.075850</td>\n",
       "      <td>0.099165</td>\n",
       "    </tr>\n",
       "    <tr>\n",
       "      <th>min</th>\n",
       "      <td>1.000000</td>\n",
       "      <td>1.000000</td>\n",
       "      <td>0.000000</td>\n",
       "      <td>-38.164920</td>\n",
       "      <td>144.542370</td>\n",
       "    </tr>\n",
       "    <tr>\n",
       "      <th>25%</th>\n",
       "      <td>2.000000</td>\n",
       "      <td>1.000000</td>\n",
       "      <td>152.000000</td>\n",
       "      <td>-37.855438</td>\n",
       "      <td>144.926198</td>\n",
       "    </tr>\n",
       "    <tr>\n",
       "      <th>50%</th>\n",
       "      <td>3.000000</td>\n",
       "      <td>1.000000</td>\n",
       "      <td>373.000000</td>\n",
       "      <td>-37.802250</td>\n",
       "      <td>144.995800</td>\n",
       "    </tr>\n",
       "    <tr>\n",
       "      <th>75%</th>\n",
       "      <td>4.000000</td>\n",
       "      <td>2.000000</td>\n",
       "      <td>628.000000</td>\n",
       "      <td>-37.758200</td>\n",
       "      <td>145.052700</td>\n",
       "    </tr>\n",
       "    <tr>\n",
       "      <th>max</th>\n",
       "      <td>8.000000</td>\n",
       "      <td>8.000000</td>\n",
       "      <td>37000.000000</td>\n",
       "      <td>-37.457090</td>\n",
       "      <td>145.526350</td>\n",
       "    </tr>\n",
       "  </tbody>\n",
       "</table>\n",
       "</div>"
      ],
      "text/plain": [
       "             Rooms     Bathroom      Landsize    Lattitude   Longtitude\n",
       "count  6196.000000  6196.000000   6196.000000  6196.000000  6196.000000\n",
       "mean      2.931407     1.576340    471.006940   -37.807904   144.990201\n",
       "std       0.971079     0.711362    897.449881     0.075850     0.099165\n",
       "min       1.000000     1.000000      0.000000   -38.164920   144.542370\n",
       "25%       2.000000     1.000000    152.000000   -37.855438   144.926198\n",
       "50%       3.000000     1.000000    373.000000   -37.802250   144.995800\n",
       "75%       4.000000     2.000000    628.000000   -37.758200   145.052700\n",
       "max       8.000000     8.000000  37000.000000   -37.457090   145.526350"
      ]
     },
     "execution_count": 9,
     "metadata": {},
     "output_type": "execute_result"
    }
   ],
   "source": [
    "X.describe()"
   ]
  },
  {
   "cell_type": "code",
   "execution_count": 10,
   "metadata": {
    "ExecuteTime": {
     "end_time": "2021-01-23T08:18:55.448678Z",
     "start_time": "2021-01-23T08:18:55.434352Z"
    },
    "execution": {
     "iopub.execute_input": "2020-10-01T00:08:48.696758Z",
     "iopub.status.busy": "2020-10-01T00:08:48.695862Z",
     "iopub.status.idle": "2020-10-01T00:08:48.699570Z",
     "shell.execute_reply": "2020-10-01T00:08:48.699119Z"
    },
    "papermill": {
     "duration": 0.022438,
     "end_time": "2020-10-01T00:08:48.699670",
     "exception": false,
     "start_time": "2020-10-01T00:08:48.677232",
     "status": "completed"
    },
    "tags": []
   },
   "outputs": [
    {
     "data": {
      "text/html": [
       "<div>\n",
       "<style scoped>\n",
       "    .dataframe tbody tr th:only-of-type {\n",
       "        vertical-align: middle;\n",
       "    }\n",
       "\n",
       "    .dataframe tbody tr th {\n",
       "        vertical-align: top;\n",
       "    }\n",
       "\n",
       "    .dataframe thead th {\n",
       "        text-align: right;\n",
       "    }\n",
       "</style>\n",
       "<table border=\"1\" class=\"dataframe\">\n",
       "  <thead>\n",
       "    <tr style=\"text-align: right;\">\n",
       "      <th></th>\n",
       "      <th>Rooms</th>\n",
       "      <th>Bathroom</th>\n",
       "      <th>Landsize</th>\n",
       "      <th>Lattitude</th>\n",
       "      <th>Longtitude</th>\n",
       "    </tr>\n",
       "  </thead>\n",
       "  <tbody>\n",
       "    <tr>\n",
       "      <th>1</th>\n",
       "      <td>2</td>\n",
       "      <td>1.0</td>\n",
       "      <td>156.0</td>\n",
       "      <td>-37.8079</td>\n",
       "      <td>144.9934</td>\n",
       "    </tr>\n",
       "    <tr>\n",
       "      <th>2</th>\n",
       "      <td>3</td>\n",
       "      <td>2.0</td>\n",
       "      <td>134.0</td>\n",
       "      <td>-37.8093</td>\n",
       "      <td>144.9944</td>\n",
       "    </tr>\n",
       "    <tr>\n",
       "      <th>4</th>\n",
       "      <td>4</td>\n",
       "      <td>1.0</td>\n",
       "      <td>120.0</td>\n",
       "      <td>-37.8072</td>\n",
       "      <td>144.9941</td>\n",
       "    </tr>\n",
       "    <tr>\n",
       "      <th>6</th>\n",
       "      <td>3</td>\n",
       "      <td>2.0</td>\n",
       "      <td>245.0</td>\n",
       "      <td>-37.8024</td>\n",
       "      <td>144.9993</td>\n",
       "    </tr>\n",
       "    <tr>\n",
       "      <th>7</th>\n",
       "      <td>2</td>\n",
       "      <td>1.0</td>\n",
       "      <td>256.0</td>\n",
       "      <td>-37.8060</td>\n",
       "      <td>144.9954</td>\n",
       "    </tr>\n",
       "  </tbody>\n",
       "</table>\n",
       "</div>"
      ],
      "text/plain": [
       "   Rooms  Bathroom  Landsize  Lattitude  Longtitude\n",
       "1      2       1.0     156.0   -37.8079    144.9934\n",
       "2      3       2.0     134.0   -37.8093    144.9944\n",
       "4      4       1.0     120.0   -37.8072    144.9941\n",
       "6      3       2.0     245.0   -37.8024    144.9993\n",
       "7      2       1.0     256.0   -37.8060    144.9954"
      ]
     },
     "execution_count": 10,
     "metadata": {},
     "output_type": "execute_result"
    }
   ],
   "source": [
    "X.head()"
   ]
  },
  {
   "cell_type": "markdown",
   "metadata": {
    "papermill": {
     "duration": 0.00877,
     "end_time": "2020-10-01T00:08:48.717507",
     "exception": false,
     "start_time": "2020-10-01T00:08:48.708737",
     "status": "completed"
    },
    "tags": []
   },
   "source": [
    "Visually checking your data with these commands is an important part of a data scientist's job.  You'll frequently find surprises in the dataset that deserve further inspection."
   ]
  },
  {
   "cell_type": "markdown",
   "metadata": {
    "papermill": {
     "duration": 0.008847,
     "end_time": "2020-10-01T00:08:48.735381",
     "exception": false,
     "start_time": "2020-10-01T00:08:48.726534",
     "status": "completed"
    },
    "tags": []
   },
   "source": [
    "---\n",
    "# Building Your Model\n",
    "\n",
    "You will use the **scikit-learn** library to create your models.  When coding, this library is written as **sklearn**, as you will see in the sample code. Scikit-learn is easily the most popular library for modeling the types of data typically stored in DataFrames. \n",
    "\n",
    "The steps to building and using a model are:\n",
    "* **Define:** What type of model will it be?  A decision tree?  Some other type of model? Some other parameters of the model type are specified too.\n",
    "* **Fit:** Capture patterns from provided data. This is the heart of modeling.\n",
    "* **Predict:** Just what it sounds like\n",
    "* **Evaluate**: Determine how accurate the model's predictions are.\n",
    "\n",
    "Here is an example of defining a decision tree model with scikit-learn and fitting it with the features and target variable."
   ]
  },
  {
   "cell_type": "code",
   "execution_count": 8,
   "metadata": {
    "collapsed": true,
    "execution": {
     "iopub.execute_input": "2020-10-01T00:08:48.758773Z",
     "iopub.status.busy": "2020-10-01T00:08:48.757867Z",
     "iopub.status.idle": "2020-10-01T00:08:49.985037Z",
     "shell.execute_reply": "2020-10-01T00:08:49.984438Z"
    },
    "papermill": {
     "duration": 1.240681,
     "end_time": "2020-10-01T00:08:49.985162",
     "exception": false,
     "start_time": "2020-10-01T00:08:48.744481",
     "status": "completed"
    },
    "tags": []
   },
   "outputs": [
    {
     "data": {
      "text/plain": [
       "DecisionTreeRegressor(random_state=1)"
      ]
     },
     "execution_count": 8,
     "metadata": {},
     "output_type": "execute_result"
    }
   ],
   "source": [
    "from sklearn.tree import DecisionTreeRegressor\n",
    "\n",
    "# Define model. Specify a number for random_state to ensure same results each run\n",
    "melbourne_model = DecisionTreeRegressor(random_state=1)\n",
    "\n",
    "# Fit model\n",
    "melbourne_model.fit(X, y)"
   ]
  },
  {
   "cell_type": "markdown",
   "metadata": {
    "papermill": {
     "duration": 0.009466,
     "end_time": "2020-10-01T00:08:50.004274",
     "exception": false,
     "start_time": "2020-10-01T00:08:49.994808",
     "status": "completed"
    },
    "tags": []
   },
   "source": [
    "Many machine learning models allow some randomness in model training. Specifying a number for `random_state` ensures you get the same results in each run. This is considered a good practice. You use any number, and model quality won't depend meaningfully on exactly what value you choose.\n",
    "\n",
    "We now have a fitted model that we can use to make predictions.\n",
    "\n",
    "In practice, you'll want to make predictions for new houses coming on the market rather than the houses we already have prices for. But we'll make predictions for the first few rows of the training data to see how the predict function works.\n"
   ]
  },
  {
   "cell_type": "code",
   "execution_count": 9,
   "metadata": {
    "collapsed": true,
    "execution": {
     "iopub.execute_input": "2020-10-01T00:08:50.032279Z",
     "iopub.status.busy": "2020-10-01T00:08:50.031503Z",
     "iopub.status.idle": "2020-10-01T00:08:50.035574Z",
     "shell.execute_reply": "2020-10-01T00:08:50.035134Z"
    },
    "papermill": {
     "duration": 0.022308,
     "end_time": "2020-10-01T00:08:50.035672",
     "exception": false,
     "start_time": "2020-10-01T00:08:50.013364",
     "status": "completed"
    },
    "tags": []
   },
   "outputs": [
    {
     "name": "stdout",
     "output_type": "stream",
     "text": [
      "Making predictions for the following 5 houses:\n",
      "   Rooms  Bathroom  Landsize  Lattitude  Longtitude\n",
      "1      2       1.0     156.0   -37.8079    144.9934\n",
      "2      3       2.0     134.0   -37.8093    144.9944\n",
      "4      4       1.0     120.0   -37.8072    144.9941\n",
      "6      3       2.0     245.0   -37.8024    144.9993\n",
      "7      2       1.0     256.0   -37.8060    144.9954\n",
      "The predictions are\n",
      "[1035000. 1465000. 1600000. 1876000. 1636000.]\n"
     ]
    }
   ],
   "source": [
    "print(\"Making predictions for the following 5 houses:\")\n",
    "print(X.head())\n",
    "print(\"The predictions are\")\n",
    "print(melbourne_model.predict(X.head()))"
   ]
  },
  {
   "cell_type": "markdown",
   "metadata": {
    "papermill": {
     "duration": 0.009244,
     "end_time": "2020-10-01T00:08:50.054628",
     "exception": false,
     "start_time": "2020-10-01T00:08:50.045384",
     "status": "completed"
    },
    "tags": []
   },
   "source": [
    "# Your Turn\n",
    "Try it out yourself in the **[Model Building Exercise](https://www.kaggle.com/kernels/fork/1404276)**"
   ]
  },
  {
   "cell_type": "markdown",
   "metadata": {
    "papermill": {
     "duration": 0.009117,
     "end_time": "2020-10-01T00:08:50.073193",
     "exception": false,
     "start_time": "2020-10-01T00:08:50.064076",
     "status": "completed"
    },
    "tags": []
   },
   "source": [
    "---\n",
    "\n",
    "\n",
    "\n",
    "\n",
    "*Have questions or comments? Visit the [Learn Discussion forum](https://www.kaggle.com/learn-forum/161285) to chat with other Learners.*"
   ]
  }
 ],
 "metadata": {
  "kernelspec": {
   "display_name": "Python 3",
   "language": "python",
   "name": "python3"
  },
  "language_info": {
   "codemirror_mode": {
    "name": "ipython",
    "version": 3
   },
   "file_extension": ".py",
   "mimetype": "text/x-python",
   "name": "python",
   "nbconvert_exporter": "python",
   "pygments_lexer": "ipython3",
   "version": "3.8.5"
  },
  "papermill": {
   "duration": 6.105476,
   "end_time": "2020-10-01T00:08:50.189133",
   "environment_variables": {},
   "exception": null,
   "input_path": "__notebook__.ipynb",
   "output_path": "__notebook__.ipynb",
   "parameters": {},
   "start_time": "2020-10-01T00:08:44.083657",
   "version": "2.1.0"
  },
  "toc": {
   "base_numbering": 1,
   "nav_menu": {},
   "number_sections": true,
   "sideBar": true,
   "skip_h1_title": false,
   "title_cell": "Table of Contents",
   "title_sidebar": "Contents",
   "toc_cell": false,
   "toc_position": {},
   "toc_section_display": true,
   "toc_window_display": false
  },
  "varInspector": {
   "cols": {
    "lenName": 16,
    "lenType": 16,
    "lenVar": 40
   },
   "kernels_config": {
    "python": {
     "delete_cmd_postfix": "",
     "delete_cmd_prefix": "del ",
     "library": "var_list.py",
     "varRefreshCmd": "print(var_dic_list())"
    },
    "r": {
     "delete_cmd_postfix": ") ",
     "delete_cmd_prefix": "rm(",
     "library": "var_list.r",
     "varRefreshCmd": "cat(var_dic_list()) "
    }
   },
   "types_to_exclude": [
    "module",
    "function",
    "builtin_function_or_method",
    "instance",
    "_Feature"
   ],
   "window_display": false
  }
 },
 "nbformat": 4,
 "nbformat_minor": 2
}
