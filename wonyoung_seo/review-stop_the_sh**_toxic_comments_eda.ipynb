{
 "cells": [
  {
   "cell_type": "markdown",
   "metadata": {},
   "source": [
    "# Reference Notebook\n",
    "\n",
    "- [Stop the S@#$ - Toxic Comments EDA](https://www.kaggle.com/jagangupta/stop-the-s-toxic-comments-eda)\n",
    "\n",
    "- [EDA : Toxic Comment Classification Challenge](https://www.kaggle.com/clinma/eda-toxic-comment-classification-challenge)\n",
    "\n",
    "- [Toxic Exploration](https://www.kaggle.com/madcap/toxic-exploration)"
   ]
  },
  {
   "cell_type": "markdown",
   "metadata": {},
   "source": [
    "# 대회 설명\n",
    "\n",
    "## 목적\n",
    "\n",
    "## 데이터 설명"
   ]
  },
  {
   "cell_type": "markdown",
   "metadata": {},
   "source": [
    "# 패키지 및 데이터 준비"
   ]
  },
  {
   "cell_type": "code",
   "execution_count": 2,
   "metadata": {},
   "outputs": [],
   "source": [
    "import pandas as pd \n",
    "import numpy as np\n",
    "\n",
    "import time\n",
    "import warnings\n",
    "\n",
    "import matplotlib.pyplot as plt\n",
    "import matplotlib.gridspec as gridspec \n",
    "import seaborn as sns\n",
    "from wordcloud import WordCloud ,STOPWORDS\n",
    "from PIL import Image\n",
    "import matplotlib_venn as venn\n",
    "\n",
    "color = sns.color_palette()\n",
    "sns.set_style(\"dark\")\n",
    "warnings.filterwarnings(\"ignore\")"
   ]
  },
  {
   "cell_type": "code",
   "execution_count": 3,
   "metadata": {},
   "outputs": [],
   "source": [
    "train = pd.read_csv(\"dataset/toxic-comment-classification/train.csv\")\n",
    "test = pd.read_csv(\"dataset/toxic-comment-classification/test.csv\")"
   ]
  },
  {
   "cell_type": "code",
   "execution_count": 4,
   "metadata": {},
   "outputs": [
    {
     "name": "stdout",
     "output_type": "stream",
     "text": [
      "<class 'pandas.core.frame.DataFrame'>\n",
      "RangeIndex: 159571 entries, 0 to 159570\n",
      "Data columns (total 8 columns):\n",
      " #   Column         Non-Null Count   Dtype \n",
      "---  ------         --------------   ----- \n",
      " 0   id             159571 non-null  object\n",
      " 1   comment_text   159571 non-null  object\n",
      " 2   toxic          159571 non-null  int64 \n",
      " 3   severe_toxic   159571 non-null  int64 \n",
      " 4   obscene        159571 non-null  int64 \n",
      " 5   threat         159571 non-null  int64 \n",
      " 6   insult         159571 non-null  int64 \n",
      " 7   identity_hate  159571 non-null  int64 \n",
      "dtypes: int64(6), object(2)\n",
      "memory usage: 9.7+ MB\n",
      "None\n"
     ]
    },
    {
     "data": {
      "text/html": [
       "<div>\n",
       "<style scoped>\n",
       "    .dataframe tbody tr th:only-of-type {\n",
       "        vertical-align: middle;\n",
       "    }\n",
       "\n",
       "    .dataframe tbody tr th {\n",
       "        vertical-align: top;\n",
       "    }\n",
       "\n",
       "    .dataframe thead th {\n",
       "        text-align: right;\n",
       "    }\n",
       "</style>\n",
       "<table border=\"1\" class=\"dataframe\">\n",
       "  <thead>\n",
       "    <tr style=\"text-align: right;\">\n",
       "      <th></th>\n",
       "      <th>id</th>\n",
       "      <th>comment_text</th>\n",
       "      <th>toxic</th>\n",
       "      <th>severe_toxic</th>\n",
       "      <th>obscene</th>\n",
       "      <th>threat</th>\n",
       "      <th>insult</th>\n",
       "      <th>identity_hate</th>\n",
       "    </tr>\n",
       "  </thead>\n",
       "  <tbody>\n",
       "    <tr>\n",
       "      <th>159566</th>\n",
       "      <td>ffe987279560d7ff</td>\n",
       "      <td>\":::::And for the second time of asking, when ...</td>\n",
       "      <td>0</td>\n",
       "      <td>0</td>\n",
       "      <td>0</td>\n",
       "      <td>0</td>\n",
       "      <td>0</td>\n",
       "      <td>0</td>\n",
       "    </tr>\n",
       "    <tr>\n",
       "      <th>159567</th>\n",
       "      <td>ffea4adeee384e90</td>\n",
       "      <td>You should be ashamed of yourself \\n\\nThat is ...</td>\n",
       "      <td>0</td>\n",
       "      <td>0</td>\n",
       "      <td>0</td>\n",
       "      <td>0</td>\n",
       "      <td>0</td>\n",
       "      <td>0</td>\n",
       "    </tr>\n",
       "    <tr>\n",
       "      <th>159568</th>\n",
       "      <td>ffee36eab5c267c9</td>\n",
       "      <td>Spitzer \\n\\nUmm, theres no actual article for ...</td>\n",
       "      <td>0</td>\n",
       "      <td>0</td>\n",
       "      <td>0</td>\n",
       "      <td>0</td>\n",
       "      <td>0</td>\n",
       "      <td>0</td>\n",
       "    </tr>\n",
       "    <tr>\n",
       "      <th>159569</th>\n",
       "      <td>fff125370e4aaaf3</td>\n",
       "      <td>And it looks like it was actually you who put ...</td>\n",
       "      <td>0</td>\n",
       "      <td>0</td>\n",
       "      <td>0</td>\n",
       "      <td>0</td>\n",
       "      <td>0</td>\n",
       "      <td>0</td>\n",
       "    </tr>\n",
       "    <tr>\n",
       "      <th>159570</th>\n",
       "      <td>fff46fc426af1f9a</td>\n",
       "      <td>\"\\nAnd ... I really don't think you understand...</td>\n",
       "      <td>0</td>\n",
       "      <td>0</td>\n",
       "      <td>0</td>\n",
       "      <td>0</td>\n",
       "      <td>0</td>\n",
       "      <td>0</td>\n",
       "    </tr>\n",
       "  </tbody>\n",
       "</table>\n",
       "</div>"
      ],
      "text/plain": [
       "                      id                                       comment_text  \\\n",
       "159566  ffe987279560d7ff  \":::::And for the second time of asking, when ...   \n",
       "159567  ffea4adeee384e90  You should be ashamed of yourself \\n\\nThat is ...   \n",
       "159568  ffee36eab5c267c9  Spitzer \\n\\nUmm, theres no actual article for ...   \n",
       "159569  fff125370e4aaaf3  And it looks like it was actually you who put ...   \n",
       "159570  fff46fc426af1f9a  \"\\nAnd ... I really don't think you understand...   \n",
       "\n",
       "        toxic  severe_toxic  obscene  threat  insult  identity_hate  \n",
       "159566      0             0        0       0       0              0  \n",
       "159567      0             0        0       0       0              0  \n",
       "159568      0             0        0       0       0              0  \n",
       "159569      0             0        0       0       0              0  \n",
       "159570      0             0        0       0       0              0  "
      ]
     },
     "execution_count": 4,
     "metadata": {},
     "output_type": "execute_result"
    }
   ],
   "source": [
    "print(train.info())\n",
    "train.tail()"
   ]
  },
  {
   "cell_type": "markdown",
   "metadata": {},
   "source": [
    "# EDA"
   ]
  },
  {
   "cell_type": "markdown",
   "metadata": {},
   "source": [
    "## Class Imbalance\n",
    "\n",
    "train 데이터셋의 클래스 불균형한지에 대한 여부를 확인해보자."
   ]
  },
  {
   "cell_type": "code",
   "execution_count": 5,
   "metadata": {},
   "outputs": [
    {
     "name": "stdout",
     "output_type": "stream",
     "text": [
      "Total comments:  159571\n",
      "Total clean comments:  143346\n",
      "Total toxic comment tags:  35098\n"
     ]
    }
   ],
   "source": [
    "# one-hot encoding 형태로 toxic label이 체크된 comment\n",
    "toxic_onehot_labels = train.iloc[:, 2:]\n",
    "\n",
    "# 그 어느 toxic label도 체크되지 않은 clean comment 확인하기\n",
    "rowsums = toxic_onehot_labels.sum(axis=1)\n",
    "train['clean'] = (rowsums==0)\n",
    "\n",
    "print(\"Total comments: \", len(train))\n",
    "print(\"Total clean comments: \", train['clean'].sum())\n",
    "print(\"Total toxic comment tags: \", toxic_onehot_labels.sum().sum())"
   ]
  },
  {
   "cell_type": "code",
   "execution_count": 10,
   "metadata": {},
   "outputs": [
    {
     "name": "stdout",
     "output_type": "stream",
     "text": [
      "Check for missing values in Train dataset\n",
      "id               0\n",
      "comment_text     0\n",
      "toxic            0\n",
      "severe_toxic     0\n",
      "obscene          0\n",
      "threat           0\n",
      "insult           0\n",
      "identity_hate    0\n",
      "clean            0\n",
      "dtype: int64 \n",
      "\n",
      "Check for missing values in Test dataset\n",
      "id              0\n",
      "comment_text    0\n",
      "dtype: int64 \n",
      "\n"
     ]
    }
   ],
   "source": [
    "print(\"Check for missing values in Train dataset\")\n",
    "null_check_train = train.isnull().sum()\n",
    "print(null_check_train, \"\\n\")\n",
    "\n",
    "print(\"Check for missing values in Test dataset\")\n",
    "null_check_test = test.isnull().sum()\n",
    "print(null_check_test, \"\\n\")\n",
    "\n",
    "# Fill NA with \"unknown\" string\n",
    "train[\"comment_text\"].fillna(\"unknown\", inplace=True)\n",
    "test[\"comment_text\"].fillna(\"unknown\", inplace=True)"
   ]
  },
  {
   "cell_type": "code",
   "execution_count": 11,
   "metadata": {},
   "outputs": [
    {
     "data": {
      "image/png": "[encoded data removed]",
      "text/plain": [
       "<Figure size 576x288 with 1 Axes>"
      ]
     },
     "metadata": {},
     "output_type": "display_data"
    }
   ],
   "source": [
    "# Plotting counts per category\n",
    "\n",
    "x = train.iloc[:,2:].sum()\n",
    "plt.figure(figsize=(8, 4))\n",
    "ax = sns.barplot(x.index, x.values, alpha=0.8)\n",
    "\n",
    "plt.title(\"# per class\")\n",
    "plt.ylabel(\"# of Occurrences\", fontsize=12)\n",
    "plt.xlabel(\"Type\", fontsize=12)\n",
    "\n",
    "rects = ax.patches\n",
    "labels = x.values\n",
    "for rect, label in zip(rects, labels):\n",
    "    height = rect.get_height()\n",
    "    ax.text(\n",
    "        rect.get_x() + rect.get_width()/2,\n",
    "        height + 5,\n",
    "        label, \n",
    "        ha='center',\n",
    "        va=\"bottom\"\n",
    "    )\n",
    "    \n",
    "plt.show()"
   ]
  },
  {
   "cell_type": "markdown",
   "metadata": {},
   "source": [
    "### 관찰 결과\n",
    "\n",
    "- 각 class에 할당된 comment의 수가 균일한 분포를 띄고 있지 않다. 따라서 class imbalance 문제를 맞닥뜨릴 수 있다.\n",
    "- 전체 train 데이터셋은 약 약 159k 건, 그런데 toxic comment tag 수는 약 35k 건, clean comment 수는 약 143건.\n",
    "    - Multi-tagging이 있으므로 가능하다. 즉, 각 class가 서로 exclusive한 multi-class문제가 아닌 1건의 comment가 1개 이상의 class를 가지느 multi-label문제일 가능성이 있다."
   ]
  },
  {
   "cell_type": "markdown",
   "metadata": {},
   "source": [
    "## Multi-tagging"
   ]
  },
  {
   "cell_type": "code",
   "execution_count": 33,
   "metadata": {},
   "outputs": [
    {
     "name": "stdout",
     "output_type": "stream",
     "text": [
      "percentile for each tag count:\n",
      "0    0.898321\n",
      "1    0.039857\n",
      "3    0.026377\n",
      "2    0.021808\n",
      "4    0.011030\n",
      "5    0.002413\n",
      "6    0.000194\n",
      "dtype: float64\n"
     ]
    },
    {
     "data": {
      "image/png": "[encoded data removed]",
      "text/plain": [
       "<Figure size 576x288 with 1 Axes>"
      ]
     },
     "metadata": {},
     "output_type": "display_data"
    }
   ],
   "source": [
    "print(\"percentile for each tag count:\")\n",
    "print(rowsums.value_counts('per'))\n",
    "x = rowsums.value_counts()\n",
    "\n",
    "plt.figure(figsize=(8,4))\n",
    "ax = sns.barplot(x.index, x.values, alpha=0.8,color=color[2])\n",
    "plt.title(\"Multiple tags per comment\")\n",
    "plt.ylabel('# of Occurrences', fontsize=12)\n",
    "plt.xlabel('# of tags ', fontsize=12)\n",
    "\n",
    "rects = ax.patches\n",
    "labels = x.values\n",
    "for rect, label in zip(rects, labels):\n",
    "    height = rect.get_height()\n",
    "    ax.text(rect.get_x() + rect.get_width()/2, height + 5, label, ha='center', va='bottom')\n",
    "\n",
    "plt.show()"
   ]
  },
  {
   "cell_type": "markdown",
   "metadata": {},
   "source": [
    "- 2개 이상의 label이 태깅된 comment가 있음을 확인할 수 있다."
   ]
  },
  {
   "cell_type": "markdown",
   "metadata": {},
   "source": [
    "## Crosstab"
   ]
  },
  {
   "cell_type": "code",
   "execution_count": 9,
   "metadata": {},
   "outputs": [
    {
     "data": {
      "text/html": [
       "<style  type=\"text/css\" >\n",
       "#T_0b632914_5e31_11eb_8a9f_faffc250f193row0_col1,#T_0b632914_5e31_11eb_8a9f_faffc250f193row0_col3,#T_0b632914_5e31_11eb_8a9f_faffc250f193row0_col5,#T_0b632914_5e31_11eb_8a9f_faffc250f193row0_col7,#T_0b632914_5e31_11eb_8a9f_faffc250f193row0_col9,#T_0b632914_5e31_11eb_8a9f_faffc250f193row1_col0,#T_0b632914_5e31_11eb_8a9f_faffc250f193row1_col2,#T_0b632914_5e31_11eb_8a9f_faffc250f193row1_col4,#T_0b632914_5e31_11eb_8a9f_faffc250f193row1_col6,#T_0b632914_5e31_11eb_8a9f_faffc250f193row1_col8{\n",
       "            background-color:  yellow;\n",
       "        }</style><table id=\"T_0b632914_5e31_11eb_8a9f_faffc250f193\" ><thead>    <tr>        <th class=\"blank level0\" ></th>        <th class=\"col_heading level0 col0\" colspan=2>severe_toxic</th>        <th class=\"col_heading level0 col2\" colspan=2>obscene</th>        <th class=\"col_heading level0 col4\" colspan=2>threat</th>        <th class=\"col_heading level0 col6\" colspan=2>insult</th>        <th class=\"col_heading level0 col8\" colspan=2>identity_hate</th>    </tr>    <tr>        <th class=\"index_name level1\" >severe_toxic</th>        <th class=\"col_heading level1 col0\" >0</th>        <th class=\"col_heading level1 col1\" >1</th>        <th class=\"col_heading level1 col2\" >0</th>        <th class=\"col_heading level1 col3\" >1</th>        <th class=\"col_heading level1 col4\" >0</th>        <th class=\"col_heading level1 col5\" >1</th>        <th class=\"col_heading level1 col6\" >0</th>        <th class=\"col_heading level1 col7\" >1</th>        <th class=\"col_heading level1 col8\" >0</th>        <th class=\"col_heading level1 col9\" >1</th>    </tr>    <tr>        <th class=\"index_name level0\" >toxic</th>        <th class=\"blank\" ></th>        <th class=\"blank\" ></th>        <th class=\"blank\" ></th>        <th class=\"blank\" ></th>        <th class=\"blank\" ></th>        <th class=\"blank\" ></th>        <th class=\"blank\" ></th>        <th class=\"blank\" ></th>        <th class=\"blank\" ></th>        <th class=\"blank\" ></th>    </tr></thead><tbody>\n",
       "                <tr>\n",
       "                        <th id=\"T_0b632914_5e31_11eb_8a9f_faffc250f193level0_row0\" class=\"row_heading level0 row0\" >0</th>\n",
       "                        <td id=\"T_0b632914_5e31_11eb_8a9f_faffc250f193row0_col0\" class=\"data row0 col0\" >144277</td>\n",
       "                        <td id=\"T_0b632914_5e31_11eb_8a9f_faffc250f193row0_col1\" class=\"data row0 col1\" >0</td>\n",
       "                        <td id=\"T_0b632914_5e31_11eb_8a9f_faffc250f193row0_col2\" class=\"data row0 col2\" >143754</td>\n",
       "                        <td id=\"T_0b632914_5e31_11eb_8a9f_faffc250f193row0_col3\" class=\"data row0 col3\" >523</td>\n",
       "                        <td id=\"T_0b632914_5e31_11eb_8a9f_faffc250f193row0_col4\" class=\"data row0 col4\" >144248</td>\n",
       "                        <td id=\"T_0b632914_5e31_11eb_8a9f_faffc250f193row0_col5\" class=\"data row0 col5\" >29</td>\n",
       "                        <td id=\"T_0b632914_5e31_11eb_8a9f_faffc250f193row0_col6\" class=\"data row0 col6\" >143744</td>\n",
       "                        <td id=\"T_0b632914_5e31_11eb_8a9f_faffc250f193row0_col7\" class=\"data row0 col7\" >533</td>\n",
       "                        <td id=\"T_0b632914_5e31_11eb_8a9f_faffc250f193row0_col8\" class=\"data row0 col8\" >144174</td>\n",
       "                        <td id=\"T_0b632914_5e31_11eb_8a9f_faffc250f193row0_col9\" class=\"data row0 col9\" >103</td>\n",
       "            </tr>\n",
       "            <tr>\n",
       "                        <th id=\"T_0b632914_5e31_11eb_8a9f_faffc250f193level0_row1\" class=\"row_heading level0 row1\" >1</th>\n",
       "                        <td id=\"T_0b632914_5e31_11eb_8a9f_faffc250f193row1_col0\" class=\"data row1 col0\" >13699</td>\n",
       "                        <td id=\"T_0b632914_5e31_11eb_8a9f_faffc250f193row1_col1\" class=\"data row1 col1\" >1595</td>\n",
       "                        <td id=\"T_0b632914_5e31_11eb_8a9f_faffc250f193row1_col2\" class=\"data row1 col2\" >7368</td>\n",
       "                        <td id=\"T_0b632914_5e31_11eb_8a9f_faffc250f193row1_col3\" class=\"data row1 col3\" >7926</td>\n",
       "                        <td id=\"T_0b632914_5e31_11eb_8a9f_faffc250f193row1_col4\" class=\"data row1 col4\" >14845</td>\n",
       "                        <td id=\"T_0b632914_5e31_11eb_8a9f_faffc250f193row1_col5\" class=\"data row1 col5\" >449</td>\n",
       "                        <td id=\"T_0b632914_5e31_11eb_8a9f_faffc250f193row1_col6\" class=\"data row1 col6\" >7950</td>\n",
       "                        <td id=\"T_0b632914_5e31_11eb_8a9f_faffc250f193row1_col7\" class=\"data row1 col7\" >7344</td>\n",
       "                        <td id=\"T_0b632914_5e31_11eb_8a9f_faffc250f193row1_col8\" class=\"data row1 col8\" >13992</td>\n",
       "                        <td id=\"T_0b632914_5e31_11eb_8a9f_faffc250f193row1_col9\" class=\"data row1 col9\" >1302</td>\n",
       "            </tr>\n",
       "    </tbody></table>"
      ],
      "text/plain": [
       "<pandas.io.formats.style.Styler at 0x141190a90>"
      ]
     },
     "execution_count": 9,
     "metadata": {},
     "output_type": "execute_result"
    }
   ],
   "source": [
    "#Crosstab\n",
    "# Since technically a crosstab between all 6 classes is impossible to vizualize, lets take a \n",
    "# look at toxic with other tags\n",
    "\n",
    "def highlight_min(data, color='yellow'):\n",
    "    '''\n",
    "    highlight the maximum in a Series or DataFrame\n",
    "    '''\n",
    "    attr = 'background-color: {}'.format(color)\n",
    "    if data.ndim == 1:  # Series from .apply(axis=0) or axis=1\n",
    "        is_min = data == data.min()\n",
    "        return [attr if v else '' for v in is_min]\n",
    "    else:  # from .apply(axis=None)\n",
    "        is_max = data == data.min().min()\n",
    "        return pd.DataFrame(np.where(is_min, attr, ''),\n",
    "                            index=data.index, columns=data.columns)\n",
    "\n",
    "main_col=\"toxic\"\n",
    "corr_mats=[]\n",
    "for other_col in temp_df.columns[1:]:\n",
    "    confusion_matrix = pd.crosstab(temp_df[main_col], temp_df[other_col])\n",
    "    corr_mats.append(confusion_matrix)\n",
    "out = pd.concat(corr_mats,axis=1,keys=temp_df.columns[1:])\n",
    "\n",
    "#cell highlighting\n",
    "out = out.style.apply(highlight_min,axis=0)\n",
    "out"
   ]
  },
  {
   "cell_type": "code",
   "execution_count": null,
   "metadata": {},
   "outputs": [],
   "source": []
  }
 ],
 "metadata": {
  "kernelspec": {
   "display_name": "Python 3",
   "language": "python",
   "name": "python3"
  },
  "language_info": {
   "codemirror_mode": {
    "name": "ipython",
    "version": 3
   },
   "file_extension": ".py",
   "mimetype": "text/x-python",
   "name": "python",
   "nbconvert_exporter": "python",
   "pygments_lexer": "ipython3",
   "version": "3.7.7"
  }
 },
 "nbformat": 4,
 "nbformat_minor": 4
}
