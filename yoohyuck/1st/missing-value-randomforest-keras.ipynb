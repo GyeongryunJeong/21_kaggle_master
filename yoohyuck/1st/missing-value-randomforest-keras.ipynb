{
 "cells": [
  {
   "cell_type": "markdown",
   "metadata": {
    "papermill": {
     "duration": 0.018716,
     "end_time": "2021-01-23T01:40:00.085530",
     "exception": false,
     "start_time": "2021-01-23T01:40:00.066814",
     "status": "completed"
    },
    "tags": []
   },
   "source": [
    "housing price prediction."
   ]
  },
  {
   "cell_type": "markdown",
   "metadata": {
    "papermill": {
     "duration": 0.017555,
     "end_time": "2021-01-23T01:40:00.122338",
     "exception": false,
     "start_time": "2021-01-23T01:40:00.104783",
     "status": "completed"
    },
    "tags": []
   },
   "source": [
    "TODO.\n",
    "* Replace null value to specific values. See [missing data](https://pandas.pydata.org/pandas-docs/stable/user_guide/missing_data.html), [One hot](https://www.kaggle.com/alexisbcook/categorical-variables).\n",
    "* Other Model like keras.\n",
    "\n",
    "DONE.\n",
    "* Version 3: Drop missing columns.(train loss 180XX -> submit: 19817).\n",
    "* Version 7: Fill missing number columns with SimpleImputer.\n",
    "  * NaN values in number columns are filled with 'mean(default)'. (loss 175XX.)\n",
    "  * NaN(np.nan) values in object columns are filled with 'most_frequent'. (Train loss 170XX -> Submit: 20514)\n",
    "* Version 8: Add Keras Model. (Submit: 46590)\n",
    "* Version 9~ : Optimize Keras."
   ]
  },
  {
   "cell_type": "code",
   "execution_count": 1,
   "metadata": {
    "execution": {
     "iopub.execute_input": "2021-01-23T01:40:00.167086Z",
     "iopub.status.busy": "2021-01-23T01:40:00.166403Z",
     "iopub.status.idle": "2021-01-23T01:40:00.273313Z",
     "shell.execute_reply": "2021-01-23T01:40:00.273959Z"
    },
    "papermill": {
     "duration": 0.13448,
     "end_time": "2021-01-23T01:40:00.274212",
     "exception": false,
     "start_time": "2021-01-23T01:40:00.139732",
     "status": "completed"
    },
    "tags": []
   },
   "outputs": [],
   "source": [
    "import glob\n",
    "\n",
    "import pandas as pd\n",
    "\n",
    "train = pd.read_csv('../input/train.csv')\n",
    "test = pd.read_csv('../input/test.csv')"
   ]
  },
  {
   "cell_type": "code",
   "execution_count": 2,
   "metadata": {
    "execution": {
     "iopub.execute_input": "2021-01-23T01:40:00.314219Z",
     "iopub.status.busy": "2021-01-23T01:40:00.313142Z",
     "iopub.status.idle": "2021-01-23T01:40:00.351786Z",
     "shell.execute_reply": "2021-01-23T01:40:00.351195Z"
    },
    "papermill": {
     "duration": 0.05972,
     "end_time": "2021-01-23T01:40:00.351946",
     "exception": false,
     "start_time": "2021-01-23T01:40:00.292226",
     "status": "completed"
    },
    "tags": []
   },
   "outputs": [
    {
     "name": "stdout",
     "output_type": "stream",
     "text": [
      "total col num: 81\n",
      "object column names: ['MSZoning', 'Street', 'Alley', 'LotShape', 'LandContour', 'Utilities', 'LotConfig', 'LandSlope', 'Neighborhood', 'Condition1', 'Condition2', 'BldgType', 'HouseStyle', 'RoofStyle', 'RoofMatl', 'Exterior1st', 'Exterior2nd', 'MasVnrType', 'ExterQual', 'ExterCond', 'Foundation', 'BsmtQual', 'BsmtCond', 'BsmtExposure', 'BsmtFinType1', 'BsmtFinType2', 'Heating', 'HeatingQC', 'CentralAir', 'Electrical', 'KitchenQual', 'Functional', 'FireplaceQu', 'GarageType', 'GarageFinish', 'GarageQual', 'GarageCond', 'PavedDrive', 'PoolQC', 'Fence', 'MiscFeature', 'SaleType', 'SaleCondition']\n",
      "number column names: ['Id', 'MSSubClass', 'LotFrontage', 'LotArea', 'OverallQual', 'OverallCond', 'YearBuilt', 'YearRemodAdd', 'MasVnrArea', 'BsmtFinSF1', 'BsmtFinSF2', 'BsmtUnfSF', 'TotalBsmtSF', '1stFlrSF', '2ndFlrSF', 'LowQualFinSF', 'GrLivArea', 'BsmtFullBath', 'BsmtHalfBath', 'FullBath', 'HalfBath', 'BedroomAbvGr', 'KitchenAbvGr', 'TotRmsAbvGrd', 'Fireplaces', 'GarageYrBlt', 'GarageCars', 'GarageArea', 'WoodDeckSF', 'OpenPorchSF', 'EnclosedPorch', '3SsnPorch', 'ScreenPorch', 'PoolArea', 'MiscVal', 'MoSold', 'YrSold', 'SalePrice']\n",
      "Null exist columns in train: ['LotFrontage', 'Alley', 'MasVnrType', 'MasVnrArea', 'BsmtQual', 'BsmtCond', 'BsmtExposure', 'BsmtFinType1', 'BsmtFinType2', 'Electrical', 'FireplaceQu', 'GarageType', 'GarageYrBlt', 'GarageFinish', 'GarageQual', 'GarageCond', 'PoolQC', 'Fence', 'MiscFeature']\n",
      "Null exist columns in test: ['MSZoning', 'LotFrontage', 'Alley', 'Utilities', 'Exterior1st', 'Exterior2nd', 'MasVnrType', 'MasVnrArea', 'BsmtQual', 'BsmtCond', 'BsmtExposure', 'BsmtFinType1', 'BsmtFinSF1', 'BsmtFinType2', 'BsmtFinSF2', 'BsmtUnfSF', 'TotalBsmtSF', 'BsmtFullBath', 'BsmtHalfBath', 'KitchenQual', 'Functional', 'FireplaceQu', 'GarageType', 'GarageYrBlt', 'GarageFinish', 'GarageCars', 'GarageArea', 'GarageQual', 'GarageCond', 'PoolQC', 'Fence', 'MiscFeature', 'SaleType']\n"
     ]
    }
   ],
   "source": [
    "print(f'total col num: {len(train.columns)}')\n",
    "print(f'object column names: {train.select_dtypes(include=\"object\").columns.tolist()}')\n",
    "print(f'number column names: {train.select_dtypes(include=\"number\").columns.tolist()}')\n",
    "print(f'Null exist columns in train: {train.columns[train.isna().any()].tolist()}')\n",
    "print(f'Null exist columns in test: {test.columns[test.isna().any()].tolist()}')"
   ]
  },
  {
   "cell_type": "code",
   "execution_count": 3,
   "metadata": {
    "execution": {
     "iopub.execute_input": "2021-01-23T01:40:00.405756Z",
     "iopub.status.busy": "2021-01-23T01:40:00.404888Z",
     "iopub.status.idle": "2021-01-23T01:40:00.417795Z",
     "shell.execute_reply": "2021-01-23T01:40:00.418403Z"
    },
    "papermill": {
     "duration": 0.047848,
     "end_time": "2021-01-23T01:40:00.418572",
     "exception": false,
     "start_time": "2021-01-23T01:40:00.370724",
     "status": "completed"
    },
    "tags": []
   },
   "outputs": [],
   "source": [
    "test_ids = test.Id\n",
    "null_cols_train = train.columns[train.isna().any()].tolist()\n",
    "null_cols_test = test.columns[test.isna().any()].tolist()"
   ]
  },
  {
   "cell_type": "code",
   "execution_count": 4,
   "metadata": {
    "execution": {
     "iopub.execute_input": "2021-01-23T01:40:00.466197Z",
     "iopub.status.busy": "2021-01-23T01:40:00.465084Z",
     "iopub.status.idle": "2021-01-23T01:40:00.489483Z",
     "shell.execute_reply": "2021-01-23T01:40:00.488846Z"
    },
    "papermill": {
     "duration": 0.051991,
     "end_time": "2021-01-23T01:40:00.489666",
     "exception": false,
     "start_time": "2021-01-23T01:40:00.437675",
     "status": "completed"
    },
    "tags": []
   },
   "outputs": [
    {
     "data": {
      "text/plain": [
       "[('MasVnrArea', 327),\n",
       " ('LotFrontage', 110),\n",
       " ('GarageYrBlt', 97),\n",
       " ('BsmtFinType1', 6),\n",
       " ('BsmtFinType2', 6)]"
      ]
     },
     "execution_count": 4,
     "metadata": {},
     "output_type": "execute_result"
    }
   ],
   "source": [
    "sorted(train[null_cols_train].nunique().to_dict().items(), key=lambda x: x[1], reverse=True)[:5]"
   ]
  },
  {
   "cell_type": "code",
   "execution_count": 5,
   "metadata": {
    "execution": {
     "iopub.execute_input": "2021-01-23T01:40:00.536136Z",
     "iopub.status.busy": "2021-01-23T01:40:00.535448Z",
     "iopub.status.idle": "2021-01-23T01:40:00.551314Z",
     "shell.execute_reply": "2021-01-23T01:40:00.551886Z"
    },
    "papermill": {
     "duration": 0.043248,
     "end_time": "2021-01-23T01:40:00.552055",
     "exception": false,
     "start_time": "2021-01-23T01:40:00.508807",
     "status": "completed"
    },
    "tags": []
   },
   "outputs": [
    {
     "data": {
      "text/plain": [
       "[('BsmtUnfSF', 793),\n",
       " ('TotalBsmtSF', 736),\n",
       " ('BsmtFinSF1', 669),\n",
       " ('GarageArea', 459),\n",
       " ('MasVnrArea', 303)]"
      ]
     },
     "execution_count": 5,
     "metadata": {},
     "output_type": "execute_result"
    }
   ],
   "source": [
    "sorted(test[null_cols_test].nunique().to_dict().items(), key=lambda x: x[1], reverse=True)[:5]"
   ]
  },
  {
   "cell_type": "code",
   "execution_count": 6,
   "metadata": {
    "execution": {
     "iopub.execute_input": "2021-01-23T01:40:00.599502Z",
     "iopub.status.busy": "2021-01-23T01:40:00.598823Z",
     "iopub.status.idle": "2021-01-23T01:40:01.951855Z",
     "shell.execute_reply": "2021-01-23T01:40:01.952393Z"
    },
    "papermill": {
     "duration": 1.380871,
     "end_time": "2021-01-23T01:40:01.952574",
     "exception": false,
     "start_time": "2021-01-23T01:40:00.571703",
     "status": "completed"
    },
    "tags": []
   },
   "outputs": [],
   "source": [
    "from sklearn.impute import SimpleImputer\n",
    "\n",
    "number_columns = train.select_dtypes(include='number').columns.tolist()\n",
    "number_columns.remove('SalePrice')\n",
    "my_imputer = SimpleImputer(strategy='mean')\n",
    "imputed_X_train = pd.DataFrame(my_imputer.fit_transform(train[number_columns]))\n",
    "imputed_X_test = pd.DataFrame(my_imputer.fit_transform(test[number_columns]))\n",
    "\n",
    "imputed_X_train.columns = train[number_columns].columns\n",
    "imputed_X_test.columns = test[number_columns].columns"
   ]
  },
  {
   "cell_type": "code",
   "execution_count": 7,
   "metadata": {
    "execution": {
     "iopub.execute_input": "2021-01-23T01:40:01.996160Z",
     "iopub.status.busy": "2021-01-23T01:40:01.995412Z",
     "iopub.status.idle": "2021-01-23T01:40:02.019667Z",
     "shell.execute_reply": "2021-01-23T01:40:02.020400Z"
    },
    "papermill": {
     "duration": 0.047905,
     "end_time": "2021-01-23T01:40:02.020593",
     "exception": false,
     "start_time": "2021-01-23T01:40:01.972688",
     "status": "completed"
    },
    "tags": []
   },
   "outputs": [],
   "source": [
    "for number_column in number_columns:\n",
    "    train[number_column] = imputed_X_train[number_column]\n",
    "    test[number_column] = imputed_X_test[number_column]"
   ]
  },
  {
   "cell_type": "code",
   "execution_count": 8,
   "metadata": {
    "execution": {
     "iopub.execute_input": "2021-01-23T01:40:02.063915Z",
     "iopub.status.busy": "2021-01-23T01:40:02.063260Z",
     "iopub.status.idle": "2021-01-23T01:40:02.246847Z",
     "shell.execute_reply": "2021-01-23T01:40:02.246282Z"
    },
    "papermill": {
     "duration": 0.206673,
     "end_time": "2021-01-23T01:40:02.246975",
     "exception": false,
     "start_time": "2021-01-23T01:40:02.040302",
     "status": "completed"
    },
    "tags": []
   },
   "outputs": [],
   "source": [
    "import numpy as np\n",
    "\n",
    "object_columns = train.select_dtypes(include='object').columns.tolist()\n",
    "most_freq_imputer = SimpleImputer(missing_values=np.nan,strategy='most_frequent')\n",
    "imputed_X_train = pd.DataFrame(most_freq_imputer.fit_transform(train[object_columns]))\n",
    "imputed_X_test = pd.DataFrame(most_freq_imputer.fit_transform(test[object_columns]))\n",
    "\n",
    "imputed_X_train.columns = train[object_columns].columns\n",
    "imputed_X_test.columns = test[object_columns].columns\n",
    "\n",
    "for object_column in object_columns:\n",
    "    train[object_column] = imputed_X_train[object_column]\n",
    "    test[object_column] = imputed_X_test[object_column]"
   ]
  },
  {
   "cell_type": "code",
   "execution_count": 9,
   "metadata": {
    "execution": {
     "iopub.execute_input": "2021-01-23T01:40:02.295063Z",
     "iopub.status.busy": "2021-01-23T01:40:02.294381Z",
     "iopub.status.idle": "2021-01-23T01:40:02.317314Z",
     "shell.execute_reply": "2021-01-23T01:40:02.318428Z"
    },
    "papermill": {
     "duration": 0.051983,
     "end_time": "2021-01-23T01:40:02.318712",
     "exception": false,
     "start_time": "2021-01-23T01:40:02.266729",
     "status": "completed"
    },
    "tags": []
   },
   "outputs": [
    {
     "name": "stdout",
     "output_type": "stream",
     "text": [
      "{'Id'}\n",
      "set()\n"
     ]
    }
   ],
   "source": [
    "test_ids = test.Id\n",
    "null_cols_train = train.columns[train.isna().any()].tolist()\n",
    "null_cols_test = test.columns[test.isna().any()].tolist()\n",
    "null_cols = set(null_cols_train) | set(null_cols_test)\n",
    "null_cols.add('Id')\n",
    "print(set(number_columns) & set(null_cols))\n",
    "print(set(object_columns) & set(null_cols))"
   ]
  },
  {
   "cell_type": "code",
   "execution_count": 10,
   "metadata": {
    "execution": {
     "iopub.execute_input": "2021-01-23T01:40:02.364614Z",
     "iopub.status.busy": "2021-01-23T01:40:02.363843Z",
     "iopub.status.idle": "2021-01-23T01:40:02.372359Z",
     "shell.execute_reply": "2021-01-23T01:40:02.372853Z"
    },
    "papermill": {
     "duration": 0.032974,
     "end_time": "2021-01-23T01:40:02.373025",
     "exception": false,
     "start_time": "2021-01-23T01:40:02.340051",
     "status": "completed"
    },
    "tags": []
   },
   "outputs": [],
   "source": [
    "train = train.drop(columns = null_cols)\n",
    "test = test.drop(columns = null_cols)"
   ]
  },
  {
   "cell_type": "code",
   "execution_count": 11,
   "metadata": {
    "execution": {
     "iopub.execute_input": "2021-01-23T01:40:02.418272Z",
     "iopub.status.busy": "2021-01-23T01:40:02.417544Z",
     "iopub.status.idle": "2021-01-23T01:40:02.423387Z",
     "shell.execute_reply": "2021-01-23T01:40:02.423984Z"
    },
    "papermill": {
     "duration": 0.030501,
     "end_time": "2021-01-23T01:40:02.424171",
     "exception": false,
     "start_time": "2021-01-23T01:40:02.393670",
     "status": "completed"
    },
    "tags": []
   },
   "outputs": [
    {
     "data": {
      "text/plain": [
       "{'SalePrice'}"
      ]
     },
     "execution_count": 11,
     "metadata": {},
     "output_type": "execute_result"
    }
   ],
   "source": [
    "set(train.columns.tolist()) ^ set(test.columns.tolist())"
   ]
  },
  {
   "cell_type": "code",
   "execution_count": 12,
   "metadata": {
    "execution": {
     "iopub.execute_input": "2021-01-23T01:40:02.486869Z",
     "iopub.status.busy": "2021-01-23T01:40:02.486164Z",
     "iopub.status.idle": "2021-01-23T01:40:02.637143Z",
     "shell.execute_reply": "2021-01-23T01:40:02.635451Z"
    },
    "papermill": {
     "duration": 0.189881,
     "end_time": "2021-01-23T01:40:02.637313",
     "exception": false,
     "start_time": "2021-01-23T01:40:02.447432",
     "status": "completed"
    },
    "tags": []
   },
   "outputs": [
    {
     "name": "stdout",
     "output_type": "stream",
     "text": [
      "MSZoning\n",
      "Street\n",
      "Alley\n",
      "LotShape\n",
      "LandContour\n",
      "Utilities\n",
      "LotConfig\n",
      "LandSlope\n",
      "Neighborhood\n",
      "Condition1\n",
      "Condition2\n",
      "BldgType\n",
      "HouseStyle\n",
      "RoofStyle\n",
      "RoofMatl\n",
      "Exterior1st\n",
      "Exterior2nd\n",
      "MasVnrType\n",
      "ExterQual\n",
      "ExterCond\n",
      "Foundation\n",
      "BsmtQual\n",
      "BsmtCond\n",
      "BsmtExposure\n",
      "BsmtFinType1\n",
      "BsmtFinType2\n",
      "Heating\n",
      "HeatingQC\n",
      "CentralAir\n",
      "Electrical\n",
      "KitchenQual\n",
      "Functional\n",
      "FireplaceQu\n",
      "GarageType\n",
      "GarageFinish\n",
      "GarageQual\n",
      "GarageCond\n",
      "PavedDrive\n",
      "PoolQC\n",
      "Fence\n",
      "MiscFeature\n",
      "SaleType\n",
      "SaleCondition\n"
     ]
    }
   ],
   "source": [
    "from sklearn.preprocessing import LabelEncoder\n",
    "\n",
    "object_cols = train.select_dtypes(include='object').columns\n",
    "label_encoder = LabelEncoder()\n",
    "for col in object_cols:\n",
    "    print(col)\n",
    "    train[col] = label_encoder.fit_transform(train[col])   \n",
    "    test[col] = label_encoder.fit_transform(test[col])"
   ]
  },
  {
   "cell_type": "code",
   "execution_count": 13,
   "metadata": {
    "execution": {
     "iopub.execute_input": "2021-01-23T01:40:02.693916Z",
     "iopub.status.busy": "2021-01-23T01:40:02.693020Z",
     "iopub.status.idle": "2021-01-23T01:40:02.762690Z",
     "shell.execute_reply": "2021-01-23T01:40:02.761941Z"
    },
    "papermill": {
     "duration": 0.102454,
     "end_time": "2021-01-23T01:40:02.762833",
     "exception": false,
     "start_time": "2021-01-23T01:40:02.660379",
     "status": "completed"
    },
    "tags": []
   },
   "outputs": [],
   "source": [
    "from sklearn import preprocessing\n",
    "\n",
    "min_max_scaler = preprocessing.MinMaxScaler()\n",
    "for col in train.columns:\n",
    "    if col == 'SalePrice':\n",
    "        continue\n",
    "    col_val = train[col].values\n",
    "    col_val_scaled = min_max_scaler.fit_transform(col_val.reshape(-1,1))\n",
    "    train[col] = col_val_scaled\n",
    "    \n",
    "    col_val = test[col].values\n",
    "    col_val_scaled = min_max_scaler.fit_transform(col_val.reshape(-1,1))\n",
    "    test[col] = col_val_scaled"
   ]
  },
  {
   "cell_type": "code",
   "execution_count": 14,
   "metadata": {
    "execution": {
     "iopub.execute_input": "2021-01-23T01:40:02.816231Z",
     "iopub.status.busy": "2021-01-23T01:40:02.815467Z",
     "iopub.status.idle": "2021-01-23T01:40:02.826669Z",
     "shell.execute_reply": "2021-01-23T01:40:02.827222Z"
    },
    "papermill": {
     "duration": 0.042258,
     "end_time": "2021-01-23T01:40:02.827414",
     "exception": false,
     "start_time": "2021-01-23T01:40:02.785156",
     "status": "completed"
    },
    "tags": []
   },
   "outputs": [],
   "source": [
    "from sklearn.model_selection import train_test_split\n",
    "\n",
    "y = train.SalePrice\n",
    "X = train.drop(['SalePrice'], axis=1)\n",
    "\n",
    "X_train, X_valid, y_train, y_valid = train_test_split(X, y, train_size=0.8, test_size=0.2, random_state=0)"
   ]
  },
  {
   "cell_type": "code",
   "execution_count": 15,
   "metadata": {
    "execution": {
     "iopub.execute_input": "2021-01-23T01:40:02.880656Z",
     "iopub.status.busy": "2021-01-23T01:40:02.879862Z",
     "iopub.status.idle": "2021-01-23T01:40:02.949559Z",
     "shell.execute_reply": "2021-01-23T01:40:02.950229Z"
    },
    "papermill": {
     "duration": 0.100402,
     "end_time": "2021-01-23T01:40:02.950411",
     "exception": false,
     "start_time": "2021-01-23T01:40:02.850009",
     "status": "completed"
    },
    "tags": []
   },
   "outputs": [],
   "source": [
    "from sklearn.ensemble import RandomForestRegressor\n",
    "from sklearn.metrics import mean_absolute_error\n",
    "\n",
    "def RandomForest(X_train, X_valid, y_train, y_valid):\n",
    "    model = RandomForestRegressor(n_estimators=100, random_state=0)\n",
    "    model.fit(X_train, y_train)\n",
    "    preds = model.predict(X_valid)\n",
    "    print(mean_absolute_error(y_valid, preds))\n",
    "    return model"
   ]
  },
  {
   "cell_type": "code",
   "execution_count": 16,
   "metadata": {
    "execution": {
     "iopub.execute_input": "2021-01-23T01:40:02.999452Z",
     "iopub.status.busy": "2021-01-23T01:40:02.998408Z",
     "iopub.status.idle": "2021-01-23T01:40:04.995876Z",
     "shell.execute_reply": "2021-01-23T01:40:04.996487Z"
    },
    "papermill": {
     "duration": 2.023942,
     "end_time": "2021-01-23T01:40:04.996661",
     "exception": false,
     "start_time": "2021-01-23T01:40:02.972719",
     "status": "completed"
    },
    "tags": []
   },
   "outputs": [
    {
     "name": "stdout",
     "output_type": "stream",
     "text": [
      "17068.869897260272\n"
     ]
    }
   ],
   "source": [
    "random_forest = RandomForest(X_train, X_valid, y_train, y_valid)"
   ]
  },
  {
   "cell_type": "code",
   "execution_count": 17,
   "metadata": {
    "execution": {
     "iopub.execute_input": "2021-01-23T01:40:05.059566Z",
     "iopub.status.busy": "2021-01-23T01:40:05.056870Z",
     "iopub.status.idle": "2021-01-23T01:40:17.595989Z",
     "shell.execute_reply": "2021-01-23T01:40:17.596751Z"
    },
    "papermill": {
     "duration": 12.576404,
     "end_time": "2021-01-23T01:40:17.596991",
     "exception": false,
     "start_time": "2021-01-23T01:40:05.020587",
     "status": "completed"
    },
    "tags": []
   },
   "outputs": [],
   "source": [
    "import collections\n",
    "forest_dict = collections.defaultdict(float)\n",
    "\n",
    "for idx, test_id in enumerate(test_ids):\n",
    "     forest_dict[test_id] = random_forest.predict([test.iloc[idx].values])\n",
    "\n",
    "new_forest_dict = {}\n",
    "new_forest_dict['Id'] = [int(Id) for Id in forest_dict.keys()]\n",
    "new_forest_dict['SalePrice'] = [ float(value) for value in forest_dict.values()]"
   ]
  },
  {
   "cell_type": "code",
   "execution_count": 18,
   "metadata": {
    "execution": {
     "iopub.execute_input": "2021-01-23T01:40:17.677422Z",
     "iopub.status.busy": "2021-01-23T01:40:17.676289Z",
     "iopub.status.idle": "2021-01-23T01:40:18.148553Z",
     "shell.execute_reply": "2021-01-23T01:40:18.147589Z"
    },
    "papermill": {
     "duration": 0.516481,
     "end_time": "2021-01-23T01:40:18.148704",
     "exception": false,
     "start_time": "2021-01-23T01:40:17.632223",
     "status": "completed"
    },
    "tags": []
   },
   "outputs": [],
   "source": [
    "result = pd.DataFrame.from_dict(new_forest_dict)\n",
    "result\n",
    "result.to_csv('/kaggle/working/forest_submission.csv', index=False)"
   ]
  },
  {
   "cell_type": "code",
   "execution_count": 19,
   "metadata": {
    "execution": {
     "iopub.execute_input": "2021-01-23T01:40:18.207207Z",
     "iopub.status.busy": "2021-01-23T01:40:18.206266Z",
     "iopub.status.idle": "2021-01-23T01:40:24.696631Z",
     "shell.execute_reply": "2021-01-23T01:40:24.695369Z"
    },
    "papermill": {
     "duration": 6.523853,
     "end_time": "2021-01-23T01:40:24.696860",
     "exception": false,
     "start_time": "2021-01-23T01:40:18.173007",
     "status": "completed"
    },
    "tags": []
   },
   "outputs": [],
   "source": [
    "import tensorflow as tf\n",
    "\n",
    "def build_keras_model(X_train):\n",
    "    keras_model = tf.keras.Sequential([\n",
    "        tf.keras.layers.Dense(64, activation='relu', input_shape=[len(X_train.columns.tolist())]),\n",
    "        tf.keras.layers.Dropout(0.2),\n",
    "        tf.keras.layers.Dense(32, activation='relu'),\n",
    "        tf.keras.layers.Dense(1)\n",
    "        ])\n",
    "    \n",
    "    optimizer = tf.keras.optimizers.Adam(0.01)\n",
    "    keras_model.compile(loss='mse',\n",
    "                        optimizer=optimizer,\n",
    "                        metrics=['mae', 'mse'])\n",
    "    return keras_model\n"
   ]
  },
  {
   "cell_type": "code",
   "execution_count": 20,
   "metadata": {
    "execution": {
     "iopub.execute_input": "2021-01-23T01:40:24.749712Z",
     "iopub.status.busy": "2021-01-23T01:40:24.748973Z",
     "iopub.status.idle": "2021-01-23T01:40:24.937125Z",
     "shell.execute_reply": "2021-01-23T01:40:24.936426Z"
    },
    "papermill": {
     "duration": 0.21687,
     "end_time": "2021-01-23T01:40:24.937258",
     "exception": false,
     "start_time": "2021-01-23T01:40:24.720388",
     "status": "completed"
    },
    "tags": []
   },
   "outputs": [],
   "source": [
    "keras_model = build_keras_model(X_train)"
   ]
  },
  {
   "cell_type": "code",
   "execution_count": 21,
   "metadata": {
    "execution": {
     "iopub.execute_input": "2021-01-23T01:40:24.994604Z",
     "iopub.status.busy": "2021-01-23T01:40:24.993524Z",
     "iopub.status.idle": "2021-01-23T01:40:25.346530Z",
     "shell.execute_reply": "2021-01-23T01:40:25.345464Z"
    },
    "papermill": {
     "duration": 0.384687,
     "end_time": "2021-01-23T01:40:25.346699",
     "exception": false,
     "start_time": "2021-01-23T01:40:24.962012",
     "status": "completed"
    },
    "tags": []
   },
   "outputs": [
    {
     "data": {
      "text/plain": [
       "array([[-0.0314002 ],\n",
       "       [-0.28758287],\n",
       "       [-0.45704234],\n",
       "       [-0.2554793 ],\n",
       "       [-0.31706524],\n",
       "       [-0.24188928],\n",
       "       [-0.02387852],\n",
       "       [-0.20192948],\n",
       "       [-0.00124363],\n",
       "       [-0.30687225]], dtype=float32)"
      ]
     },
     "execution_count": 21,
     "metadata": {},
     "output_type": "execute_result"
    }
   ],
   "source": [
    "keras_model.predict(X_train[:10])"
   ]
  },
  {
   "cell_type": "code",
   "execution_count": 22,
   "metadata": {
    "execution": {
     "iopub.execute_input": "2021-01-23T01:40:25.407985Z",
     "iopub.status.busy": "2021-01-23T01:40:25.405081Z",
     "iopub.status.idle": "2021-01-23T01:40:34.648161Z",
     "shell.execute_reply": "2021-01-23T01:40:34.647334Z"
    },
    "papermill": {
     "duration": 9.275188,
     "end_time": "2021-01-23T01:40:34.648291",
     "exception": false,
     "start_time": "2021-01-23T01:40:25.373103",
     "status": "completed"
    },
    "tags": []
   },
   "outputs": [
    {
     "name": "stdout",
     "output_type": "stream",
     "text": [
      "Epoch 1/100\n",
      "37/37 [==============================] - 0s 7ms/step - loss: 38761500672.0000 - mae: 180569.1094 - mse: 38761500672.0000 - val_loss: 39378198528.0000 - val_mae: 180210.1094 - val_mse: 39378198528.0000\n",
      "Epoch 2/100\n",
      "37/37 [==============================] - 0s 2ms/step - loss: 36684238848.0000 - mae: 174773.6875 - mse: 36684238848.0000 - val_loss: 34218342400.0000 - val_mae: 165404.4375 - val_mse: 34218342400.0000\n",
      "Epoch 3/100\n",
      "37/37 [==============================] - 0s 2ms/step - loss: 26428092416.0000 - mae: 141889.3906 - mse: 26428092416.0000 - val_loss: 18261686272.0000 - val_mae: 107504.5391 - val_mse: 18261686272.0000\n",
      "Epoch 4/100\n",
      "37/37 [==============================] - 0s 2ms/step - loss: 10179689472.0000 - mae: 72633.3203 - mse: 10179689472.0000 - val_loss: 6581886464.0000 - val_mae: 52770.9297 - val_mse: 6581886464.0000\n",
      "Epoch 5/100\n",
      "37/37 [==============================] - 0s 2ms/step - loss: 5861586432.0000 - mae: 56454.7773 - mse: 5861586432.0000 - val_loss: 6194306560.0000 - val_mae: 53564.9648 - val_mse: 6194306560.0000\n",
      "Epoch 6/100\n",
      "37/37 [==============================] - 0s 2ms/step - loss: 5479059968.0000 - mae: 54088.9297 - mse: 5479059968.0000 - val_loss: 5969071104.0000 - val_mae: 51731.6367 - val_mse: 5969071104.0000\n",
      "Epoch 7/100\n",
      "37/37 [==============================] - 0s 2ms/step - loss: 5329600000.0000 - mae: 52279.3359 - mse: 5329600000.0000 - val_loss: 5736735744.0000 - val_mae: 50796.2812 - val_mse: 5736735744.0000\n",
      "Epoch 8/100\n",
      "37/37 [==============================] - 0s 2ms/step - loss: 5138819072.0000 - mae: 51772.0898 - mse: 5138819072.0000 - val_loss: 5505647104.0000 - val_mae: 49837.1055 - val_mse: 5505647104.0000\n",
      "Epoch 9/100\n",
      "37/37 [==============================] - 0s 2ms/step - loss: 4830748160.0000 - mae: 50149.3359 - mse: 4830748160.0000 - val_loss: 5273607168.0000 - val_mae: 48497.6055 - val_mse: 5273607168.0000\n",
      "Epoch 10/100\n",
      "37/37 [==============================] - 0s 2ms/step - loss: 4719094272.0000 - mae: 50019.6445 - mse: 4719094272.0000 - val_loss: 5041607680.0000 - val_mae: 46633.1016 - val_mse: 5041607680.0000\n",
      "Epoch 11/100\n",
      "37/37 [==============================] - 0s 2ms/step - loss: 4449764864.0000 - mae: 47774.0586 - mse: 4449764864.0000 - val_loss: 4814964736.0000 - val_mae: 45336.9648 - val_mse: 4814964736.0000\n",
      "Epoch 12/100\n",
      "37/37 [==============================] - 0s 2ms/step - loss: 4149063424.0000 - mae: 46013.2109 - mse: 4149063424.0000 - val_loss: 4561984000.0000 - val_mae: 44418.8281 - val_mse: 4561984000.0000\n",
      "Epoch 13/100\n",
      "37/37 [==============================] - 0s 2ms/step - loss: 4016140288.0000 - mae: 45869.3555 - mse: 4016140288.0000 - val_loss: 4332026368.0000 - val_mae: 41964.5391 - val_mse: 4332026368.0000\n",
      "Epoch 14/100\n",
      "37/37 [==============================] - 0s 2ms/step - loss: 3821224960.0000 - mae: 43543.7656 - mse: 3821224960.0000 - val_loss: 4089156096.0000 - val_mae: 40191.5586 - val_mse: 4089156096.0000\n",
      "Epoch 15/100\n",
      "37/37 [==============================] - 0s 2ms/step - loss: 3677803264.0000 - mae: 42272.8359 - mse: 3677803264.0000 - val_loss: 3824048896.0000 - val_mae: 39599.9805 - val_mse: 3824048896.0000\n",
      "Epoch 16/100\n",
      "37/37 [==============================] - 0s 2ms/step - loss: 3349980928.0000 - mae: 40640.4844 - mse: 3349980928.0000 - val_loss: 3580734976.0000 - val_mae: 37854.3516 - val_mse: 3580734976.0000\n",
      "Epoch 17/100\n",
      "37/37 [==============================] - 0s 2ms/step - loss: 3213337088.0000 - mae: 39614.4688 - mse: 3213337088.0000 - val_loss: 3351972608.0000 - val_mae: 35304.6836 - val_mse: 3351972608.0000\n",
      "Epoch 18/100\n",
      "37/37 [==============================] - 0s 2ms/step - loss: 2842609920.0000 - mae: 36926.9023 - mse: 2842609920.0000 - val_loss: 3114877952.0000 - val_mae: 34905.9961 - val_mse: 3114877952.0000\n",
      "Epoch 19/100\n",
      "37/37 [==============================] - 0s 2ms/step - loss: 2846524672.0000 - mae: 36469.1953 - mse: 2846524672.0000 - val_loss: 2887700736.0000 - val_mae: 32144.8223 - val_mse: 2887700736.0000\n",
      "Epoch 20/100\n",
      "37/37 [==============================] - 0s 2ms/step - loss: 2381584896.0000 - mae: 32984.3047 - mse: 2381584896.0000 - val_loss: 2696933120.0000 - val_mae: 31112.7090 - val_mse: 2696933120.0000\n",
      "Epoch 21/100\n",
      "37/37 [==============================] - 0s 2ms/step - loss: 2317573888.0000 - mae: 32447.5859 - mse: 2317573888.0000 - val_loss: 2530616064.0000 - val_mae: 28797.0781 - val_mse: 2530616064.0000\n",
      "Epoch 22/100\n",
      "37/37 [==============================] - 0s 2ms/step - loss: 2292354560.0000 - mae: 32218.2324 - mse: 2292354560.0000 - val_loss: 2370007808.0000 - val_mae: 28074.4316 - val_mse: 2370007808.0000\n",
      "Epoch 23/100\n",
      "37/37 [==============================] - 0s 2ms/step - loss: 2081965568.0000 - mae: 30474.3594 - mse: 2081965568.0000 - val_loss: 2267677184.0000 - val_mae: 27036.7871 - val_mse: 2267677184.0000\n",
      "Epoch 24/100\n",
      "37/37 [==============================] - 0s 2ms/step - loss: 1922547456.0000 - mae: 29858.1738 - mse: 1922547456.0000 - val_loss: 2183614720.0000 - val_mae: 26337.9355 - val_mse: 2183614720.0000\n",
      "Epoch 25/100\n",
      "37/37 [==============================] - 0s 2ms/step - loss: 1876864000.0000 - mae: 28963.9727 - mse: 1876864000.0000 - val_loss: 2113366528.0000 - val_mae: 26620.9844 - val_mse: 2113366528.0000\n",
      "Epoch 26/100\n",
      "37/37 [==============================] - 0s 2ms/step - loss: 1928547840.0000 - mae: 29485.1230 - mse: 1928547840.0000 - val_loss: 2051070336.0000 - val_mae: 25945.9570 - val_mse: 2051070336.0000\n",
      "Epoch 27/100\n",
      "37/37 [==============================] - 0s 2ms/step - loss: 1725206272.0000 - mae: 28684.9688 - mse: 1725206272.0000 - val_loss: 2038781440.0000 - val_mae: 25016.7910 - val_mse: 2038781440.0000\n",
      "Epoch 28/100\n",
      "37/37 [==============================] - 0s 2ms/step - loss: 1678580096.0000 - mae: 28149.8574 - mse: 1678580096.0000 - val_loss: 1997041920.0000 - val_mae: 24813.1914 - val_mse: 1997041920.0000\n",
      "Epoch 29/100\n",
      "37/37 [==============================] - 0s 2ms/step - loss: 1820372352.0000 - mae: 28541.4492 - mse: 1820372352.0000 - val_loss: 1981182720.0000 - val_mae: 24405.4473 - val_mse: 1981182720.0000\n",
      "Epoch 30/100\n",
      "37/37 [==============================] - 0s 2ms/step - loss: 1703859328.0000 - mae: 28043.2832 - mse: 1703859328.0000 - val_loss: 1940595200.0000 - val_mae: 24200.5020 - val_mse: 1940595200.0000\n",
      "Epoch 31/100\n",
      "37/37 [==============================] - 0s 2ms/step - loss: 1776185600.0000 - mae: 28694.9883 - mse: 1776185600.0000 - val_loss: 1913077760.0000 - val_mae: 24814.1875 - val_mse: 1913077760.0000\n",
      "Epoch 32/100\n",
      "37/37 [==============================] - 0s 2ms/step - loss: 1555330944.0000 - mae: 26561.0430 - mse: 1555330944.0000 - val_loss: 1883349376.0000 - val_mae: 23829.7930 - val_mse: 1883349376.0000\n",
      "Epoch 33/100\n",
      "37/37 [==============================] - 0s 2ms/step - loss: 1515788032.0000 - mae: 26596.8711 - mse: 1515788032.0000 - val_loss: 1877197952.0000 - val_mae: 23498.4434 - val_mse: 1877197952.0000\n",
      "Epoch 34/100\n",
      "37/37 [==============================] - 0s 2ms/step - loss: 1517295872.0000 - mae: 27123.1602 - mse: 1517295872.0000 - val_loss: 1870705280.0000 - val_mae: 23273.7285 - val_mse: 1870705280.0000\n",
      "Epoch 35/100\n",
      "37/37 [==============================] - 0s 2ms/step - loss: 1518077312.0000 - mae: 26395.7148 - mse: 1518077312.0000 - val_loss: 1844807936.0000 - val_mae: 22974.1152 - val_mse: 1844807936.0000\n",
      "Epoch 36/100\n",
      "37/37 [==============================] - 0s 2ms/step - loss: 1511801216.0000 - mae: 26257.3379 - mse: 1511801216.0000 - val_loss: 1835889152.0000 - val_mae: 22868.5566 - val_mse: 1835889152.0000\n",
      "Epoch 37/100\n",
      "37/37 [==============================] - 0s 2ms/step - loss: 1513510144.0000 - mae: 25988.3926 - mse: 1513510144.0000 - val_loss: 1819793536.0000 - val_mae: 22930.3262 - val_mse: 1819793536.0000\n",
      "Epoch 38/100\n",
      "37/37 [==============================] - 0s 2ms/step - loss: 1417052032.0000 - mae: 25975.2129 - mse: 1417052032.0000 - val_loss: 1821137280.0000 - val_mae: 22450.0254 - val_mse: 1821137280.0000\n",
      "Epoch 39/100\n",
      "37/37 [==============================] - 0s 2ms/step - loss: 1492701696.0000 - mae: 25938.5020 - mse: 1492701696.0000 - val_loss: 1805429504.0000 - val_mae: 22436.3125 - val_mse: 1805429504.0000\n",
      "Epoch 40/100\n",
      "37/37 [==============================] - 0s 2ms/step - loss: 1443345280.0000 - mae: 25898.6152 - mse: 1443345280.0000 - val_loss: 1802563840.0000 - val_mae: 22364.8320 - val_mse: 1802563840.0000\n",
      "Epoch 41/100\n",
      "37/37 [==============================] - 0s 2ms/step - loss: 1396175360.0000 - mae: 25811.0703 - mse: 1396175360.0000 - val_loss: 1854801920.0000 - val_mae: 22883.8555 - val_mse: 1854801920.0000\n",
      "Epoch 42/100\n",
      "37/37 [==============================] - 0s 2ms/step - loss: 1386118784.0000 - mae: 25640.9746 - mse: 1386118784.0000 - val_loss: 1826908672.0000 - val_mae: 22435.6875 - val_mse: 1826908672.0000\n",
      "Epoch 43/100\n",
      "37/37 [==============================] - 0s 2ms/step - loss: 1433374592.0000 - mae: 26005.7168 - mse: 1433374592.0000 - val_loss: 1790774784.0000 - val_mae: 21922.5664 - val_mse: 1790774784.0000\n",
      "Epoch 44/100\n",
      "37/37 [==============================] - 0s 2ms/step - loss: 1297980416.0000 - mae: 24853.5762 - mse: 1297980416.0000 - val_loss: 1805977600.0000 - val_mae: 22081.7715 - val_mse: 1805977600.0000\n",
      "Epoch 45/100\n",
      "37/37 [==============================] - 0s 2ms/step - loss: 1265895040.0000 - mae: 24519.9922 - mse: 1265895040.0000 - val_loss: 1790867840.0000 - val_mae: 21778.6641 - val_mse: 1790867840.0000\n",
      "Epoch 46/100\n",
      "37/37 [==============================] - 0s 2ms/step - loss: 1209312896.0000 - mae: 24267.8242 - mse: 1209312896.0000 - val_loss: 1797184256.0000 - val_mae: 21835.2148 - val_mse: 1797184256.0000\n",
      "Epoch 47/100\n",
      "37/37 [==============================] - 0s 2ms/step - loss: 1243538816.0000 - mae: 24706.3125 - mse: 1243538816.0000 - val_loss: 1788024320.0000 - val_mae: 21538.6738 - val_mse: 1788024320.0000\n",
      "Epoch 48/100\n",
      "37/37 [==============================] - 0s 2ms/step - loss: 1343229184.0000 - mae: 24894.9355 - mse: 1343229184.0000 - val_loss: 1790070912.0000 - val_mae: 21466.9863 - val_mse: 1790070912.0000\n",
      "Epoch 49/100\n",
      "37/37 [==============================] - 0s 2ms/step - loss: 1321408128.0000 - mae: 24322.3418 - mse: 1321408128.0000 - val_loss: 1789387264.0000 - val_mae: 21390.9316 - val_mse: 1789387264.0000\n",
      "Epoch 50/100\n",
      "37/37 [==============================] - 0s 2ms/step - loss: 1198233600.0000 - mae: 24043.3613 - mse: 1198233600.0000 - val_loss: 1796153088.0000 - val_mae: 21407.2793 - val_mse: 1796153088.0000\n",
      "Epoch 51/100\n",
      "37/37 [==============================] - 0s 2ms/step - loss: 1329802368.0000 - mae: 25091.7148 - mse: 1329802368.0000 - val_loss: 1806427648.0000 - val_mae: 21629.3887 - val_mse: 1806427648.0000\n",
      "Epoch 52/100\n",
      "37/37 [==============================] - 0s 2ms/step - loss: 1351040896.0000 - mae: 25202.8711 - mse: 1351040896.0000 - val_loss: 1801430656.0000 - val_mae: 21404.6191 - val_mse: 1801430656.0000\n",
      "Epoch 53/100\n",
      "37/37 [==============================] - 0s 2ms/step - loss: 1220713984.0000 - mae: 24636.6328 - mse: 1220713984.0000 - val_loss: 1834552448.0000 - val_mae: 21956.5254 - val_mse: 1834552448.0000\n",
      "Epoch 54/100\n",
      "37/37 [==============================] - 0s 2ms/step - loss: 1350974080.0000 - mae: 25045.1660 - mse: 1350974080.0000 - val_loss: 1805472512.0000 - val_mae: 21292.6445 - val_mse: 1805472512.0000\n",
      "Epoch 55/100\n",
      "37/37 [==============================] - 0s 2ms/step - loss: 1298704512.0000 - mae: 24638.7578 - mse: 1298704512.0000 - val_loss: 1822177920.0000 - val_mae: 21566.1621 - val_mse: 1822177920.0000\n",
      "Epoch 56/100\n",
      "37/37 [==============================] - 0s 2ms/step - loss: 1267847168.0000 - mae: 24601.9258 - mse: 1267847168.0000 - val_loss: 1817884416.0000 - val_mae: 21333.5547 - val_mse: 1817884416.0000\n",
      "Epoch 57/100\n",
      "37/37 [==============================] - 0s 2ms/step - loss: 1320171264.0000 - mae: 24589.1582 - mse: 1320171264.0000 - val_loss: 1822441728.0000 - val_mae: 21377.9102 - val_mse: 1822441728.0000\n",
      "Epoch 58/100\n",
      "37/37 [==============================] - 0s 2ms/step - loss: 1289107200.0000 - mae: 23816.2480 - mse: 1289107200.0000 - val_loss: 1888000768.0000 - val_mae: 22468.6523 - val_mse: 1888000768.0000\n",
      "Epoch 59/100\n",
      "37/37 [==============================] - 0s 2ms/step - loss: 1293160448.0000 - mae: 24062.9355 - mse: 1293160448.0000 - val_loss: 1821126144.0000 - val_mae: 21296.2539 - val_mse: 1821126144.0000\n",
      "Epoch 60/100\n",
      "37/37 [==============================] - 0s 2ms/step - loss: 1300229376.0000 - mae: 24356.1680 - mse: 1300229376.0000 - val_loss: 1826497152.0000 - val_mae: 21334.0449 - val_mse: 1826497152.0000\n",
      "Epoch 61/100\n",
      "37/37 [==============================] - 0s 2ms/step - loss: 1203018752.0000 - mae: 23864.7246 - mse: 1203018752.0000 - val_loss: 1836156672.0000 - val_mae: 21344.2012 - val_mse: 1836156672.0000\n",
      "Epoch 62/100\n",
      "37/37 [==============================] - 0s 2ms/step - loss: 1164189184.0000 - mae: 23781.1777 - mse: 1164189184.0000 - val_loss: 1821933056.0000 - val_mae: 21116.4941 - val_mse: 1821933056.0000\n",
      "Epoch 63/100\n",
      "37/37 [==============================] - 0s 2ms/step - loss: 1227125888.0000 - mae: 24005.0469 - mse: 1227125888.0000 - val_loss: 1829385344.0000 - val_mae: 21218.2539 - val_mse: 1829385344.0000\n",
      "Epoch 64/100\n",
      "37/37 [==============================] - 0s 2ms/step - loss: 1221447552.0000 - mae: 23675.6953 - mse: 1221447552.0000 - val_loss: 1835728384.0000 - val_mae: 21255.6973 - val_mse: 1835728384.0000\n",
      "Epoch 65/100\n",
      "37/37 [==============================] - 0s 2ms/step - loss: 1237194496.0000 - mae: 23914.9004 - mse: 1237194496.0000 - val_loss: 1837413376.0000 - val_mae: 21166.6465 - val_mse: 1837413376.0000\n",
      "Epoch 66/100\n",
      "37/37 [==============================] - 0s 2ms/step - loss: 1283395456.0000 - mae: 24012.7734 - mse: 1283395456.0000 - val_loss: 1864642560.0000 - val_mae: 21518.6035 - val_mse: 1864642560.0000\n",
      "Epoch 67/100\n",
      "37/37 [==============================] - 0s 2ms/step - loss: 1168622080.0000 - mae: 24051.1875 - mse: 1168622080.0000 - val_loss: 1848326144.0000 - val_mae: 21326.1328 - val_mse: 1848326144.0000\n",
      "Epoch 68/100\n",
      "37/37 [==============================] - 0s 2ms/step - loss: 1213392384.0000 - mae: 24086.2422 - mse: 1213392384.0000 - val_loss: 1851857152.0000 - val_mae: 21314.6602 - val_mse: 1851857152.0000\n",
      "Epoch 69/100\n",
      "37/37 [==============================] - 0s 2ms/step - loss: 1193461888.0000 - mae: 22977.4863 - mse: 1193461888.0000 - val_loss: 1839949056.0000 - val_mae: 21078.0645 - val_mse: 1839949056.0000\n",
      "Epoch 70/100\n",
      "37/37 [==============================] - 0s 2ms/step - loss: 1186921088.0000 - mae: 23749.4102 - mse: 1186921088.0000 - val_loss: 1852340352.0000 - val_mae: 21226.9277 - val_mse: 1852340352.0000\n",
      "Epoch 71/100\n",
      "37/37 [==============================] - 0s 2ms/step - loss: 1226525824.0000 - mae: 23981.0762 - mse: 1226525824.0000 - val_loss: 1858504064.0000 - val_mae: 21156.7363 - val_mse: 1858504064.0000\n",
      "Epoch 72/100\n",
      "37/37 [==============================] - 0s 2ms/step - loss: 1218729728.0000 - mae: 24257.0039 - mse: 1218729728.0000 - val_loss: 1863655936.0000 - val_mae: 21243.1465 - val_mse: 1863655936.0000\n",
      "Epoch 73/100\n",
      "37/37 [==============================] - 0s 2ms/step - loss: 1202254720.0000 - mae: 23509.1602 - mse: 1202254720.0000 - val_loss: 1862993024.0000 - val_mae: 21123.4160 - val_mse: 1862993024.0000\n",
      "Epoch 74/100\n",
      "37/37 [==============================] - 0s 2ms/step - loss: 1301071232.0000 - mae: 24515.8770 - mse: 1301071232.0000 - val_loss: 1865639680.0000 - val_mae: 21099.9102 - val_mse: 1865639680.0000\n",
      "Epoch 75/100\n",
      "37/37 [==============================] - 0s 2ms/step - loss: 1191716992.0000 - mae: 23742.2012 - mse: 1191716992.0000 - val_loss: 1876008576.0000 - val_mae: 21290.2383 - val_mse: 1876008576.0000\n",
      "Epoch 76/100\n",
      "37/37 [==============================] - 0s 2ms/step - loss: 1232135552.0000 - mae: 23882.8945 - mse: 1232135552.0000 - val_loss: 1882536576.0000 - val_mae: 21210.9453 - val_mse: 1882536576.0000\n",
      "Epoch 77/100\n",
      "37/37 [==============================] - 0s 2ms/step - loss: 1111171584.0000 - mae: 23281.5156 - mse: 1111171584.0000 - val_loss: 1881851136.0000 - val_mae: 21201.6777 - val_mse: 1881851136.0000\n",
      "Epoch 78/100\n",
      "37/37 [==============================] - 0s 2ms/step - loss: 1212202624.0000 - mae: 23589.1074 - mse: 1212202624.0000 - val_loss: 1878212736.0000 - val_mae: 21138.3672 - val_mse: 1878212736.0000\n",
      "Epoch 79/100\n",
      "37/37 [==============================] - 0s 2ms/step - loss: 1131446528.0000 - mae: 22806.4980 - mse: 1131446528.0000 - val_loss: 1888051072.0000 - val_mae: 21185.3125 - val_mse: 1888051072.0000\n",
      "Epoch 80/100\n",
      "37/37 [==============================] - 0s 2ms/step - loss: 1103547520.0000 - mae: 22950.0508 - mse: 1103547520.0000 - val_loss: 1892168576.0000 - val_mae: 21167.9531 - val_mse: 1892168576.0000\n",
      "Epoch 81/100\n",
      "37/37 [==============================] - 0s 2ms/step - loss: 1250614912.0000 - mae: 23908.1973 - mse: 1250614912.0000 - val_loss: 1898229760.0000 - val_mae: 21225.8320 - val_mse: 1898229760.0000\n",
      "Epoch 82/100\n",
      "37/37 [==============================] - 0s 2ms/step - loss: 1148814976.0000 - mae: 22873.3281 - mse: 1148814976.0000 - val_loss: 1893237248.0000 - val_mae: 21061.3984 - val_mse: 1893237248.0000\n",
      "Epoch 83/100\n",
      "37/37 [==============================] - 0s 2ms/step - loss: 1218656896.0000 - mae: 23684.2012 - mse: 1218656896.0000 - val_loss: 1899283584.0000 - val_mae: 21160.1680 - val_mse: 1899283584.0000\n",
      "Epoch 84/100\n",
      "37/37 [==============================] - 0s 2ms/step - loss: 1227005056.0000 - mae: 23485.9277 - mse: 1227005056.0000 - val_loss: 1895933312.0000 - val_mae: 21064.0137 - val_mse: 1895933312.0000\n",
      "Epoch 85/100\n",
      "37/37 [==============================] - 0s 2ms/step - loss: 1115089664.0000 - mae: 22897.6543 - mse: 1115089664.0000 - val_loss: 1903935232.0000 - val_mae: 21143.7988 - val_mse: 1903935232.0000\n",
      "Epoch 86/100\n",
      "37/37 [==============================] - 0s 2ms/step - loss: 1155984000.0000 - mae: 22655.6562 - mse: 1155984000.0000 - val_loss: 1913191040.0000 - val_mae: 21301.5996 - val_mse: 1913191040.0000\n",
      "Epoch 87/100\n",
      "37/37 [==============================] - 0s 2ms/step - loss: 1176096384.0000 - mae: 23899.5664 - mse: 1176096384.0000 - val_loss: 1903618816.0000 - val_mae: 21047.7656 - val_mse: 1903618816.0000\n",
      "Epoch 88/100\n",
      "37/37 [==============================] - 0s 2ms/step - loss: 1142918784.0000 - mae: 22947.9355 - mse: 1142918784.0000 - val_loss: 1905237504.0000 - val_mae: 21047.1816 - val_mse: 1905237504.0000\n",
      "Epoch 89/100\n",
      "37/37 [==============================] - 0s 2ms/step - loss: 1057503168.0000 - mae: 23038.5078 - mse: 1057503168.0000 - val_loss: 1916313216.0000 - val_mae: 21102.0664 - val_mse: 1916313216.0000\n",
      "Epoch 90/100\n",
      "37/37 [==============================] - 0s 2ms/step - loss: 1148565376.0000 - mae: 23238.7129 - mse: 1148565376.0000 - val_loss: 1925116800.0000 - val_mae: 21275.6348 - val_mse: 1925116800.0000\n",
      "Epoch 91/100\n",
      "37/37 [==============================] - 0s 2ms/step - loss: 1110322176.0000 - mae: 23473.5566 - mse: 1110322176.0000 - val_loss: 1924304896.0000 - val_mae: 21203.9395 - val_mse: 1924304896.0000\n",
      "Epoch 92/100\n",
      "37/37 [==============================] - 0s 2ms/step - loss: 1136742400.0000 - mae: 23578.5508 - mse: 1136742400.0000 - val_loss: 1947153152.0000 - val_mae: 21754.0723 - val_mse: 1947153152.0000\n",
      "Epoch 93/100\n",
      "37/37 [==============================] - 0s 2ms/step - loss: 1091480192.0000 - mae: 23208.5410 - mse: 1091480192.0000 - val_loss: 1953895936.0000 - val_mae: 21865.9336 - val_mse: 1953895936.0000\n",
      "Epoch 94/100\n",
      "37/37 [==============================] - 0s 2ms/step - loss: 998411328.0000 - mae: 22409.7324 - mse: 998411328.0000 - val_loss: 1933841280.0000 - val_mae: 21161.0977 - val_mse: 1933841280.0000\n",
      "Epoch 95/100\n",
      "37/37 [==============================] - 0s 2ms/step - loss: 1181203456.0000 - mae: 23470.4570 - mse: 1181203456.0000 - val_loss: 1933364352.0000 - val_mae: 21095.0137 - val_mse: 1933364352.0000\n",
      "Epoch 96/100\n",
      "37/37 [==============================] - 0s 2ms/step - loss: 1136629376.0000 - mae: 23624.0801 - mse: 1136629376.0000 - val_loss: 1929379328.0000 - val_mae: 21087.5410 - val_mse: 1929379328.0000\n",
      "Epoch 97/100\n",
      "37/37 [==============================] - 0s 2ms/step - loss: 1136614912.0000 - mae: 23388.1309 - mse: 1136614912.0000 - val_loss: 1940693120.0000 - val_mae: 21282.7129 - val_mse: 1940693120.0000\n",
      "Epoch 98/100\n",
      "37/37 [==============================] - 0s 2ms/step - loss: 1118310016.0000 - mae: 23041.3926 - mse: 1118310016.0000 - val_loss: 1937617152.0000 - val_mae: 21253.0449 - val_mse: 1937617152.0000\n",
      "Epoch 99/100\n",
      "37/37 [==============================] - 0s 2ms/step - loss: 1095937408.0000 - mae: 23008.5684 - mse: 1095937408.0000 - val_loss: 1953188736.0000 - val_mae: 21497.7188 - val_mse: 1953188736.0000\n",
      "Epoch 100/100\n",
      "37/37 [==============================] - 0s 2ms/step - loss: 1058310144.0000 - mae: 22473.3574 - mse: 1058310144.0000 - val_loss: 1947037568.0000 - val_mae: 21117.6562 - val_mse: 1947037568.0000\n"
     ]
    }
   ],
   "source": [
    "history = keras_model.fit(X_train,\n",
    "                    y_train,\n",
    "                    validation_data=(X_valid, y_valid),\n",
    "                    epochs=100,\n",
    "                    verbose=1)"
   ]
  },
  {
   "cell_type": "code",
   "execution_count": 23,
   "metadata": {
    "execution": {
     "iopub.execute_input": "2021-01-23T01:40:34.867934Z",
     "iopub.status.busy": "2021-01-23T01:40:34.867127Z",
     "iopub.status.idle": "2021-01-23T01:40:34.980715Z",
     "shell.execute_reply": "2021-01-23T01:40:34.981244Z"
    },
    "papermill": {
     "duration": 0.226963,
     "end_time": "2021-01-23T01:40:34.981430",
     "exception": false,
     "start_time": "2021-01-23T01:40:34.754467",
     "status": "completed"
    },
    "tags": []
   },
   "outputs": [],
   "source": [
    "keras_results = keras_model.predict(test)\n",
    "\n",
    "keras_test_dict = collections.defaultdict(float)\n",
    "for test_id, result in zip(test_ids, keras_results):\n",
    "    keras_test_dict[int(test_id)] = float(result)"
   ]
  },
  {
   "cell_type": "code",
   "execution_count": 24,
   "metadata": {
    "execution": {
     "iopub.execute_input": "2021-01-23T01:40:35.204827Z",
     "iopub.status.busy": "2021-01-23T01:40:35.203931Z",
     "iopub.status.idle": "2021-01-23T01:40:35.226251Z",
     "shell.execute_reply": "2021-01-23T01:40:35.226762Z"
    },
    "papermill": {
     "duration": 0.132667,
     "end_time": "2021-01-23T01:40:35.226940",
     "exception": false,
     "start_time": "2021-01-23T01:40:35.094273",
     "status": "completed"
    },
    "tags": []
   },
   "outputs": [
    {
     "name": "stdout",
     "output_type": "stream",
     "text": [
      "        Id      SalePrice\n",
      "0     1461  100762.562500\n",
      "1     1462  139884.859375\n",
      "2     1463  165249.812500\n",
      "3     1464  173413.281250\n",
      "4     1465  154607.140625\n",
      "...    ...            ...\n",
      "1454  2915   59240.746094\n",
      "1455  2916   58079.554688\n",
      "1456  2917  165077.765625\n",
      "1457  2918  106334.398438\n",
      "1458  2919  212524.593750\n",
      "\n",
      "[1459 rows x 2 columns]\n"
     ]
    }
   ],
   "source": [
    "new_keras_dict = {}\n",
    "new_keras_dict['Id'] = [int(Id) for Id in keras_test_dict.keys()]\n",
    "new_keras_dict['SalePrice'] = [ float(value) for value in keras_test_dict.values()]\n",
    "\n",
    "result = pd.DataFrame.from_dict(new_keras_dict)\n",
    "print(result)\n",
    "result.to_csv('/kaggle/working/keras_submission.csv', index=False)"
   ]
  },
  {
   "cell_type": "code",
   "execution_count": null,
   "metadata": {
    "papermill": {
     "duration": 0.105338,
     "end_time": "2021-01-23T01:40:35.438661",
     "exception": false,
     "start_time": "2021-01-23T01:40:35.333323",
     "status": "completed"
    },
    "tags": []
   },
   "outputs": [],
   "source": []
  }
 ],
 "metadata": {
  "kernelspec": {
   "display_name": "Python 3",
   "language": "python",
   "name": "python3"
  },
  "language_info": {
   "codemirror_mode": {
    "name": "ipython",
    "version": 3
   },
   "file_extension": ".py",
   "mimetype": "text/x-python",
   "name": "python",
   "nbconvert_exporter": "python",
   "pygments_lexer": "ipython3",
   "version": "3.7.6"
  },
  "papermill": {
   "duration": 41.19022,
   "end_time": "2021-01-23T01:40:35.679690",
   "environment_variables": {},
   "exception": null,
   "input_path": "__notebook__.ipynb",
   "output_path": "__notebook__.ipynb",
   "parameters": {},
   "start_time": "2021-01-23T01:39:54.489470",
   "version": "2.1.0"
  }
 },
 "nbformat": 4,
 "nbformat_minor": 4
}
